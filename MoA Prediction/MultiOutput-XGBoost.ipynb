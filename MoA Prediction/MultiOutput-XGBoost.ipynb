{
 "cells": [
  {
   "cell_type": "markdown",
   "metadata": {},
   "source": [
    "# Mechanisms of Action (MoA) Prediction\n",
    "\n",
    "https://www.kaggle.com/c/lish-moa"
   ]
  },
  {
   "cell_type": "code",
   "execution_count": 48,
   "metadata": {},
   "outputs": [],
   "source": [
    "import numpy as np\n",
    "import pandas as pd\n",
    "\n",
    "from sklearn.multioutput import MultiOutputClassifier\n",
    "\n",
    "from xgboost import XGBClassifier"
   ]
  },
  {
   "cell_type": "markdown",
   "metadata": {},
   "source": [
    "## Data"
   ]
  },
  {
   "cell_type": "code",
   "execution_count": 49,
   "metadata": {
    "scrolled": false
   },
   "outputs": [],
   "source": [
    "#DATA_DIR = '/kaggle/input/lish-moa/'\n",
    "DATA_DIR = 'lish-moa/'\n",
    "\n",
    "train_features = pd.read_csv(DATA_DIR + 'train_features.csv')\n",
    "train_targets = pd.read_csv(DATA_DIR + 'train_targets_scored.csv')\n",
    "test_features = pd.read_csv(DATA_DIR + 'test_features.csv')\n",
    "\n",
    "test_targets = pd.DataFrame(0, index= range(len(test_features)), columns=train_targets.columns)\n",
    "test_targets['sig_id'] = test_features['sig_id']"
   ]
  },
  {
   "cell_type": "markdown",
   "metadata": {},
   "source": [
    "## Preprocess"
   ]
  },
  {
   "cell_type": "code",
   "execution_count": 51,
   "metadata": {},
   "outputs": [],
   "source": [
    "# Màscara dels registres amb cp_type = ctl_vehicle\n",
    "ctl_mask = train_features.cp_type=='ctl_vehicle'\n",
    "\n",
    "# Binarització de cp_dose \n",
    "train_features['is_D1'] = train_features['cp_dose'] == 'D1'\n",
    "\n",
    "# Eliminem columnes\n",
    "train_features.drop(columns=['sig_id','cp_type','cp_dose'], inplace=True)\n",
    "train_targets.drop(columns=['sig_id'], inplace=True)\n",
    "\n",
    "# Dades d'entrenament\n",
    "X = train_features[~ctl_mask].to_numpy()\n",
    "Y = train_targets[~ctl_mask].to_numpy()"
   ]
  },
  {
   "cell_type": "markdown",
   "metadata": {},
   "source": [
    "## Model"
   ]
  },
  {
   "cell_type": "code",
   "execution_count": null,
   "metadata": {},
   "outputs": [],
   "source": [
    "# Paràmetres\n",
    "\n",
    "ESTIMATORS = 20\n",
    "MAX_DEPTH = 8"
   ]
  },
  {
   "cell_type": "code",
   "execution_count": null,
   "metadata": {},
   "outputs": [],
   "source": [
    "# Preprocess\n",
    "\n",
    "test_ctl_mask = test_features.cp_type=='ctl_vehicle'\n",
    "test_features['is_D1'] = test_features['cp_dose'] == 'D1'\n",
    "test_features.drop(columns=['sig_id','cp_type','cp_dose'], inplace=True)\n",
    "\n",
    "test = test_features[~test_ctl_mask].to_numpy()"
   ]
  },
  {
   "cell_type": "code",
   "execution_count": null,
   "metadata": {},
   "outputs": [],
   "source": [
    "# Train\n",
    "\n",
    "clf = MultiOutputClassifier(\n",
    "    XGBClassifier(n_estimators= ESTIMATORS, max_depth=MAX_DEPTH, objective='binary:logistic'))\n",
    "\n",
    "clf.fit(X, Y)"
   ]
  },
  {
   "cell_type": "code",
   "execution_count": null,
   "metadata": {},
   "outputs": [],
   "source": [
    "# Predict\n",
    "\n",
    "pred = clf.predict_proba(test)\n",
    "test_targets.loc[~test_ctl_mask,'5-alpha_reductase_inhibitor':] = np.array(pred)[:,:,1].T\n",
    "test_targets.to_csv('submission.csv', index = False)"
   ]
  }
 ],
 "metadata": {
  "kernelspec": {
   "display_name": "Python 3",
   "language": "python",
   "name": "python3"
  },
  "language_info": {
   "codemirror_mode": {
    "name": "ipython",
    "version": 3
   },
   "file_extension": ".py",
   "mimetype": "text/x-python",
   "name": "python",
   "nbconvert_exporter": "python",
   "pygments_lexer": "ipython3",
   "version": "3.6.8"
  }
 },
 "nbformat": 4,
 "nbformat_minor": 2
}
