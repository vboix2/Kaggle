{
 "cells": [
  {
   "cell_type": "code",
   "execution_count": null,
   "metadata": {},
   "outputs": [],
   "source": [
    "import numpy as np\n",
    "import pandas as pd\n",
    "\n",
    "from sklearn.model_selection import GridSearchCV\n",
    "from sklearn.decomposition import PCA\n",
    "from sklearn.metrics import log_loss, make_scorer\n",
    "\n",
    "from xgboost import XGBClassifier\n",
    "\n",
    "import warnings\n",
    "warnings.filterwarnings('ignore')"
   ]
  },
  {
   "cell_type": "code",
   "execution_count": null,
   "metadata": {},
   "outputs": [],
   "source": [
    "# Data\n",
    "\n",
    "DATA_DIR = '/kaggle/input/lish-moa/'\n",
    "\n",
    "train_features = pd.read_csv(DATA_DIR + 'train_features.csv')\n",
    "train_targets = pd.read_csv(DATA_DIR + 'train_targets_scored.csv')\n",
    "test_features = pd.read_csv(DATA_DIR + 'test_features.csv')\n",
    "\n",
    "test_targets = pd.DataFrame(0, index= range(len(test_features)), columns=train_targets.columns)\n",
    "test_targets['sig_id'] = test_features['sig_id']"
   ]
  },
  {
   "cell_type": "code",
   "execution_count": null,
   "metadata": {},
   "outputs": [],
   "source": [
    "# Preprocess\n",
    "\n",
    "# cp_type mask\n",
    "trt_mask = train_features.cp_type=='trt_cp'\n",
    "test_trt_mask = test_features.cp_type=='trt_cp'\n",
    "\n",
    "# cp_dose binarization\n",
    "train_features['is_D1'] = train_features['cp_dose'] == 'D1'\n",
    "test_features['is_D1'] = test_features['cp_dose'] == 'D1'\n",
    "\n",
    "# Drop categorical columns\n",
    "train_features.drop(columns=['sig_id','cp_type','cp_dose'], inplace=True)\n",
    "train_targets.drop(columns=['sig_id'], inplace=True)\n",
    "test_features.drop(columns=['sig_id','cp_type','cp_dose'], inplace=True)"
   ]
  },
  {
   "cell_type": "code",
   "execution_count": null,
   "metadata": {},
   "outputs": [],
   "source": [
    "# Features\n",
    "\n",
    "GENES = [col for col in train_features.columns if col.startswith('g-')] # 772 \n",
    "CELLS = [col for col in train_features.columns if col.startswith('c-')] # 100\n",
    "CAT = ['cp_time','is_D1']"
   ]
  },
  {
   "cell_type": "code",
   "execution_count": null,
   "metadata": {},
   "outputs": [],
   "source": [
    "def pca_apply(N_GENES, N_CELLS):\n",
    "    \"\"\"Redueix les dimensions de les dades d'entrenament i test utilitzant PCA\"\"\"\n",
    "\n",
    "    pca_genes = PCA(n_components=N_GENES)\n",
    "    pca_genes.fit(train_features.loc[trt_mask, GENES].append(test_features.loc[test_trt_mask, GENES], ignore_index=True))\n",
    "    X_genes = pca_genes.transform(train_features.loc[trt_mask, GENES])\n",
    "    test_genes = pca_genes.transform(test_features.loc[test_trt_mask, GENES])\n",
    "\n",
    "    pca_cells = PCA(n_components=N_CELLS)\n",
    "    pca_cells.fit(train_features.loc[trt_mask, CELLS].append(test_features.loc[test_trt_mask, CELLS], ignore_index=True))\n",
    "    X_cells = pca_cells.transform(train_features.loc[trt_mask, CELLS])\n",
    "    test_cells = pca_cells.transform(test_features.loc[test_trt_mask, CELLS])\n",
    "\n",
    "    X_cat = train_features.loc[trt_mask, CAT].to_numpy()\n",
    "    test_cat = test_features.loc[test_trt_mask, CAT].to_numpy()\n",
    "    \n",
    "    X_gc = np.append(X_genes,X_cells, axis=1)\n",
    "    df_X = np.append(X_cat, X_gc, axis=1)\n",
    "\n",
    "    test_gc = np.append(test_genes,test_cells, axis=1)\n",
    "    df_test = np.append(test_cat, test_gc, axis=1)\n",
    "    \n",
    "    return df_X, df_test"
   ]
  },
  {
   "cell_type": "code",
   "execution_count": null,
   "metadata": {},
   "outputs": [],
   "source": [
    "# Models\n",
    "\n",
    "X, test = pca_apply(20,5)\n",
    "Y = train_targets.loc[trt_mask,:].to_numpy()\n",
    "\n",
    "COLS = list(range(Y.shape[1]))\n",
    "\n",
    "parameters = {'n_estimators':[10,15,20],\n",
    "              'reg_lambda':[5,10]\n",
    "             }\n",
    "Y_pred = []\n",
    "loss = []\n",
    "log_loss_function = make_scorer(log_loss, greater_is_better=False, needs_proba=True, labels=[0,1])\n",
    "\n",
    "\n",
    "for col in COLS:\n",
    "    \n",
    "    # Hyperparameters\n",
    "    search = GridSearchCV(XGBClassifier(objective='binary:logistic', learning_rate=1, gamma=10),\n",
    "                          parameters, cv=4, scoring=log_loss_function,\n",
    "                          return_train_score=False)\n",
    "    \n",
    "    search.fit(X, Y[:,col])\n",
    "    \n",
    "    # Predict\n",
    "    Y_pred.append(search.predict_proba(test)[:,1].T)\n",
    "    \n",
    "    # Loss\n",
    "    loss.append(search.best_score_)\n",
    "        \n",
    "    print(col, \"\\t loss: \", search.best_score_, \"\\t\", search.best_params_, \"  \\t\", np.mean(loss))      "
   ]
  },
  {
   "cell_type": "code",
   "execution_count": null,
   "metadata": {},
   "outputs": [],
   "source": [
    "# Export results\n",
    "\n",
    "test_targets.loc[test_trt_mask,'5-alpha_reductase_inhibitor':] = np.array(Y_pred).T \n",
    "test_targets.to_csv('submission.csv', index = False)"
   ]
  }
 ],
 "metadata": {
  "kernelspec": {
   "display_name": "Python 3",
   "language": "python",
   "name": "python3"
  },
  "language_info": {
   "codemirror_mode": {
    "name": "ipython",
    "version": 3
   },
   "file_extension": ".py",
   "mimetype": "text/x-python",
   "name": "python",
   "nbconvert_exporter": "python",
   "pygments_lexer": "ipython3",
   "version": "3.6.8"
  }
 },
 "nbformat": 4,
 "nbformat_minor": 2
}
