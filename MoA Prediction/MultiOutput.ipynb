{
 "cells": [
  {
   "cell_type": "markdown",
   "metadata": {},
   "source": [
    "# Mechanisms of Action (MoA) Prediction\n",
    "\n",
    "https://www.kaggle.com/c/lish-moa"
   ]
  },
  {
   "cell_type": "code",
   "execution_count": 1,
   "metadata": {},
   "outputs": [],
   "source": [
    "import numpy as np\n",
    "import pandas as pd\n",
    "\n",
    "from sklearn.model_selection import train_test_split\n",
    "from sklearn.multioutput import MultiOutputClassifier\n",
    "\n",
    "from xgboost import XGBClassifier\n",
    "#from sklearn.tree import DecisionTreeClassifier\n",
    "#from sklearn.linear_model import LogisticRegression\n",
    "#from sklearn.ensemble import RandomForestClassifier"
   ]
  },
  {
   "cell_type": "markdown",
   "metadata": {},
   "source": [
    "## Data"
   ]
  },
  {
   "cell_type": "code",
   "execution_count": 5,
   "metadata": {
    "scrolled": false
   },
   "outputs": [],
   "source": [
    "#DATA_DIR = '/kaggle/input/lish-moa/'\n",
    "DATA_DIR = 'lish-moa/'\n",
    "\n",
    "train_features = pd.read_csv(DATA_DIR + 'train_features.csv')\n",
    "train_targets = pd.read_csv(DATA_DIR + 'train_targets_scored.csv')\n",
    "#test = pd.read_csv(DATA_DIR + 'test_features.csv')"
   ]
  },
  {
   "cell_type": "markdown",
   "metadata": {},
   "source": [
    "## Preprocess"
   ]
  },
  {
   "cell_type": "code",
   "execution_count": 6,
   "metadata": {},
   "outputs": [],
   "source": [
    "train_features = pd.get_dummies(train_features, columns=['cp_type','cp_dose'], dummy_na=False)"
   ]
  },
  {
   "cell_type": "code",
   "execution_count": 9,
   "metadata": {},
   "outputs": [
    {
     "data": {
      "text/plain": [
       "206"
      ]
     },
     "execution_count": 9,
     "metadata": {},
     "output_type": "execute_result"
    }
   ],
   "source": [
    "N_CLASSES = train_targets.shape[1] - 1"
   ]
  },
  {
   "cell_type": "code",
   "execution_count": 10,
   "metadata": {},
   "outputs": [],
   "source": [
    "X = train_features.iloc[:,1:].to_numpy()\n",
    "Y = train_targets.iloc[:,1:].to_numpy()\n",
    "\n",
    "del train_features, train_targets"
   ]
  },
  {
   "cell_type": "code",
   "execution_count": 11,
   "metadata": {},
   "outputs": [],
   "source": [
    "X_train, X_test, Y_train, Y_test = train_test_split(X, Y, test_size=0.30)"
   ]
  },
  {
   "cell_type": "markdown",
   "metadata": {},
   "source": [
    "## Model"
   ]
  },
  {
   "cell_type": "code",
   "execution_count": 12,
   "metadata": {
    "scrolled": true
   },
   "outputs": [
    {
     "data": {
      "text/plain": [
       "MultiOutputClassifier(estimator=XGBClassifier(base_score=0.5, booster='gbtree',\n",
       "                                              colsample_bylevel=1,\n",
       "                                              colsample_bynode=1,\n",
       "                                              colsample_bytree=1, gamma=0,\n",
       "                                              learning_rate=0.1,\n",
       "                                              max_delta_step=0, max_depth=4,\n",
       "                                              min_child_weight=1, missing=None,\n",
       "                                              n_estimators=2, n_jobs=1,\n",
       "                                              nthread=None,\n",
       "                                              objective='binary:logistic',\n",
       "                                              random_state=0, reg_alpha=0,\n",
       "                                              reg_lambda=1, scale_pos_weight=1,\n",
       "                                              seed=None, silent=None,\n",
       "                                              subsample=1, verbosity=1),\n",
       "                      n_jobs=None)"
      ]
     },
     "execution_count": 12,
     "metadata": {},
     "output_type": "execute_result"
    }
   ],
   "source": [
    "clf = MultiOutputClassifier(\n",
    "    XGBClassifier(n_estimators= 2, max_depth=4, objective='binary:logistic'))\n",
    "\n",
    "clf.fit(X_train, Y_train[:,:2])"
   ]
  },
  {
   "cell_type": "code",
   "execution_count": 19,
   "metadata": {},
   "outputs": [
    {
     "data": {
      "text/plain": [
       "[array([[0.5941646, 0.4058354],\n",
       "        [0.5941646, 0.4058354],\n",
       "        [0.5941646, 0.4058354],\n",
       "        ...,\n",
       "        [0.5941646, 0.4058354],\n",
       "        [0.5941646, 0.4058354],\n",
       "        [0.5941646, 0.4058354]], dtype=float32), array([[0.594192, 0.405808],\n",
       "        [0.594192, 0.405808],\n",
       "        [0.594192, 0.405808],\n",
       "        ...,\n",
       "        [0.594192, 0.405808],\n",
       "        [0.594192, 0.405808],\n",
       "        [0.594192, 0.405808]], dtype=float32)]"
      ]
     },
     "execution_count": 19,
     "metadata": {},
     "output_type": "execute_result"
    }
   ],
   "source": [
    "clf.predict_proba(X_test)"
   ]
  }
 ],
 "metadata": {
  "kernelspec": {
   "display_name": "Python 3",
   "language": "python",
   "name": "python3"
  },
  "language_info": {
   "codemirror_mode": {
    "name": "ipython",
    "version": 3
   },
   "file_extension": ".py",
   "mimetype": "text/x-python",
   "name": "python",
   "nbconvert_exporter": "python",
   "pygments_lexer": "ipython3",
   "version": "3.6.8"
  }
 },
 "nbformat": 4,
 "nbformat_minor": 2
}
