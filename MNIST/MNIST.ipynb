{
 "cells": [
  {
   "cell_type": "markdown",
   "metadata": {},
   "source": [
    "# Digit recognizer\n",
    "\n",
    "Dataset: [https://www.kaggle.com/c/digit-recognizer/data](https://www.kaggle.com/c/digit-recognizer/data)"
   ]
  },
  {
   "cell_type": "code",
   "execution_count": null,
   "metadata": {
    "_uuid": "e24b1719c854db4ee63576cd66540fb81db20a5f",
    "colab": {},
    "colab_type": "code",
    "id": "Ha9HaCYPN4WJ"
   },
   "outputs": [],
   "source": [
    "# Càrrega dels mòduls\n",
    "\n",
    "import numpy as np\n",
    "import matplotlib.pyplot as plt\n",
    "import pandas as pd\n",
    "\n",
    "from sklearn.model_selection import cross_val_score, GridSearchCV\n",
    "\n",
    "from keras.optimizers import SGD\n",
    "from keras.utils import to_categorical\n",
    "from keras.models import Sequential\n",
    "from keras.layers import Dense, Conv2D, Flatten, MaxPooling2D, Dropout\n",
    "from keras.wrappers.scikit_learn import KerasClassifier"
   ]
  },
  {
   "cell_type": "code",
   "execution_count": null,
   "metadata": {
    "_uuid": "b34b3a076cabeed5570667d68d9d683c3fe11160",
    "colab": {},
    "colab_type": "code",
    "id": "X_TJTsnYN4WO"
   },
   "outputs": [],
   "source": [
    "# Càrrega de dades\n",
    "\n",
    "train = np.loadtxt('train.csv', delimiter=',', skiprows=1)\n",
    "test = np.loadtxt('test.csv', delimiter=',', skiprows=1)\n",
    "\n",
    "X = train[:,1:]\n",
    "y = train[:,0].astype('int')"
   ]
  },
  {
   "cell_type": "code",
   "execution_count": null,
   "metadata": {
    "colab": {},
    "colab_type": "code",
    "id": "mlsN2nzWN4WQ"
   },
   "outputs": [],
   "source": [
    "# Transformació de les dades a l'interval [0,1]\n",
    "\n",
    "X = X/255\n",
    "X_test = test/255"
   ]
  },
  {
   "cell_type": "code",
   "execution_count": null,
   "metadata": {
    "_uuid": "5c915b5879d5389a297bc93fb19c665a747a5657",
    "colab": {
     "base_uri": "https://localhost:8080/",
     "height": 110
    },
    "colab_type": "code",
    "id": "4G-iP5UMN4WT",
    "outputId": "9752d045-8281-4d33-d730-7fd94a6492d2"
   },
   "outputs": [],
   "source": [
    "# Visualització d'una mostra de les dades\n",
    "\n",
    "fig, ax = plt.subplots(1,15, figsize=(15,15))\n",
    "for i in range(15):\n",
    "    ax[i].imshow(X[i].reshape(28,28), cmap='gray')\n",
    "    ax[i].set_title(y[i])\n",
    "plt.show()"
   ]
  },
  {
   "cell_type": "code",
   "execution_count": null,
   "metadata": {
    "_uuid": "9330b35a5c460f11fb6290ab9a0b28dfae10b952",
    "colab": {},
    "colab_type": "code",
    "id": "UKdikO_lN4Wf"
   },
   "outputs": [],
   "source": [
    "# Preparació de les dades\n",
    "\n",
    "X = X.reshape(X.shape[0], 28, 28, 1)\n",
    "X_test = X_test.reshape(X_test.shape[0], 28, 28, 1)\n",
    "\n",
    "y = to_categorical(y, 10)\n",
    "\n",
    "input_shape = (28, 28, 1)"
   ]
  },
  {
   "cell_type": "code",
   "execution_count": null,
   "metadata": {
    "_uuid": "e4dba24ae3047cf87050a8e3d4065330623f45d2",
    "colab": {
     "base_uri": "https://localhost:8080/",
     "height": 1595
    },
    "colab_type": "code",
    "id": "pKmeGPVbN4Wk",
    "outputId": "465ebee7-fd82-40d9-ba09-157d63b4aa34"
   },
   "outputs": [],
   "source": [
    "# Optimització de la taxa d'aprenentatge\n",
    "\n",
    "%time\n",
    "def xarxaNeuronal(lr):\n",
    "    model = Sequential()\n",
    "    model.add(Conv2D(32, (5, 5), activation='relu', input_shape=input_shape))\n",
    "    model.add(MaxPooling2D(pool_size=(1, 1)))\n",
    "    model.add(Dropout(0.5))\n",
    "    model.add(Conv2D(128, (7, 7), activation='relu'))\n",
    "    model.add(MaxPooling2D(pool_size=(1, 1)))\n",
    "    model.add(Dropout(0.5))\n",
    "    model.add(Flatten())\n",
    "    model.add(Dense(128, activation='sigmoid'))\n",
    "    model.add(Dense(10, activation='softmax'))\n",
    "    model.compile(optimizer=SGD(lr=lr), loss='categorical_crossentropy',\n",
    "                  metrics=['accuracy'])   \n",
    "    return model\n",
    "\n",
    "parameters = {'lr':(0.01, 0.1)}\n",
    "nn = KerasClassifier(build_fn=xarxaNeuronal, epochs=1, batch_size=16, verbose=0)\n",
    "search = GridSearchCV(nn, parameters, cv=3, return_train_score=False)\n",
    "search.fit(X, y, verbose=0)\n",
    "\n",
    "results = pd.DataFrame(search.cv_results_)\n",
    "atributes=['params','mean_test_score', 'rank_test_score']\n",
    "results[atributes].sort_values(by='mean_test_score', ascending=False)"
   ]
  },
  {
   "cell_type": "code",
   "execution_count": null,
   "metadata": {
    "colab": {},
    "colab_type": "code",
    "id": "EeUNcQp6bTKm"
   },
   "outputs": [],
   "source": [
    "# Creació i entrenament de la xarxa neuronal\n",
    "\n",
    "model = Sequential()\n",
    "model.add(Conv2D(32, (5, 5), activation='relu', input_shape=input_shape))\n",
    "model.add(MaxPooling2D(pool_size=(1, 1)))\n",
    "model.add(Dropout(0.5))\n",
    "model.add(Conv2D(128, (7, 7), activation='relu'))\n",
    "model.add(MaxPooling2D(pool_size=(1, 1)))\n",
    "model.add(Dropout(0.5))\n",
    "model.add(Flatten())\n",
    "model.add(Dense(128, activation='sigmoid'))\n",
    "model.add(Dense(10, activation='softmax'))\n",
    "model.compile(optimizer=SGD(lr=0.1), loss='categorical_crossentropy', metrics=['accuracy']) \n",
    "\n",
    "model.fit(X, y, epochs=50, batch_size=16, verbose=0)"
   ]
  },
  {
   "cell_type": "code",
   "execution_count": null,
   "metadata": {},
   "outputs": [],
   "source": [
    "# Predicció del conjunt de prova\n",
    "\n",
    "y_pred_nn = model.predict(X_test)\n",
    "y_pred = np.argmax(y_pred_nn, 1)"
   ]
  },
  {
   "cell_type": "code",
   "execution_count": null,
   "metadata": {
    "_uuid": "8a0955cbb7adf16b43b4110ea4149aa197d8761c",
    "colab": {
     "base_uri": "https://localhost:8080/",
     "height": 130
    },
    "colab_type": "code",
    "id": "6XhPl9dpN4XA",
    "outputId": "14b67ded-1451-41c8-ebe7-39fc7ac1f1fc"
   },
   "outputs": [],
   "source": [
    "# Visualització dels resultats\n",
    "\n",
    "fig, ax = plt.subplots(1,15, figsize=(15,15))\n",
    "for i in range(15):\n",
    "    ax[i].imshow(test[i].reshape(28,28), cmap='gray')\n",
    "    ax[i].set_title(\"nn: {}\".format(y_pred[i]))\n",
    "plt.show()"
   ]
  },
  {
   "cell_type": "code",
   "execution_count": null,
   "metadata": {
    "_uuid": "f88652fe3c91975904099b2e53d1d4885a8ca171",
    "colab": {},
    "colab_type": "code",
    "id": "YmTMpGmaN4XE"
   },
   "outputs": [],
   "source": [
    "# Emmagatzematge dels resultats\n",
    "\n",
    "results = np.column_stack((range(1,y_pred.size+1),y_pred))\n",
    "np.savetxt('resultats.csv', results, delimiter=',', comments=\"\", fmt=\"%d\", header=\"ImageId,Label\")"
   ]
  }
 ],
 "metadata": {
  "accelerator": "GPU",
  "colab": {
   "collapsed_sections": [],
   "name": "MNIST-02.ipynb",
   "provenance": [],
   "version": "0.3.2"
  },
  "kernelspec": {
   "display_name": "Python 3",
   "language": "python",
   "name": "python3"
  },
  "language_info": {
   "codemirror_mode": {
    "name": "ipython",
    "version": 3
   },
   "file_extension": ".py",
   "mimetype": "text/x-python",
   "name": "python",
   "nbconvert_exporter": "python",
   "pygments_lexer": "ipython3",
   "version": "3.6.8"
  }
 },
 "nbformat": 4,
 "nbformat_minor": 1
}
