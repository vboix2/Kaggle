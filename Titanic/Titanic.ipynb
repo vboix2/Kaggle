{
 "cells": [
  {
   "cell_type": "markdown",
   "metadata": {},
   "source": [
    "# Anàlisi de les dades del Titanic\n",
    "\n",
    "[https://www.kaggle.com/c/titanic](https://www.kaggle.com/c/titanic)"
   ]
  },
  {
   "cell_type": "markdown",
   "metadata": {},
   "source": [
    "## 1. Preparació de l'entorn"
   ]
  },
  {
   "cell_type": "code",
   "execution_count": 1,
   "metadata": {},
   "outputs": [],
   "source": [
    "# Importació de mòduls\n",
    "\n",
    "import numpy as np\n",
    "import pandas as pd\n",
    "import matplotlib.pyplot as plt\n",
    "import seaborn as sns\n",
    "from scipy.stats import norm\n",
    "import re as re\n",
    "\n",
    "%matplotlib inline"
   ]
  },
  {
   "cell_type": "code",
   "execution_count": 4,
   "metadata": {},
   "outputs": [],
   "source": [
    "# Càrrega de dades\n",
    "\n",
    "train = pd.read_csv('train.csv')\n",
    "test = pd.read_csv('test.csv')\n",
    "dades = [train, test]"
   ]
  },
  {
   "cell_type": "code",
   "execution_count": 5,
   "metadata": {},
   "outputs": [
    {
     "name": "stdout",
     "output_type": "stream",
     "text": [
      "<class 'pandas.core.frame.DataFrame'>\n",
      "RangeIndex: 891 entries, 0 to 890\n",
      "Data columns (total 12 columns):\n",
      "PassengerId    891 non-null int64\n",
      "Survived       891 non-null int64\n",
      "Pclass         891 non-null int64\n",
      "Name           891 non-null object\n",
      "Sex            891 non-null object\n",
      "Age            714 non-null float64\n",
      "SibSp          891 non-null int64\n",
      "Parch          891 non-null int64\n",
      "Ticket         891 non-null object\n",
      "Fare           891 non-null float64\n",
      "Cabin          204 non-null object\n",
      "Embarked       889 non-null object\n",
      "dtypes: float64(2), int64(5), object(5)\n",
      "memory usage: 83.6+ KB\n"
     ]
    }
   ],
   "source": [
    "# Informació dels atributs\n",
    "\n",
    "train.info()"
   ]
  },
  {
   "cell_type": "code",
   "execution_count": 6,
   "metadata": {},
   "outputs": [
    {
     "data": {
      "text/html": [
       "<div>\n",
       "<style scoped>\n",
       "    .dataframe tbody tr th:only-of-type {\n",
       "        vertical-align: middle;\n",
       "    }\n",
       "\n",
       "    .dataframe tbody tr th {\n",
       "        vertical-align: top;\n",
       "    }\n",
       "\n",
       "    .dataframe thead th {\n",
       "        text-align: right;\n",
       "    }\n",
       "</style>\n",
       "<table border=\"1\" class=\"dataframe\">\n",
       "  <thead>\n",
       "    <tr style=\"text-align: right;\">\n",
       "      <th></th>\n",
       "      <th>PassengerId</th>\n",
       "      <th>Survived</th>\n",
       "      <th>Pclass</th>\n",
       "      <th>Age</th>\n",
       "      <th>SibSp</th>\n",
       "      <th>Parch</th>\n",
       "      <th>Fare</th>\n",
       "    </tr>\n",
       "  </thead>\n",
       "  <tbody>\n",
       "    <tr>\n",
       "      <th>count</th>\n",
       "      <td>891.000000</td>\n",
       "      <td>891.000000</td>\n",
       "      <td>891.000000</td>\n",
       "      <td>714.000000</td>\n",
       "      <td>891.000000</td>\n",
       "      <td>891.000000</td>\n",
       "      <td>891.000000</td>\n",
       "    </tr>\n",
       "    <tr>\n",
       "      <th>mean</th>\n",
       "      <td>446.000000</td>\n",
       "      <td>0.383838</td>\n",
       "      <td>2.308642</td>\n",
       "      <td>29.699118</td>\n",
       "      <td>0.523008</td>\n",
       "      <td>0.381594</td>\n",
       "      <td>32.204208</td>\n",
       "    </tr>\n",
       "    <tr>\n",
       "      <th>std</th>\n",
       "      <td>257.353842</td>\n",
       "      <td>0.486592</td>\n",
       "      <td>0.836071</td>\n",
       "      <td>14.526497</td>\n",
       "      <td>1.102743</td>\n",
       "      <td>0.806057</td>\n",
       "      <td>49.693429</td>\n",
       "    </tr>\n",
       "    <tr>\n",
       "      <th>min</th>\n",
       "      <td>1.000000</td>\n",
       "      <td>0.000000</td>\n",
       "      <td>1.000000</td>\n",
       "      <td>0.420000</td>\n",
       "      <td>0.000000</td>\n",
       "      <td>0.000000</td>\n",
       "      <td>0.000000</td>\n",
       "    </tr>\n",
       "    <tr>\n",
       "      <th>25%</th>\n",
       "      <td>223.500000</td>\n",
       "      <td>0.000000</td>\n",
       "      <td>2.000000</td>\n",
       "      <td>20.125000</td>\n",
       "      <td>0.000000</td>\n",
       "      <td>0.000000</td>\n",
       "      <td>7.910400</td>\n",
       "    </tr>\n",
       "    <tr>\n",
       "      <th>50%</th>\n",
       "      <td>446.000000</td>\n",
       "      <td>0.000000</td>\n",
       "      <td>3.000000</td>\n",
       "      <td>28.000000</td>\n",
       "      <td>0.000000</td>\n",
       "      <td>0.000000</td>\n",
       "      <td>14.454200</td>\n",
       "    </tr>\n",
       "    <tr>\n",
       "      <th>75%</th>\n",
       "      <td>668.500000</td>\n",
       "      <td>1.000000</td>\n",
       "      <td>3.000000</td>\n",
       "      <td>38.000000</td>\n",
       "      <td>1.000000</td>\n",
       "      <td>0.000000</td>\n",
       "      <td>31.000000</td>\n",
       "    </tr>\n",
       "    <tr>\n",
       "      <th>max</th>\n",
       "      <td>891.000000</td>\n",
       "      <td>1.000000</td>\n",
       "      <td>3.000000</td>\n",
       "      <td>80.000000</td>\n",
       "      <td>8.000000</td>\n",
       "      <td>6.000000</td>\n",
       "      <td>512.329200</td>\n",
       "    </tr>\n",
       "  </tbody>\n",
       "</table>\n",
       "</div>"
      ],
      "text/plain": [
       "       PassengerId    Survived      Pclass         Age       SibSp  \\\n",
       "count   891.000000  891.000000  891.000000  714.000000  891.000000   \n",
       "mean    446.000000    0.383838    2.308642   29.699118    0.523008   \n",
       "std     257.353842    0.486592    0.836071   14.526497    1.102743   \n",
       "min       1.000000    0.000000    1.000000    0.420000    0.000000   \n",
       "25%     223.500000    0.000000    2.000000   20.125000    0.000000   \n",
       "50%     446.000000    0.000000    3.000000   28.000000    0.000000   \n",
       "75%     668.500000    1.000000    3.000000   38.000000    1.000000   \n",
       "max     891.000000    1.000000    3.000000   80.000000    8.000000   \n",
       "\n",
       "            Parch        Fare  \n",
       "count  891.000000  891.000000  \n",
       "mean     0.381594   32.204208  \n",
       "std      0.806057   49.693429  \n",
       "min      0.000000    0.000000  \n",
       "25%      0.000000    7.910400  \n",
       "50%      0.000000   14.454200  \n",
       "75%      0.000000   31.000000  \n",
       "max      6.000000  512.329200  "
      ]
     },
     "execution_count": 6,
     "metadata": {},
     "output_type": "execute_result"
    }
   ],
   "source": [
    "# Descripció estadística dels atributs numèrics\n",
    "\n",
    "train.describe()"
   ]
  },
  {
   "cell_type": "markdown",
   "metadata": {},
   "source": [
    "## 2. Exploració i transformació de les dades"
   ]
  },
  {
   "cell_type": "markdown",
   "metadata": {},
   "source": [
    "### PassengerId"
   ]
  },
  {
   "cell_type": "code",
   "execution_count": 7,
   "metadata": {},
   "outputs": [],
   "source": [
    "# Eliminem l'atribut PassengerId\n",
    "\n",
    "train.drop(['PassengerId'], axis=1, inplace=True)"
   ]
  },
  {
   "cell_type": "markdown",
   "metadata": {},
   "source": [
    "### Survived"
   ]
  },
  {
   "cell_type": "code",
   "execution_count": 8,
   "metadata": {},
   "outputs": [
    {
     "data": {
      "image/png": "[encoded data removed]",
      "text/plain": [
       "<Figure size 432x288 with 1 Axes>"
      ]
     },
     "metadata": {},
     "output_type": "display_data"
    }
   ],
   "source": [
    "# Percentatge de supervivents\n",
    "\n",
    "survived = [train.loc[train.Survived==1, 'Survived'].count(),train.loc[train.Survived==0, 'Survived'].count()]\n",
    "fig1, ax1 = plt.subplots()\n",
    "plt.pie(survived, shadow = True, labels = [\"Supervivents\",\"Morts\"], explode = (0.1,0))\n",
    "ax1.axis('equal')\n",
    "plt.show()"
   ]
  },
  {
   "cell_type": "markdown",
   "metadata": {},
   "source": [
    "### Pclass"
   ]
  },
  {
   "cell_type": "code",
   "execution_count": 9,
   "metadata": {},
   "outputs": [
    {
     "data": {
      "text/html": [
       "<div>\n",
       "<style scoped>\n",
       "    .dataframe tbody tr th:only-of-type {\n",
       "        vertical-align: middle;\n",
       "    }\n",
       "\n",
       "    .dataframe tbody tr th {\n",
       "        vertical-align: top;\n",
       "    }\n",
       "\n",
       "    .dataframe thead th {\n",
       "        text-align: right;\n",
       "    }\n",
       "</style>\n",
       "<table border=\"1\" class=\"dataframe\">\n",
       "  <thead>\n",
       "    <tr style=\"text-align: right;\">\n",
       "      <th>Pclass</th>\n",
       "      <th>1</th>\n",
       "      <th>2</th>\n",
       "      <th>3</th>\n",
       "    </tr>\n",
       "  </thead>\n",
       "  <tbody>\n",
       "    <tr>\n",
       "      <th>Survived</th>\n",
       "      <td>0.62963</td>\n",
       "      <td>0.472826</td>\n",
       "      <td>0.242363</td>\n",
       "    </tr>\n",
       "  </tbody>\n",
       "</table>\n",
       "</div>"
      ],
      "text/plain": [
       "Pclass          1         2         3\n",
       "Survived  0.62963  0.472826  0.242363"
      ]
     },
     "execution_count": 9,
     "metadata": {},
     "output_type": "execute_result"
    }
   ],
   "source": [
    "# Mitjana de supervivents per classe\n",
    "\n",
    "train[['Pclass', 'Survived']].groupby(['Pclass']).mean().T"
   ]
  },
  {
   "cell_type": "code",
   "execution_count": 10,
   "metadata": {},
   "outputs": [
    {
     "data": {
      "text/plain": [
       "<matplotlib.axes._subplots.AxesSubplot at 0x104179f60>"
      ]
     },
     "execution_count": 10,
     "metadata": {},
     "output_type": "execute_result"
    },
    {
     "data": {
      "image/png": "[encoded data removed]",
      "text/plain": [
       "<Figure size 432x288 with 1 Axes>"
      ]
     },
     "metadata": {
      "needs_background": "light"
     },
     "output_type": "display_data"
    }
   ],
   "source": [
    "sns.barplot(x=\"Pclass\", y=\"Survived\", data=train)"
   ]
  },
  {
   "cell_type": "markdown",
   "metadata": {},
   "source": [
    "### Sex"
   ]
  },
  {
   "cell_type": "code",
   "execution_count": 11,
   "metadata": {},
   "outputs": [
    {
     "data": {
      "text/html": [
       "<div>\n",
       "<style scoped>\n",
       "    .dataframe tbody tr th:only-of-type {\n",
       "        vertical-align: middle;\n",
       "    }\n",
       "\n",
       "    .dataframe tbody tr th {\n",
       "        vertical-align: top;\n",
       "    }\n",
       "\n",
       "    .dataframe thead th {\n",
       "        text-align: right;\n",
       "    }\n",
       "</style>\n",
       "<table border=\"1\" class=\"dataframe\">\n",
       "  <thead>\n",
       "    <tr style=\"text-align: right;\">\n",
       "      <th>Sex</th>\n",
       "      <th>female</th>\n",
       "      <th>male</th>\n",
       "    </tr>\n",
       "  </thead>\n",
       "  <tbody>\n",
       "    <tr>\n",
       "      <th>Survived</th>\n",
       "      <td>0.742038</td>\n",
       "      <td>0.188908</td>\n",
       "    </tr>\n",
       "  </tbody>\n",
       "</table>\n",
       "</div>"
      ],
      "text/plain": [
       "Sex         female      male\n",
       "Survived  0.742038  0.188908"
      ]
     },
     "execution_count": 11,
     "metadata": {},
     "output_type": "execute_result"
    }
   ],
   "source": [
    "# Supervivents per sexe\n",
    "\n",
    "train[[\"Sex\", \"Survived\"]].groupby(['Sex']).mean().T"
   ]
  },
  {
   "cell_type": "code",
   "execution_count": 12,
   "metadata": {},
   "outputs": [
    {
     "data": {
      "text/plain": [
       "<matplotlib.axes._subplots.AxesSubplot at 0x104f83358>"
      ]
     },
     "execution_count": 12,
     "metadata": {},
     "output_type": "execute_result"
    },
    {
     "data": {
      "image/png": "[encoded data removed]",
      "text/plain": [
       "<Figure size 432x288 with 1 Axes>"
      ]
     },
     "metadata": {
      "needs_background": "light"
     },
     "output_type": "display_data"
    }
   ],
   "source": [
    "sns.barplot(x=\"Sex\",y=\"Survived\", data = train)"
   ]
  },
  {
   "cell_type": "code",
   "execution_count": 13,
   "metadata": {},
   "outputs": [],
   "source": [
    "# Transformem l'atribut a binari\n",
    "\n",
    "for df in dades:\n",
    "    df['Sex'] = (df['Sex'] == 'male')"
   ]
  },
  {
   "cell_type": "markdown",
   "metadata": {},
   "source": [
    "### SibSp"
   ]
  },
  {
   "cell_type": "code",
   "execution_count": 14,
   "metadata": {
    "scrolled": true
   },
   "outputs": [
    {
     "data": {
      "text/html": [
       "<div>\n",
       "<style scoped>\n",
       "    .dataframe tbody tr th:only-of-type {\n",
       "        vertical-align: middle;\n",
       "    }\n",
       "\n",
       "    .dataframe tbody tr th {\n",
       "        vertical-align: top;\n",
       "    }\n",
       "\n",
       "    .dataframe thead th {\n",
       "        text-align: right;\n",
       "    }\n",
       "</style>\n",
       "<table border=\"1\" class=\"dataframe\">\n",
       "  <thead>\n",
       "    <tr style=\"text-align: right;\">\n",
       "      <th>SibSp</th>\n",
       "      <th>0</th>\n",
       "      <th>1</th>\n",
       "      <th>2</th>\n",
       "      <th>3</th>\n",
       "      <th>4</th>\n",
       "      <th>5</th>\n",
       "      <th>8</th>\n",
       "    </tr>\n",
       "  </thead>\n",
       "  <tbody>\n",
       "    <tr>\n",
       "      <th>Survived</th>\n",
       "      <td>0.345395</td>\n",
       "      <td>0.535885</td>\n",
       "      <td>0.464286</td>\n",
       "      <td>0.25</td>\n",
       "      <td>0.166667</td>\n",
       "      <td>0.0</td>\n",
       "      <td>0.0</td>\n",
       "    </tr>\n",
       "  </tbody>\n",
       "</table>\n",
       "</div>"
      ],
      "text/plain": [
       "SibSp            0         1         2     3         4    5    8\n",
       "Survived  0.345395  0.535885  0.464286  0.25  0.166667  0.0  0.0"
      ]
     },
     "execution_count": 14,
     "metadata": {},
     "output_type": "execute_result"
    }
   ],
   "source": [
    "# Supervivients segons el nombre de germans/marit/muller\n",
    "\n",
    "train[[\"SibSp\", \"Survived\"]].groupby(['SibSp']).mean().T"
   ]
  },
  {
   "cell_type": "code",
   "execution_count": 15,
   "metadata": {},
   "outputs": [
    {
     "data": {
      "text/plain": [
       "<matplotlib.axes._subplots.AxesSubplot at 0x11e53f518>"
      ]
     },
     "execution_count": 15,
     "metadata": {},
     "output_type": "execute_result"
    },
    {
     "data": {
      "image/png": "[encoded data removed]",
      "text/plain": [
       "<Figure size 432x288 with 1 Axes>"
      ]
     },
     "metadata": {
      "needs_background": "light"
     },
     "output_type": "display_data"
    }
   ],
   "source": [
    "sns.barplot(x=\"SibSp\",y=\"Survived\",data=train)"
   ]
  },
  {
   "cell_type": "code",
   "execution_count": 16,
   "metadata": {},
   "outputs": [],
   "source": [
    "# Unim els valors superiors a 2\n",
    "\n",
    "for df in dades:\n",
    "    df.loc[df.SibSp>2,'SibSp'] = 3"
   ]
  },
  {
   "cell_type": "code",
   "execution_count": 17,
   "metadata": {},
   "outputs": [
    {
     "data": {
      "text/plain": [
       "<matplotlib.axes._subplots.AxesSubplot at 0x11e5ab240>"
      ]
     },
     "execution_count": 17,
     "metadata": {},
     "output_type": "execute_result"
    },
    {
     "data": {
      "image/png": "[encoded data removed]",
      "text/plain": [
       "<Figure size 432x288 with 1 Axes>"
      ]
     },
     "metadata": {
      "needs_background": "light"
     },
     "output_type": "display_data"
    }
   ],
   "source": [
    "sns.barplot(x=\"SibSp\",y=\"Survived\",data=train)"
   ]
  },
  {
   "cell_type": "markdown",
   "metadata": {},
   "source": [
    "### Parch"
   ]
  },
  {
   "cell_type": "code",
   "execution_count": 18,
   "metadata": {},
   "outputs": [
    {
     "data": {
      "text/html": [
       "<div>\n",
       "<style scoped>\n",
       "    .dataframe tbody tr th:only-of-type {\n",
       "        vertical-align: middle;\n",
       "    }\n",
       "\n",
       "    .dataframe tbody tr th {\n",
       "        vertical-align: top;\n",
       "    }\n",
       "\n",
       "    .dataframe thead th {\n",
       "        text-align: right;\n",
       "    }\n",
       "</style>\n",
       "<table border=\"1\" class=\"dataframe\">\n",
       "  <thead>\n",
       "    <tr style=\"text-align: right;\">\n",
       "      <th>Parch</th>\n",
       "      <th>0</th>\n",
       "      <th>1</th>\n",
       "      <th>2</th>\n",
       "      <th>3</th>\n",
       "      <th>4</th>\n",
       "      <th>5</th>\n",
       "      <th>6</th>\n",
       "    </tr>\n",
       "  </thead>\n",
       "  <tbody>\n",
       "    <tr>\n",
       "      <th>Survived</th>\n",
       "      <td>0.343658</td>\n",
       "      <td>0.550847</td>\n",
       "      <td>0.5</td>\n",
       "      <td>0.6</td>\n",
       "      <td>0.0</td>\n",
       "      <td>0.2</td>\n",
       "      <td>0.0</td>\n",
       "    </tr>\n",
       "  </tbody>\n",
       "</table>\n",
       "</div>"
      ],
      "text/plain": [
       "Parch            0         1    2    3    4    5    6\n",
       "Survived  0.343658  0.550847  0.5  0.6  0.0  0.2  0.0"
      ]
     },
     "execution_count": 18,
     "metadata": {},
     "output_type": "execute_result"
    }
   ],
   "source": [
    "# Supervivents segons el nombre de pares/fills\n",
    "\n",
    "train[[\"Parch\", \"Survived\"]].groupby(['Parch']).mean().T"
   ]
  },
  {
   "cell_type": "code",
   "execution_count": 19,
   "metadata": {},
   "outputs": [
    {
     "data": {
      "text/plain": [
       "<matplotlib.axes._subplots.AxesSubplot at 0x11e7b6ac8>"
      ]
     },
     "execution_count": 19,
     "metadata": {},
     "output_type": "execute_result"
    },
    {
     "data": {
      "image/png": "[encoded data removed]",
      "text/plain": [
       "<Figure size 432x288 with 1 Axes>"
      ]
     },
     "metadata": {
      "needs_background": "light"
     },
     "output_type": "display_data"
    }
   ],
   "source": [
    "sns.barplot(x=\"Parch\", y=\"Survived\", data = train)"
   ]
  },
  {
   "cell_type": "code",
   "execution_count": 20,
   "metadata": {},
   "outputs": [],
   "source": [
    "# Unim els valors superiors a 3\n",
    "\n",
    "for df in dades:\n",
    "    df.loc[df.Parch>3,'Parch'] = 4"
   ]
  },
  {
   "cell_type": "code",
   "execution_count": 21,
   "metadata": {},
   "outputs": [
    {
     "data": {
      "text/plain": [
       "<matplotlib.axes._subplots.AxesSubplot at 0x11e7e3160>"
      ]
     },
     "execution_count": 21,
     "metadata": {},
     "output_type": "execute_result"
    },
    {
     "data": {
      "image/png": "[encoded data removed]",
      "text/plain": [
       "<Figure size 432x288 with 1 Axes>"
      ]
     },
     "metadata": {
      "needs_background": "light"
     },
     "output_type": "display_data"
    }
   ],
   "source": [
    "sns.barplot(x=\"Parch\",y=\"Survived\",data=train)"
   ]
  },
  {
   "cell_type": "markdown",
   "metadata": {},
   "source": [
    "### FamilySize"
   ]
  },
  {
   "cell_type": "code",
   "execution_count": 22,
   "metadata": {
    "scrolled": true
   },
   "outputs": [
    {
     "data": {
      "text/html": [
       "<div>\n",
       "<style scoped>\n",
       "    .dataframe tbody tr th:only-of-type {\n",
       "        vertical-align: middle;\n",
       "    }\n",
       "\n",
       "    .dataframe tbody tr th {\n",
       "        vertical-align: top;\n",
       "    }\n",
       "\n",
       "    .dataframe thead th {\n",
       "        text-align: right;\n",
       "    }\n",
       "</style>\n",
       "<table border=\"1\" class=\"dataframe\">\n",
       "  <thead>\n",
       "    <tr style=\"text-align: right;\">\n",
       "      <th>FamilySize</th>\n",
       "      <th>1</th>\n",
       "      <th>2</th>\n",
       "      <th>3</th>\n",
       "      <th>4</th>\n",
       "      <th>5</th>\n",
       "      <th>6</th>\n",
       "    </tr>\n",
       "  </thead>\n",
       "  <tbody>\n",
       "    <tr>\n",
       "      <th>Survived</th>\n",
       "      <td>0.303538</td>\n",
       "      <td>0.552795</td>\n",
       "      <td>0.578431</td>\n",
       "      <td>0.724138</td>\n",
       "      <td>0.115385</td>\n",
       "      <td>0.194444</td>\n",
       "    </tr>\n",
       "  </tbody>\n",
       "</table>\n",
       "</div>"
      ],
      "text/plain": [
       "FamilySize         1         2         3         4         5         6\n",
       "Survived    0.303538  0.552795  0.578431  0.724138  0.115385  0.194444"
      ]
     },
     "execution_count": 22,
     "metadata": {},
     "output_type": "execute_result"
    }
   ],
   "source": [
    "# Generem un atribut que indica la mida de la família\n",
    "\n",
    "for df in dades:\n",
    "    df['FamilySize'] = (df['SibSp'] + df['Parch'] + 1)\n",
    "\n",
    "train[[\"FamilySize\", \"Survived\"]].groupby(['FamilySize']).mean().T"
   ]
  },
  {
   "cell_type": "code",
   "execution_count": 23,
   "metadata": {},
   "outputs": [
    {
     "data": {
      "text/plain": [
       "<matplotlib.axes._subplots.AxesSubplot at 0x11e9f9b00>"
      ]
     },
     "execution_count": 23,
     "metadata": {},
     "output_type": "execute_result"
    },
    {
     "data": {
      "image/png": "[encoded data removed]",
      "text/plain": [
       "<Figure size 432x288 with 1 Axes>"
      ]
     },
     "metadata": {
      "needs_background": "light"
     },
     "output_type": "display_data"
    }
   ],
   "source": [
    "sns.barplot(x=\"FamilySize\", y=\"Survived\", data = train)"
   ]
  },
  {
   "cell_type": "code",
   "execution_count": 24,
   "metadata": {},
   "outputs": [],
   "source": [
    "# Generem tres categories\n",
    "\n",
    "for df in dades:\n",
    "    df.loc[(df.FamilySize > 1) & (df.FamilySize < 5), \"FamilySize\"] = 2\n",
    "    df.loc[df.FamilySize > 4, \"FamilySize\"] = 3"
   ]
  },
  {
   "cell_type": "code",
   "execution_count": 25,
   "metadata": {},
   "outputs": [
    {
     "data": {
      "text/html": [
       "<div>\n",
       "<style scoped>\n",
       "    .dataframe tbody tr th:only-of-type {\n",
       "        vertical-align: middle;\n",
       "    }\n",
       "\n",
       "    .dataframe tbody tr th {\n",
       "        vertical-align: top;\n",
       "    }\n",
       "\n",
       "    .dataframe thead th {\n",
       "        text-align: right;\n",
       "    }\n",
       "</style>\n",
       "<table border=\"1\" class=\"dataframe\">\n",
       "  <thead>\n",
       "    <tr style=\"text-align: right;\">\n",
       "      <th>FamilySize</th>\n",
       "      <th>1</th>\n",
       "      <th>2</th>\n",
       "      <th>3</th>\n",
       "    </tr>\n",
       "  </thead>\n",
       "  <tbody>\n",
       "    <tr>\n",
       "      <th>Survived</th>\n",
       "      <td>0.303538</td>\n",
       "      <td>0.578767</td>\n",
       "      <td>0.16129</td>\n",
       "    </tr>\n",
       "  </tbody>\n",
       "</table>\n",
       "</div>"
      ],
      "text/plain": [
       "FamilySize         1         2        3\n",
       "Survived    0.303538  0.578767  0.16129"
      ]
     },
     "execution_count": 25,
     "metadata": {},
     "output_type": "execute_result"
    },
    {
     "data": {
      "image/png": "[encoded data removed]",
      "text/plain": [
       "<Figure size 432x288 with 1 Axes>"
      ]
     },
     "metadata": {
      "needs_background": "light"
     },
     "output_type": "display_data"
    }
   ],
   "source": [
    "sns.barplot(x=\"FamilySize\", y=\"Survived\", data = train)\n",
    "train[[\"FamilySize\", \"Survived\"]].groupby(['FamilySize']).mean().T"
   ]
  },
  {
   "cell_type": "markdown",
   "metadata": {},
   "source": [
    "### Ticket"
   ]
  },
  {
   "cell_type": "code",
   "execution_count": 26,
   "metadata": {},
   "outputs": [],
   "source": [
    "# Eliminem l'atribut Ticket\n",
    "\n",
    "for df in dades:\n",
    "    df.drop(['Ticket'], axis=1, inplace=True)"
   ]
  },
  {
   "cell_type": "markdown",
   "metadata": {},
   "source": [
    "### Embarked"
   ]
  },
  {
   "cell_type": "code",
   "execution_count": 27,
   "metadata": {},
   "outputs": [
    {
     "data": {
      "text/html": [
       "<div>\n",
       "<style scoped>\n",
       "    .dataframe tbody tr th:only-of-type {\n",
       "        vertical-align: middle;\n",
       "    }\n",
       "\n",
       "    .dataframe tbody tr th {\n",
       "        vertical-align: top;\n",
       "    }\n",
       "\n",
       "    .dataframe thead th {\n",
       "        text-align: right;\n",
       "    }\n",
       "</style>\n",
       "<table border=\"1\" class=\"dataframe\">\n",
       "  <thead>\n",
       "    <tr style=\"text-align: right;\">\n",
       "      <th>Embarked</th>\n",
       "      <th>C</th>\n",
       "      <th>Q</th>\n",
       "      <th>S</th>\n",
       "    </tr>\n",
       "  </thead>\n",
       "  <tbody>\n",
       "    <tr>\n",
       "      <th>Survived</th>\n",
       "      <td>168</td>\n",
       "      <td>77</td>\n",
       "      <td>644</td>\n",
       "    </tr>\n",
       "  </tbody>\n",
       "</table>\n",
       "</div>"
      ],
      "text/plain": [
       "Embarked    C   Q    S\n",
       "Survived  168  77  644"
      ]
     },
     "execution_count": 27,
     "metadata": {},
     "output_type": "execute_result"
    }
   ],
   "source": [
    "# Supervivents segons el lloc d'embarcament\n",
    "\n",
    "train[['Embarked', 'Survived']].groupby(['Embarked']).count().T"
   ]
  },
  {
   "cell_type": "code",
   "execution_count": 28,
   "metadata": {},
   "outputs": [
    {
     "data": {
      "text/html": [
       "<div>\n",
       "<style scoped>\n",
       "    .dataframe tbody tr th:only-of-type {\n",
       "        vertical-align: middle;\n",
       "    }\n",
       "\n",
       "    .dataframe tbody tr th {\n",
       "        vertical-align: top;\n",
       "    }\n",
       "\n",
       "    .dataframe thead th {\n",
       "        text-align: right;\n",
       "    }\n",
       "</style>\n",
       "<table border=\"1\" class=\"dataframe\">\n",
       "  <thead>\n",
       "    <tr style=\"text-align: right;\">\n",
       "      <th>Embarked</th>\n",
       "      <th>C</th>\n",
       "      <th>Q</th>\n",
       "      <th>S</th>\n",
       "    </tr>\n",
       "  </thead>\n",
       "  <tbody>\n",
       "    <tr>\n",
       "      <th>Survived</th>\n",
       "      <td>0.553571</td>\n",
       "      <td>0.38961</td>\n",
       "      <td>0.339009</td>\n",
       "    </tr>\n",
       "  </tbody>\n",
       "</table>\n",
       "</div>"
      ],
      "text/plain": [
       "Embarked         C        Q         S\n",
       "Survived  0.553571  0.38961  0.339009"
      ]
     },
     "execution_count": 28,
     "metadata": {},
     "output_type": "execute_result"
    }
   ],
   "source": [
    "# Correcció valors nuls\n",
    "\n",
    "train['Embarked'] = train['Embarked'].fillna('S')\n",
    "train[['Embarked', 'Survived']].groupby(['Embarked']).mean().T"
   ]
  },
  {
   "cell_type": "code",
   "execution_count": 29,
   "metadata": {},
   "outputs": [],
   "source": [
    "# Generem un atribut binari segons si han embarcat a Cherbourg\n",
    "\n",
    "train['Embarked_C'] = (train.Embarked == 'C')\n",
    "test['Embarked_C'] = (test.Embarked == 'C')"
   ]
  },
  {
   "cell_type": "code",
   "execution_count": 30,
   "metadata": {
    "scrolled": false
   },
   "outputs": [
    {
     "data": {
      "text/plain": [
       "<matplotlib.axes._subplots.AxesSubplot at 0x11e3d3160>"
      ]
     },
     "execution_count": 30,
     "metadata": {},
     "output_type": "execute_result"
    },
    {
     "data": {
      "image/png": "[encoded data removed]",
      "text/plain": [
       "<Figure size 432x288 with 1 Axes>"
      ]
     },
     "metadata": {
      "needs_background": "light"
     },
     "output_type": "display_data"
    }
   ],
   "source": [
    "sns.barplot(x=\"Embarked_C\", y=\"Survived\", data=train)"
   ]
  },
  {
   "cell_type": "code",
   "execution_count": 31,
   "metadata": {},
   "outputs": [],
   "source": [
    "for df in dades:\n",
    "    df.drop(['Embarked'], axis=1, inplace=True)"
   ]
  },
  {
   "cell_type": "markdown",
   "metadata": {},
   "source": [
    "### Fare"
   ]
  },
  {
   "cell_type": "code",
   "execution_count": 32,
   "metadata": {},
   "outputs": [
    {
     "data": {
      "text/plain": [
       "<matplotlib.axes._subplots.AxesSubplot at 0x11ebecd68>"
      ]
     },
     "execution_count": 32,
     "metadata": {},
     "output_type": "execute_result"
    },
    {
     "data": {
      "image/png": "[encoded data removed]",
      "text/plain": [
       "<Figure size 432x288 with 1 Axes>"
      ]
     },
     "metadata": {
      "needs_background": "light"
     },
     "output_type": "display_data"
    }
   ],
   "source": [
    "# Distribució dels valors de l'atribut Fare\n",
    "\n",
    "sns.distplot(train['Fare'], fit = norm)"
   ]
  },
  {
   "cell_type": "code",
   "execution_count": 33,
   "metadata": {},
   "outputs": [
    {
     "data": {
      "text/plain": [
       "<matplotlib.axes._subplots.AxesSubplot at 0x11ed3e7f0>"
      ]
     },
     "execution_count": 33,
     "metadata": {},
     "output_type": "execute_result"
    },
    {
     "data": {
      "image/png": "[encoded data removed]",
      "text/plain": [
       "<Figure size 432x288 with 1 Axes>"
      ]
     },
     "metadata": {
      "needs_background": "light"
     },
     "output_type": "display_data"
    }
   ],
   "source": [
    "# Transformació logarítmica de les dades\n",
    "\n",
    "for df in dades:\n",
    "    df['Fare'].fillna(df['Fare'].mean(), inplace = True)\n",
    "    df['Fare'] = np.log1p(df['Fare'])\n",
    "\n",
    "sns.distplot(train['Fare'], fit = norm)"
   ]
  },
  {
   "cell_type": "code",
   "execution_count": 34,
   "metadata": {},
   "outputs": [
    {
     "data": {
      "text/plain": [
       "<matplotlib.axes._subplots.AxesSubplot at 0x11f4e9c18>"
      ]
     },
     "execution_count": 34,
     "metadata": {},
     "output_type": "execute_result"
    },
    {
     "data": {
      "image/png": "[encoded data removed]",
      "text/plain": [
       "<Figure size 432x288 with 1 Axes>"
      ]
     },
     "metadata": {
      "needs_background": "light"
     },
     "output_type": "display_data"
    }
   ],
   "source": [
    "# Creació de categories\n",
    "\n",
    "for df in dades:\n",
    "    df['FareGroup'] = pd.qcut(df['Fare'], 6, labels=range(6))\n",
    "    df['FareGroup'] = df['FareGroup'].astype('int')\n",
    "    df.loc[df.FareGroup<2,'FareGroup'] = 1\n",
    "    df.loc[(df.FareGroup>1) & (df.FareGroup<5),'FareGroup'] = 2\n",
    "    df.loc[df.FareGroup>4,'FareGroup'] = 3\n",
    "\n",
    "sns.barplot(x=\"FareGroup\", y=\"Survived\", data=train)"
   ]
  },
  {
   "cell_type": "code",
   "execution_count": 35,
   "metadata": {},
   "outputs": [],
   "source": [
    "for df in dades:\n",
    "    df.drop(['Fare'], axis=1, inplace=True)"
   ]
  },
  {
   "cell_type": "markdown",
   "metadata": {},
   "source": [
    "### Cabin"
   ]
  },
  {
   "cell_type": "code",
   "execution_count": 36,
   "metadata": {
    "scrolled": true
   },
   "outputs": [
    {
     "data": {
      "text/plain": [
       "<matplotlib.axes._subplots.AxesSubplot at 0x104f19390>"
      ]
     },
     "execution_count": 36,
     "metadata": {},
     "output_type": "execute_result"
    },
    {
     "data": {
      "image/png": "[encoded data removed]",
      "text/plain": [
       "<Figure size 432x288 with 1 Axes>"
      ]
     },
     "metadata": {
      "needs_background": "light"
     },
     "output_type": "display_data"
    }
   ],
   "source": [
    "# Supervivents segons si tenen cabina\n",
    "\n",
    "for df in dades:\n",
    "    df.loc[df.Cabin.notnull(),'Cabin'] = 1\n",
    "    df.loc[df.Cabin.isnull(),'Cabin'] = 0\n",
    "\n",
    "sns.barplot(x=\"Cabin\", y=\"Survived\", data=train)"
   ]
  },
  {
   "cell_type": "markdown",
   "metadata": {},
   "source": [
    "### Age"
   ]
  },
  {
   "cell_type": "code",
   "execution_count": 37,
   "metadata": {},
   "outputs": [
    {
     "data": {
      "text/plain": [
       "<matplotlib.axes._subplots.AxesSubplot at 0x11f68a780>"
      ]
     },
     "execution_count": 37,
     "metadata": {},
     "output_type": "execute_result"
    },
    {
     "data": {
      "image/png": "[encoded data removed]",
      "text/plain": [
       "<Figure size 432x288 with 1 Axes>"
      ]
     },
     "metadata": {
      "needs_background": "light"
     },
     "output_type": "display_data"
    }
   ],
   "source": [
    "# Distribució d'edats\n",
    "\n",
    "sns.distplot(train.loc[train.Age.notnull(),'Age'], fit = norm)"
   ]
  },
  {
   "cell_type": "code",
   "execution_count": 38,
   "metadata": {},
   "outputs": [],
   "source": [
    "# Categorització en grups d'edat\n",
    "\n",
    "for df in dades:\n",
    "    df[\"Age\"] = df[\"Age\"].fillna(-0.5)\n",
    "    bins = [-1,0, 5, 10, 15, 30, 60, np.inf]\n",
    "    df['AgeGroup'] = pd.cut(df[\"Age\"], bins, labels = range(7))\n",
    "    df.drop(['Age'], axis=1, inplace=True)"
   ]
  },
  {
   "cell_type": "code",
   "execution_count": 39,
   "metadata": {
    "scrolled": true
   },
   "outputs": [
    {
     "data": {
      "text/plain": [
       "<matplotlib.axes._subplots.AxesSubplot at 0x11f789da0>"
      ]
     },
     "execution_count": 39,
     "metadata": {},
     "output_type": "execute_result"
    },
    {
     "data": {
      "image/png": "[encoded data removed]",
      "text/plain": [
       "<Figure size 432x288 with 1 Axes>"
      ]
     },
     "metadata": {
      "needs_background": "light"
     },
     "output_type": "display_data"
    }
   ],
   "source": [
    "sns.barplot(x=\"AgeGroup\", y=\"Survived\", data=train)"
   ]
  },
  {
   "cell_type": "markdown",
   "metadata": {},
   "source": [
    "### Name"
   ]
  },
  {
   "cell_type": "code",
   "execution_count": 40,
   "metadata": {},
   "outputs": [],
   "source": [
    "# Supervivents segons el títol que figura al nom\n",
    "\n",
    "for df in dades:\n",
    "    df['Title'] = df['Name'].str.extract('([A-Za-z]+)\\.', expand = False)\n",
    "    df.drop(['Name'], axis=1, inplace=True)\n",
    "\n",
    "rareTitles = ['Capt','Col','Countess','Don','Dr','Jonkheer','Lady','Major','Mlle','Mme','Ms','Rev','Sir','Dona']\n",
    "for df in dades:\n",
    "    df.loc[df['Title'].isin(rareTitles), 'Title'] = 'Rare'"
   ]
  },
  {
   "cell_type": "code",
   "execution_count": 41,
   "metadata": {
    "scrolled": true
   },
   "outputs": [
    {
     "data": {
      "image/png": "[encoded data removed]",
      "text/plain": [
       "<Figure size 432x288 with 1 Axes>"
      ]
     },
     "metadata": {
      "needs_background": "light"
     },
     "output_type": "display_data"
    }
   ],
   "source": [
    "sns.barplot(x=\"Title\", y=\"Survived\", data=train)\n",
    "plt.show()"
   ]
  },
  {
   "cell_type": "markdown",
   "metadata": {},
   "source": [
    "## Correlació"
   ]
  },
  {
   "cell_type": "code",
   "execution_count": 42,
   "metadata": {
    "scrolled": true
   },
   "outputs": [
    {
     "data": {
      "image/png": "[encoded data removed]",
      "text/plain": [
       "<Figure size 1008x864 with 2 Axes>"
      ]
     },
     "metadata": {
      "needs_background": "light"
     },
     "output_type": "display_data"
    }
   ],
   "source": [
    "# Anàlisi de correlacions\n",
    "\n",
    "correlation_matrix = train.corr()\n",
    "correlation_matrix\n",
    "\n",
    "plt.figure(figsize=(14,12))\n",
    "plt.title('Pearson Correlation of Features', y=1.05, size=15)\n",
    "sns.heatmap(correlation_matrix);"
   ]
  },
  {
   "cell_type": "code",
   "execution_count": 43,
   "metadata": {
    "scrolled": false
   },
   "outputs": [
    {
     "data": {
      "text/html": [
       "<div>\n",
       "<style scoped>\n",
       "    .dataframe tbody tr th:only-of-type {\n",
       "        vertical-align: middle;\n",
       "    }\n",
       "\n",
       "    .dataframe tbody tr th {\n",
       "        vertical-align: top;\n",
       "    }\n",
       "\n",
       "    .dataframe thead th {\n",
       "        text-align: right;\n",
       "    }\n",
       "</style>\n",
       "<table border=\"1\" class=\"dataframe\">\n",
       "  <thead>\n",
       "    <tr style=\"text-align: right;\">\n",
       "      <th></th>\n",
       "      <th>Survived</th>\n",
       "      <th>Pclass</th>\n",
       "      <th>Sex</th>\n",
       "      <th>SibSp</th>\n",
       "      <th>Parch</th>\n",
       "      <th>Cabin</th>\n",
       "      <th>FamilySize</th>\n",
       "      <th>Embarked_C</th>\n",
       "      <th>FareGroup</th>\n",
       "    </tr>\n",
       "  </thead>\n",
       "  <tbody>\n",
       "    <tr>\n",
       "      <th>Survived</th>\n",
       "      <td>1.000000</td>\n",
       "      <td>-0.338481</td>\n",
       "      <td>-0.543351</td>\n",
       "      <td>0.012638</td>\n",
       "      <td>0.091304</td>\n",
       "      <td>0.316912</td>\n",
       "      <td>0.108631</td>\n",
       "      <td>0.168240</td>\n",
       "      <td>0.346147</td>\n",
       "    </tr>\n",
       "    <tr>\n",
       "      <th>Pclass</th>\n",
       "      <td>-0.338481</td>\n",
       "      <td>1.000000</td>\n",
       "      <td>0.131900</td>\n",
       "      <td>0.041981</td>\n",
       "      <td>0.010955</td>\n",
       "      <td>-0.725541</td>\n",
       "      <td>-0.043973</td>\n",
       "      <td>-0.243292</td>\n",
       "      <td>-0.687322</td>\n",
       "    </tr>\n",
       "    <tr>\n",
       "      <th>Sex</th>\n",
       "      <td>-0.543351</td>\n",
       "      <td>0.131900</td>\n",
       "      <td>1.000000</td>\n",
       "      <td>-0.158024</td>\n",
       "      <td>-0.248358</td>\n",
       "      <td>-0.140391</td>\n",
       "      <td>-0.280570</td>\n",
       "      <td>-0.082853</td>\n",
       "      <td>-0.288030</td>\n",
       "    </tr>\n",
       "    <tr>\n",
       "      <th>SibSp</th>\n",
       "      <td>0.012638</td>\n",
       "      <td>0.041981</td>\n",
       "      <td>-0.158024</td>\n",
       "      <td>1.000000</td>\n",
       "      <td>0.435937</td>\n",
       "      <td>-0.007697</td>\n",
       "      <td>0.839133</td>\n",
       "      <td>-0.040024</td>\n",
       "      <td>0.326493</td>\n",
       "    </tr>\n",
       "    <tr>\n",
       "      <th>Parch</th>\n",
       "      <td>0.091304</td>\n",
       "      <td>0.010955</td>\n",
       "      <td>-0.248358</td>\n",
       "      <td>0.435937</td>\n",
       "      <td>1.000000</td>\n",
       "      <td>0.044670</td>\n",
       "      <td>0.730982</td>\n",
       "      <td>-0.006724</td>\n",
       "      <td>0.295737</td>\n",
       "    </tr>\n",
       "    <tr>\n",
       "      <th>Cabin</th>\n",
       "      <td>0.316912</td>\n",
       "      <td>-0.725541</td>\n",
       "      <td>-0.140391</td>\n",
       "      <td>-0.007697</td>\n",
       "      <td>0.044670</td>\n",
       "      <td>1.000000</td>\n",
       "      <td>0.088993</td>\n",
       "      <td>0.208528</td>\n",
       "      <td>0.536885</td>\n",
       "    </tr>\n",
       "    <tr>\n",
       "      <th>FamilySize</th>\n",
       "      <td>0.108631</td>\n",
       "      <td>-0.043973</td>\n",
       "      <td>-0.280570</td>\n",
       "      <td>0.839133</td>\n",
       "      <td>0.730982</td>\n",
       "      <td>0.088993</td>\n",
       "      <td>1.000000</td>\n",
       "      <td>0.030226</td>\n",
       "      <td>0.447392</td>\n",
       "    </tr>\n",
       "    <tr>\n",
       "      <th>Embarked_C</th>\n",
       "      <td>0.168240</td>\n",
       "      <td>-0.243292</td>\n",
       "      <td>-0.082853</td>\n",
       "      <td>-0.040024</td>\n",
       "      <td>-0.006724</td>\n",
       "      <td>0.208528</td>\n",
       "      <td>0.030226</td>\n",
       "      <td>1.000000</td>\n",
       "      <td>0.227446</td>\n",
       "    </tr>\n",
       "    <tr>\n",
       "      <th>FareGroup</th>\n",
       "      <td>0.346147</td>\n",
       "      <td>-0.687322</td>\n",
       "      <td>-0.288030</td>\n",
       "      <td>0.326493</td>\n",
       "      <td>0.295737</td>\n",
       "      <td>0.536885</td>\n",
       "      <td>0.447392</td>\n",
       "      <td>0.227446</td>\n",
       "      <td>1.000000</td>\n",
       "    </tr>\n",
       "  </tbody>\n",
       "</table>\n",
       "</div>"
      ],
      "text/plain": [
       "            Survived    Pclass       Sex     SibSp     Parch     Cabin  \\\n",
       "Survived    1.000000 -0.338481 -0.543351  0.012638  0.091304  0.316912   \n",
       "Pclass     -0.338481  1.000000  0.131900  0.041981  0.010955 -0.725541   \n",
       "Sex        -0.543351  0.131900  1.000000 -0.158024 -0.248358 -0.140391   \n",
       "SibSp       0.012638  0.041981 -0.158024  1.000000  0.435937 -0.007697   \n",
       "Parch       0.091304  0.010955 -0.248358  0.435937  1.000000  0.044670   \n",
       "Cabin       0.316912 -0.725541 -0.140391 -0.007697  0.044670  1.000000   \n",
       "FamilySize  0.108631 -0.043973 -0.280570  0.839133  0.730982  0.088993   \n",
       "Embarked_C  0.168240 -0.243292 -0.082853 -0.040024 -0.006724  0.208528   \n",
       "FareGroup   0.346147 -0.687322 -0.288030  0.326493  0.295737  0.536885   \n",
       "\n",
       "            FamilySize  Embarked_C  FareGroup  \n",
       "Survived      0.108631    0.168240   0.346147  \n",
       "Pclass       -0.043973   -0.243292  -0.687322  \n",
       "Sex          -0.280570   -0.082853  -0.288030  \n",
       "SibSp         0.839133   -0.040024   0.326493  \n",
       "Parch         0.730982   -0.006724   0.295737  \n",
       "Cabin         0.088993    0.208528   0.536885  \n",
       "FamilySize    1.000000    0.030226   0.447392  \n",
       "Embarked_C    0.030226    1.000000   0.227446  \n",
       "FareGroup     0.447392    0.227446   1.000000  "
      ]
     },
     "execution_count": 43,
     "metadata": {},
     "output_type": "execute_result"
    }
   ],
   "source": [
    "train.corr()"
   ]
  },
  {
   "cell_type": "markdown",
   "metadata": {},
   "source": [
    "## Binarització"
   ]
  },
  {
   "cell_type": "code",
   "execution_count": 44,
   "metadata": {},
   "outputs": [],
   "source": [
    "# Creació d'atributs binaris\n",
    "\n",
    "columnes = ['Title']\n",
    "for col in columnes:\n",
    "    train = pd.get_dummies(train, columns=[col], dummy_na=False)\n",
    "for col in columnes:\n",
    "    test = pd.get_dummies(test, columns=[col], dummy_na=False)"
   ]
  },
  {
   "cell_type": "code",
   "execution_count": 45,
   "metadata": {},
   "outputs": [
    {
     "data": {
      "text/html": [
       "<div>\n",
       "<style scoped>\n",
       "    .dataframe tbody tr th:only-of-type {\n",
       "        vertical-align: middle;\n",
       "    }\n",
       "\n",
       "    .dataframe tbody tr th {\n",
       "        vertical-align: top;\n",
       "    }\n",
       "\n",
       "    .dataframe thead th {\n",
       "        text-align: right;\n",
       "    }\n",
       "</style>\n",
       "<table border=\"1\" class=\"dataframe\">\n",
       "  <thead>\n",
       "    <tr style=\"text-align: right;\">\n",
       "      <th></th>\n",
       "      <th>Survived</th>\n",
       "      <th>Pclass</th>\n",
       "      <th>Sex</th>\n",
       "      <th>SibSp</th>\n",
       "      <th>Parch</th>\n",
       "      <th>Cabin</th>\n",
       "      <th>FamilySize</th>\n",
       "      <th>Embarked_C</th>\n",
       "      <th>FareGroup</th>\n",
       "      <th>AgeGroup</th>\n",
       "      <th>Title_Master</th>\n",
       "      <th>Title_Miss</th>\n",
       "      <th>Title_Mr</th>\n",
       "      <th>Title_Mrs</th>\n",
       "      <th>Title_Rare</th>\n",
       "    </tr>\n",
       "  </thead>\n",
       "  <tbody>\n",
       "    <tr>\n",
       "      <th>0</th>\n",
       "      <td>0</td>\n",
       "      <td>3</td>\n",
       "      <td>True</td>\n",
       "      <td>1</td>\n",
       "      <td>0</td>\n",
       "      <td>0</td>\n",
       "      <td>2</td>\n",
       "      <td>False</td>\n",
       "      <td>1</td>\n",
       "      <td>4</td>\n",
       "      <td>0</td>\n",
       "      <td>0</td>\n",
       "      <td>1</td>\n",
       "      <td>0</td>\n",
       "      <td>0</td>\n",
       "    </tr>\n",
       "    <tr>\n",
       "      <th>1</th>\n",
       "      <td>1</td>\n",
       "      <td>1</td>\n",
       "      <td>False</td>\n",
       "      <td>1</td>\n",
       "      <td>0</td>\n",
       "      <td>1</td>\n",
       "      <td>2</td>\n",
       "      <td>True</td>\n",
       "      <td>3</td>\n",
       "      <td>5</td>\n",
       "      <td>0</td>\n",
       "      <td>0</td>\n",
       "      <td>0</td>\n",
       "      <td>1</td>\n",
       "      <td>0</td>\n",
       "    </tr>\n",
       "    <tr>\n",
       "      <th>2</th>\n",
       "      <td>1</td>\n",
       "      <td>3</td>\n",
       "      <td>False</td>\n",
       "      <td>0</td>\n",
       "      <td>0</td>\n",
       "      <td>0</td>\n",
       "      <td>1</td>\n",
       "      <td>False</td>\n",
       "      <td>1</td>\n",
       "      <td>4</td>\n",
       "      <td>0</td>\n",
       "      <td>1</td>\n",
       "      <td>0</td>\n",
       "      <td>0</td>\n",
       "      <td>0</td>\n",
       "    </tr>\n",
       "    <tr>\n",
       "      <th>3</th>\n",
       "      <td>1</td>\n",
       "      <td>1</td>\n",
       "      <td>False</td>\n",
       "      <td>1</td>\n",
       "      <td>0</td>\n",
       "      <td>1</td>\n",
       "      <td>2</td>\n",
       "      <td>False</td>\n",
       "      <td>3</td>\n",
       "      <td>5</td>\n",
       "      <td>0</td>\n",
       "      <td>0</td>\n",
       "      <td>0</td>\n",
       "      <td>1</td>\n",
       "      <td>0</td>\n",
       "    </tr>\n",
       "    <tr>\n",
       "      <th>4</th>\n",
       "      <td>0</td>\n",
       "      <td>3</td>\n",
       "      <td>True</td>\n",
       "      <td>0</td>\n",
       "      <td>0</td>\n",
       "      <td>0</td>\n",
       "      <td>1</td>\n",
       "      <td>False</td>\n",
       "      <td>1</td>\n",
       "      <td>5</td>\n",
       "      <td>0</td>\n",
       "      <td>0</td>\n",
       "      <td>1</td>\n",
       "      <td>0</td>\n",
       "      <td>0</td>\n",
       "    </tr>\n",
       "  </tbody>\n",
       "</table>\n",
       "</div>"
      ],
      "text/plain": [
       "   Survived  Pclass    Sex  SibSp  Parch  Cabin  FamilySize  Embarked_C  \\\n",
       "0         0       3   True      1      0      0           2       False   \n",
       "1         1       1  False      1      0      1           2        True   \n",
       "2         1       3  False      0      0      0           1       False   \n",
       "3         1       1  False      1      0      1           2       False   \n",
       "4         0       3   True      0      0      0           1       False   \n",
       "\n",
       "   FareGroup AgeGroup  Title_Master  Title_Miss  Title_Mr  Title_Mrs  \\\n",
       "0          1        4             0           0         1          0   \n",
       "1          3        5             0           0         0          1   \n",
       "2          1        4             0           1         0          0   \n",
       "3          3        5             0           0         0          1   \n",
       "4          1        5             0           0         1          0   \n",
       "\n",
       "   Title_Rare  \n",
       "0           0  \n",
       "1           0  \n",
       "2           0  \n",
       "3           0  \n",
       "4           0  "
      ]
     },
     "execution_count": 45,
     "metadata": {},
     "output_type": "execute_result"
    }
   ],
   "source": [
    "train.head()"
   ]
  },
  {
   "cell_type": "markdown",
   "metadata": {},
   "source": [
    "## Entrenament i test"
   ]
  },
  {
   "cell_type": "code",
   "execution_count": 46,
   "metadata": {},
   "outputs": [],
   "source": [
    "# Preparació dels conjunts d'entrenament i test\n",
    "\n",
    "from sklearn.model_selection import train_test_split, GridSearchCV\n",
    "from sklearn.metrics import confusion_matrix\n",
    "from sklearn.metrics import roc_curve, auc\n",
    "from sklearn.decomposition import PCA\n",
    "\n",
    "from sklearn.linear_model import LogisticRegression\n",
    "from sklearn.tree import DecisionTreeClassifier\n",
    "from sklearn.ensemble import RandomForestClassifier\n",
    "from sklearn.neighbors import KNeighborsClassifier\n",
    "from sklearn.svm import SVC\n",
    "\n",
    "X = train.drop('Survived', 1)\n",
    "y = train.Survived\n",
    "\n",
    "test_id = test.PassengerId\n",
    "test = test.drop('PassengerId',1)\n",
    "\n",
    "X_train, X_test, y_train, y_test = train_test_split(X, y, test_size=0.30, stratify=y)\n",
    "\n",
    "prediccio = pd.DataFrame({'Real':y_test})"
   ]
  },
  {
   "cell_type": "markdown",
   "metadata": {},
   "source": [
    "## Models"
   ]
  },
  {
   "cell_type": "markdown",
   "metadata": {},
   "source": [
    "### Regressió logística"
   ]
  },
  {
   "cell_type": "code",
   "execution_count": 47,
   "metadata": {},
   "outputs": [
    {
     "data": {
      "text/html": [
       "<div>\n",
       "<style scoped>\n",
       "    .dataframe tbody tr th:only-of-type {\n",
       "        vertical-align: middle;\n",
       "    }\n",
       "\n",
       "    .dataframe tbody tr th {\n",
       "        vertical-align: top;\n",
       "    }\n",
       "\n",
       "    .dataframe thead th {\n",
       "        text-align: right;\n",
       "    }\n",
       "</style>\n",
       "<table border=\"1\" class=\"dataframe\">\n",
       "  <thead>\n",
       "    <tr style=\"text-align: right;\">\n",
       "      <th></th>\n",
       "      <th>mean_fit_time</th>\n",
       "      <th>std_fit_time</th>\n",
       "      <th>mean_score_time</th>\n",
       "      <th>std_score_time</th>\n",
       "      <th>param_C</th>\n",
       "      <th>param_penalty</th>\n",
       "      <th>params</th>\n",
       "      <th>split0_test_score</th>\n",
       "      <th>split1_test_score</th>\n",
       "      <th>split2_test_score</th>\n",
       "      <th>split3_test_score</th>\n",
       "      <th>mean_test_score</th>\n",
       "      <th>std_test_score</th>\n",
       "      <th>rank_test_score</th>\n",
       "    </tr>\n",
       "  </thead>\n",
       "  <tbody>\n",
       "    <tr>\n",
       "      <th>8</th>\n",
       "      <td>0.064891</td>\n",
       "      <td>0.011418</td>\n",
       "      <td>0.001969</td>\n",
       "      <td>0.000276</td>\n",
       "      <td>100</td>\n",
       "      <td>l1</td>\n",
       "      <td>{'C': 100, 'penalty': 'l1'}</td>\n",
       "      <td>0.788462</td>\n",
       "      <td>0.826923</td>\n",
       "      <td>0.839744</td>\n",
       "      <td>0.864516</td>\n",
       "      <td>0.829856</td>\n",
       "      <td>0.027470</td>\n",
       "      <td>1</td>\n",
       "    </tr>\n",
       "    <tr>\n",
       "      <th>7</th>\n",
       "      <td>0.005116</td>\n",
       "      <td>0.000295</td>\n",
       "      <td>0.001607</td>\n",
       "      <td>0.000140</td>\n",
       "      <td>10</td>\n",
       "      <td>l2</td>\n",
       "      <td>{'C': 10, 'penalty': 'l2'}</td>\n",
       "      <td>0.788462</td>\n",
       "      <td>0.826923</td>\n",
       "      <td>0.839744</td>\n",
       "      <td>0.858065</td>\n",
       "      <td>0.828250</td>\n",
       "      <td>0.025516</td>\n",
       "      <td>2</td>\n",
       "    </tr>\n",
       "    <tr>\n",
       "      <th>9</th>\n",
       "      <td>0.006107</td>\n",
       "      <td>0.001996</td>\n",
       "      <td>0.001712</td>\n",
       "      <td>0.000354</td>\n",
       "      <td>100</td>\n",
       "      <td>l2</td>\n",
       "      <td>{'C': 100, 'penalty': 'l2'}</td>\n",
       "      <td>0.788462</td>\n",
       "      <td>0.826923</td>\n",
       "      <td>0.839744</td>\n",
       "      <td>0.858065</td>\n",
       "      <td>0.828250</td>\n",
       "      <td>0.025516</td>\n",
       "      <td>2</td>\n",
       "    </tr>\n",
       "    <tr>\n",
       "      <th>4</th>\n",
       "      <td>0.015934</td>\n",
       "      <td>0.006124</td>\n",
       "      <td>0.002334</td>\n",
       "      <td>0.000746</td>\n",
       "      <td>1</td>\n",
       "      <td>l1</td>\n",
       "      <td>{'C': 1, 'penalty': 'l1'}</td>\n",
       "      <td>0.794872</td>\n",
       "      <td>0.820513</td>\n",
       "      <td>0.839744</td>\n",
       "      <td>0.851613</td>\n",
       "      <td>0.826645</td>\n",
       "      <td>0.021454</td>\n",
       "      <td>4</td>\n",
       "    </tr>\n",
       "    <tr>\n",
       "      <th>6</th>\n",
       "      <td>0.018593</td>\n",
       "      <td>0.006645</td>\n",
       "      <td>0.002307</td>\n",
       "      <td>0.000604</td>\n",
       "      <td>10</td>\n",
       "      <td>l1</td>\n",
       "      <td>{'C': 10, 'penalty': 'l1'}</td>\n",
       "      <td>0.788462</td>\n",
       "      <td>0.820513</td>\n",
       "      <td>0.839744</td>\n",
       "      <td>0.858065</td>\n",
       "      <td>0.826645</td>\n",
       "      <td>0.025750</td>\n",
       "      <td>4</td>\n",
       "    </tr>\n",
       "    <tr>\n",
       "      <th>5</th>\n",
       "      <td>0.004578</td>\n",
       "      <td>0.000050</td>\n",
       "      <td>0.001589</td>\n",
       "      <td>0.000053</td>\n",
       "      <td>1</td>\n",
       "      <td>l2</td>\n",
       "      <td>{'C': 1, 'penalty': 'l2'}</td>\n",
       "      <td>0.782051</td>\n",
       "      <td>0.820513</td>\n",
       "      <td>0.839744</td>\n",
       "      <td>0.845161</td>\n",
       "      <td>0.821830</td>\n",
       "      <td>0.024748</td>\n",
       "      <td>6</td>\n",
       "    </tr>\n",
       "    <tr>\n",
       "      <th>3</th>\n",
       "      <td>0.008101</td>\n",
       "      <td>0.001460</td>\n",
       "      <td>0.002418</td>\n",
       "      <td>0.000341</td>\n",
       "      <td>0.1</td>\n",
       "      <td>l2</td>\n",
       "      <td>{'C': 0.1, 'penalty': 'l2'}</td>\n",
       "      <td>0.775641</td>\n",
       "      <td>0.807692</td>\n",
       "      <td>0.801282</td>\n",
       "      <td>0.812903</td>\n",
       "      <td>0.799358</td>\n",
       "      <td>0.014311</td>\n",
       "      <td>7</td>\n",
       "    </tr>\n",
       "    <tr>\n",
       "      <th>1</th>\n",
       "      <td>0.019963</td>\n",
       "      <td>0.026308</td>\n",
       "      <td>0.002130</td>\n",
       "      <td>0.000871</td>\n",
       "      <td>0.01</td>\n",
       "      <td>l2</td>\n",
       "      <td>{'C': 0.01, 'penalty': 'l2'}</td>\n",
       "      <td>0.801282</td>\n",
       "      <td>0.807692</td>\n",
       "      <td>0.788462</td>\n",
       "      <td>0.748387</td>\n",
       "      <td>0.786517</td>\n",
       "      <td>0.023012</td>\n",
       "      <td>8</td>\n",
       "    </tr>\n",
       "    <tr>\n",
       "      <th>2</th>\n",
       "      <td>0.005595</td>\n",
       "      <td>0.001908</td>\n",
       "      <td>0.001972</td>\n",
       "      <td>0.000825</td>\n",
       "      <td>0.1</td>\n",
       "      <td>l1</td>\n",
       "      <td>{'C': 0.1, 'penalty': 'l1'}</td>\n",
       "      <td>0.788462</td>\n",
       "      <td>0.788462</td>\n",
       "      <td>0.782051</td>\n",
       "      <td>0.741935</td>\n",
       "      <td>0.775281</td>\n",
       "      <td>0.019368</td>\n",
       "      <td>9</td>\n",
       "    </tr>\n",
       "    <tr>\n",
       "      <th>0</th>\n",
       "      <td>0.022581</td>\n",
       "      <td>0.031475</td>\n",
       "      <td>0.002083</td>\n",
       "      <td>0.000847</td>\n",
       "      <td>0.01</td>\n",
       "      <td>l1</td>\n",
       "      <td>{'C': 0.01, 'penalty': 'l1'}</td>\n",
       "      <td>0.615385</td>\n",
       "      <td>0.615385</td>\n",
       "      <td>0.615385</td>\n",
       "      <td>0.619355</td>\n",
       "      <td>0.616372</td>\n",
       "      <td>0.001716</td>\n",
       "      <td>10</td>\n",
       "    </tr>\n",
       "  </tbody>\n",
       "</table>\n",
       "</div>"
      ],
      "text/plain": [
       "   mean_fit_time  std_fit_time  mean_score_time  std_score_time param_C  \\\n",
       "8       0.064891      0.011418         0.001969        0.000276     100   \n",
       "7       0.005116      0.000295         0.001607        0.000140      10   \n",
       "9       0.006107      0.001996         0.001712        0.000354     100   \n",
       "4       0.015934      0.006124         0.002334        0.000746       1   \n",
       "6       0.018593      0.006645         0.002307        0.000604      10   \n",
       "5       0.004578      0.000050         0.001589        0.000053       1   \n",
       "3       0.008101      0.001460         0.002418        0.000341     0.1   \n",
       "1       0.019963      0.026308         0.002130        0.000871    0.01   \n",
       "2       0.005595      0.001908         0.001972        0.000825     0.1   \n",
       "0       0.022581      0.031475         0.002083        0.000847    0.01   \n",
       "\n",
       "  param_penalty                        params  split0_test_score  \\\n",
       "8            l1   {'C': 100, 'penalty': 'l1'}           0.788462   \n",
       "7            l2    {'C': 10, 'penalty': 'l2'}           0.788462   \n",
       "9            l2   {'C': 100, 'penalty': 'l2'}           0.788462   \n",
       "4            l1     {'C': 1, 'penalty': 'l1'}           0.794872   \n",
       "6            l1    {'C': 10, 'penalty': 'l1'}           0.788462   \n",
       "5            l2     {'C': 1, 'penalty': 'l2'}           0.782051   \n",
       "3            l2   {'C': 0.1, 'penalty': 'l2'}           0.775641   \n",
       "1            l2  {'C': 0.01, 'penalty': 'l2'}           0.801282   \n",
       "2            l1   {'C': 0.1, 'penalty': 'l1'}           0.788462   \n",
       "0            l1  {'C': 0.01, 'penalty': 'l1'}           0.615385   \n",
       "\n",
       "   split1_test_score  split2_test_score  split3_test_score  mean_test_score  \\\n",
       "8           0.826923           0.839744           0.864516         0.829856   \n",
       "7           0.826923           0.839744           0.858065         0.828250   \n",
       "9           0.826923           0.839744           0.858065         0.828250   \n",
       "4           0.820513           0.839744           0.851613         0.826645   \n",
       "6           0.820513           0.839744           0.858065         0.826645   \n",
       "5           0.820513           0.839744           0.845161         0.821830   \n",
       "3           0.807692           0.801282           0.812903         0.799358   \n",
       "1           0.807692           0.788462           0.748387         0.786517   \n",
       "2           0.788462           0.782051           0.741935         0.775281   \n",
       "0           0.615385           0.615385           0.619355         0.616372   \n",
       "\n",
       "   std_test_score  rank_test_score  \n",
       "8        0.027470                1  \n",
       "7        0.025516                2  \n",
       "9        0.025516                2  \n",
       "4        0.021454                4  \n",
       "6        0.025750                4  \n",
       "5        0.024748                6  \n",
       "3        0.014311                7  \n",
       "1        0.023012                8  \n",
       "2        0.019368                9  \n",
       "0        0.001716               10  "
      ]
     },
     "execution_count": 47,
     "metadata": {},
     "output_type": "execute_result"
    }
   ],
   "source": [
    "# Optimització de paràmetres de regressió logística\n",
    "\n",
    "parameters = {'C':[0.01, 0.1, 1, 10, 100], 'penalty':['l1','l2']}\n",
    "modelLR = LogisticRegression(solver='liblinear')\n",
    "search = GridSearchCV(modelLR, parameters, cv=4, return_train_score=False)\n",
    "search.fit(X_train, y_train)\n",
    "resultat = pd.DataFrame(search.cv_results_)\n",
    "resultat.sort_values(by='mean_test_score', ascending=False)"
   ]
  },
  {
   "cell_type": "code",
   "execution_count": 48,
   "metadata": {
    "scrolled": true
   },
   "outputs": [
    {
     "data": {
      "text/plain": [
       "<module 'matplotlib.pyplot' from '/Users/victor/anaconda3/lib/python3.6/site-packages/matplotlib/pyplot.py'>"
      ]
     },
     "execution_count": 48,
     "metadata": {},
     "output_type": "execute_result"
    },
    {
     "data": {
      "image/png": "[encoded data removed]",
      "text/plain": [
       "<Figure size 432x288 with 2 Axes>"
      ]
     },
     "metadata": {
      "needs_background": "light"
     },
     "output_type": "display_data"
    }
   ],
   "source": [
    "# Matriu de confusió\n",
    "\n",
    "modelRL = LogisticRegression(C=10, penalty='l2', solver='liblinear').fit(X_train, y_train)\n",
    "prediccio ['RegLog'] = modelRL.predict(X_test)\n",
    "\n",
    "avaluacio = {'RegLog':(prediccio['RegLog']==prediccio['Real']).mean()}\n",
    "\n",
    "matrix = confusion_matrix(y_test, prediccio['RegLog'])\n",
    "sns.heatmap(matrix, annot=True, fmt=\"d\", cmap='Blues', square=True)\n",
    "plt.xlabel('Prediccio')\n",
    "plt.ylabel('Real')\n",
    "plt"
   ]
  },
  {
   "cell_type": "markdown",
   "metadata": {},
   "source": [
    "### Arbres de decisió"
   ]
  },
  {
   "cell_type": "code",
   "execution_count": 49,
   "metadata": {},
   "outputs": [
    {
     "data": {
      "text/html": [
       "<div>\n",
       "<style scoped>\n",
       "    .dataframe tbody tr th:only-of-type {\n",
       "        vertical-align: middle;\n",
       "    }\n",
       "\n",
       "    .dataframe tbody tr th {\n",
       "        vertical-align: top;\n",
       "    }\n",
       "\n",
       "    .dataframe thead th {\n",
       "        text-align: right;\n",
       "    }\n",
       "</style>\n",
       "<table border=\"1\" class=\"dataframe\">\n",
       "  <thead>\n",
       "    <tr style=\"text-align: right;\">\n",
       "      <th></th>\n",
       "      <th>mean_fit_time</th>\n",
       "      <th>std_fit_time</th>\n",
       "      <th>mean_score_time</th>\n",
       "      <th>std_score_time</th>\n",
       "      <th>param_criterion</th>\n",
       "      <th>param_splitter</th>\n",
       "      <th>params</th>\n",
       "      <th>split0_test_score</th>\n",
       "      <th>split1_test_score</th>\n",
       "      <th>split2_test_score</th>\n",
       "      <th>split3_test_score</th>\n",
       "      <th>mean_test_score</th>\n",
       "      <th>std_test_score</th>\n",
       "      <th>rank_test_score</th>\n",
       "    </tr>\n",
       "  </thead>\n",
       "  <tbody>\n",
       "    <tr>\n",
       "      <th>0</th>\n",
       "      <td>0.016158</td>\n",
       "      <td>0.018058</td>\n",
       "      <td>0.002147</td>\n",
       "      <td>0.000390</td>\n",
       "      <td>gini</td>\n",
       "      <td>best</td>\n",
       "      <td>{'criterion': 'gini', 'splitter': 'best'}</td>\n",
       "      <td>0.775641</td>\n",
       "      <td>0.762821</td>\n",
       "      <td>0.782051</td>\n",
       "      <td>0.754839</td>\n",
       "      <td>0.768860</td>\n",
       "      <td>0.010636</td>\n",
       "      <td>1</td>\n",
       "    </tr>\n",
       "    <tr>\n",
       "      <th>1</th>\n",
       "      <td>0.004465</td>\n",
       "      <td>0.000419</td>\n",
       "      <td>0.001696</td>\n",
       "      <td>0.000072</td>\n",
       "      <td>gini</td>\n",
       "      <td>random</td>\n",
       "      <td>{'criterion': 'gini', 'splitter': 'random'}</td>\n",
       "      <td>0.775641</td>\n",
       "      <td>0.762821</td>\n",
       "      <td>0.750000</td>\n",
       "      <td>0.780645</td>\n",
       "      <td>0.767255</td>\n",
       "      <td>0.011904</td>\n",
       "      <td>2</td>\n",
       "    </tr>\n",
       "    <tr>\n",
       "      <th>2</th>\n",
       "      <td>0.004829</td>\n",
       "      <td>0.000723</td>\n",
       "      <td>0.001657</td>\n",
       "      <td>0.000074</td>\n",
       "      <td>entropy</td>\n",
       "      <td>best</td>\n",
       "      <td>{'criterion': 'entropy', 'splitter': 'best'}</td>\n",
       "      <td>0.775641</td>\n",
       "      <td>0.775641</td>\n",
       "      <td>0.743590</td>\n",
       "      <td>0.767742</td>\n",
       "      <td>0.765650</td>\n",
       "      <td>0.013151</td>\n",
       "      <td>3</td>\n",
       "    </tr>\n",
       "    <tr>\n",
       "      <th>3</th>\n",
       "      <td>0.004457</td>\n",
       "      <td>0.000305</td>\n",
       "      <td>0.001802</td>\n",
       "      <td>0.000245</td>\n",
       "      <td>entropy</td>\n",
       "      <td>random</td>\n",
       "      <td>{'criterion': 'entropy', 'splitter': 'random'}</td>\n",
       "      <td>0.769231</td>\n",
       "      <td>0.775641</td>\n",
       "      <td>0.750000</td>\n",
       "      <td>0.748387</td>\n",
       "      <td>0.760835</td>\n",
       "      <td>0.011853</td>\n",
       "      <td>4</td>\n",
       "    </tr>\n",
       "  </tbody>\n",
       "</table>\n",
       "</div>"
      ],
      "text/plain": [
       "   mean_fit_time  std_fit_time  mean_score_time  std_score_time  \\\n",
       "0       0.016158      0.018058         0.002147        0.000390   \n",
       "1       0.004465      0.000419         0.001696        0.000072   \n",
       "2       0.004829      0.000723         0.001657        0.000074   \n",
       "3       0.004457      0.000305         0.001802        0.000245   \n",
       "\n",
       "  param_criterion param_splitter  \\\n",
       "0            gini           best   \n",
       "1            gini         random   \n",
       "2         entropy           best   \n",
       "3         entropy         random   \n",
       "\n",
       "                                           params  split0_test_score  \\\n",
       "0       {'criterion': 'gini', 'splitter': 'best'}           0.775641   \n",
       "1     {'criterion': 'gini', 'splitter': 'random'}           0.775641   \n",
       "2    {'criterion': 'entropy', 'splitter': 'best'}           0.775641   \n",
       "3  {'criterion': 'entropy', 'splitter': 'random'}           0.769231   \n",
       "\n",
       "   split1_test_score  split2_test_score  split3_test_score  mean_test_score  \\\n",
       "0           0.762821           0.782051           0.754839         0.768860   \n",
       "1           0.762821           0.750000           0.780645         0.767255   \n",
       "2           0.775641           0.743590           0.767742         0.765650   \n",
       "3           0.775641           0.750000           0.748387         0.760835   \n",
       "\n",
       "   std_test_score  rank_test_score  \n",
       "0        0.010636                1  \n",
       "1        0.011904                2  \n",
       "2        0.013151                3  \n",
       "3        0.011853                4  "
      ]
     },
     "execution_count": 49,
     "metadata": {},
     "output_type": "execute_result"
    }
   ],
   "source": [
    "# Optimització dels paràmetres\n",
    "\n",
    "parameters = {'criterion':['gini','entropy'], 'splitter':['best','random']}\n",
    "modelDTree = DecisionTreeClassifier()\n",
    "search = GridSearchCV(modelDTree, parameters, cv=4, return_train_score=False)\n",
    "search.fit(X_train, y_train)\n",
    "resultat = pd.DataFrame(search.cv_results_)\n",
    "resultat.sort_values(by='mean_test_score', ascending=False)"
   ]
  },
  {
   "cell_type": "code",
   "execution_count": 50,
   "metadata": {
    "scrolled": true
   },
   "outputs": [
    {
     "data": {
      "text/plain": [
       "<module 'matplotlib.pyplot' from '/Users/victor/anaconda3/lib/python3.6/site-packages/matplotlib/pyplot.py'>"
      ]
     },
     "execution_count": 50,
     "metadata": {},
     "output_type": "execute_result"
    },
    {
     "data": {
      "image/png": "[encoded data removed]",
      "text/plain": [
       "<Figure size 432x288 with 2 Axes>"
      ]
     },
     "metadata": {
      "needs_background": "light"
     },
     "output_type": "display_data"
    }
   ],
   "source": [
    "# Matriu de confusió\n",
    "\n",
    "modelDTree = DecisionTreeClassifier(criterion='gini',splitter='best').fit(X_train, y_train)\n",
    "prediccio['DTree'] = modelDTree.predict(X_test)\n",
    "\n",
    "avaluacio['DTree'] = (prediccio['DTree']==prediccio['Real']).mean()\n",
    "\n",
    "matrix = confusion_matrix(y_test, prediccio['DTree'])\n",
    "sns.heatmap(matrix, annot=True, fmt=\"d\", cmap='Blues', square=True)\n",
    "plt.xlabel('Prediccio')\n",
    "plt.ylabel('Real')\n",
    "plt"
   ]
  },
  {
   "cell_type": "markdown",
   "metadata": {},
   "source": [
    "### Random forests"
   ]
  },
  {
   "cell_type": "code",
   "execution_count": 52,
   "metadata": {
    "scrolled": true
   },
   "outputs": [
    {
     "data": {
      "text/plain": [
       "<module 'matplotlib.pyplot' from '/Users/victor/anaconda3/lib/python3.6/site-packages/matplotlib/pyplot.py'>"
      ]
     },
     "execution_count": 52,
     "metadata": {},
     "output_type": "execute_result"
    },
    {
     "data": {
      "image/png": "[encoded data removed]",
      "text/plain": [
       "<Figure size 432x288 with 2 Axes>"
      ]
     },
     "metadata": {
      "needs_background": "light"
     },
     "output_type": "display_data"
    }
   ],
   "source": [
    "# Matriu de confusió\n",
    "\n",
    "modelRanFor = RandomForestClassifier(1000).fit(X_train, y_train)\n",
    "prediccio['RanFor'] = modelRanFor.predict(X_test)\n",
    "\n",
    "avaluacio['RanFor'] = (prediccio['RanFor']==prediccio['Real']).mean()\n",
    "\n",
    "matrix = confusion_matrix(y_test, prediccio['RanFor'])\n",
    "sns.heatmap(matrix, annot=True, fmt=\"d\", cmap='Blues', square=True)\n",
    "plt.xlabel('Prediccio')\n",
    "plt.ylabel('Real')\n",
    "plt"
   ]
  },
  {
   "cell_type": "markdown",
   "metadata": {},
   "source": [
    "### kNN"
   ]
  },
  {
   "cell_type": "code",
   "execution_count": 53,
   "metadata": {},
   "outputs": [
    {
     "data": {
      "text/html": [
       "<div>\n",
       "<style scoped>\n",
       "    .dataframe tbody tr th:only-of-type {\n",
       "        vertical-align: middle;\n",
       "    }\n",
       "\n",
       "    .dataframe tbody tr th {\n",
       "        vertical-align: top;\n",
       "    }\n",
       "\n",
       "    .dataframe thead th {\n",
       "        text-align: right;\n",
       "    }\n",
       "</style>\n",
       "<table border=\"1\" class=\"dataframe\">\n",
       "  <thead>\n",
       "    <tr style=\"text-align: right;\">\n",
       "      <th></th>\n",
       "      <th>mean_fit_time</th>\n",
       "      <th>std_fit_time</th>\n",
       "      <th>mean_score_time</th>\n",
       "      <th>std_score_time</th>\n",
       "      <th>param_n_neighbors</th>\n",
       "      <th>params</th>\n",
       "      <th>split0_test_score</th>\n",
       "      <th>split1_test_score</th>\n",
       "      <th>split2_test_score</th>\n",
       "      <th>split3_test_score</th>\n",
       "      <th>mean_test_score</th>\n",
       "      <th>std_test_score</th>\n",
       "      <th>rank_test_score</th>\n",
       "    </tr>\n",
       "  </thead>\n",
       "  <tbody>\n",
       "    <tr>\n",
       "      <th>1</th>\n",
       "      <td>0.004358</td>\n",
       "      <td>0.000387</td>\n",
       "      <td>0.010771</td>\n",
       "      <td>0.000919</td>\n",
       "      <td>4</td>\n",
       "      <td>{'n_neighbors': 4}</td>\n",
       "      <td>0.794872</td>\n",
       "      <td>0.826923</td>\n",
       "      <td>0.788462</td>\n",
       "      <td>0.793548</td>\n",
       "      <td>0.800963</td>\n",
       "      <td>0.015194</td>\n",
       "      <td>1</td>\n",
       "    </tr>\n",
       "    <tr>\n",
       "      <th>3</th>\n",
       "      <td>0.004123</td>\n",
       "      <td>0.000056</td>\n",
       "      <td>0.032093</td>\n",
       "      <td>0.037237</td>\n",
       "      <td>6</td>\n",
       "      <td>{'n_neighbors': 6}</td>\n",
       "      <td>0.788462</td>\n",
       "      <td>0.814103</td>\n",
       "      <td>0.788462</td>\n",
       "      <td>0.806452</td>\n",
       "      <td>0.799358</td>\n",
       "      <td>0.011244</td>\n",
       "      <td>2</td>\n",
       "    </tr>\n",
       "    <tr>\n",
       "      <th>2</th>\n",
       "      <td>0.004108</td>\n",
       "      <td>0.000080</td>\n",
       "      <td>0.010657</td>\n",
       "      <td>0.000587</td>\n",
       "      <td>5</td>\n",
       "      <td>{'n_neighbors': 5}</td>\n",
       "      <td>0.788462</td>\n",
       "      <td>0.801282</td>\n",
       "      <td>0.788462</td>\n",
       "      <td>0.793548</td>\n",
       "      <td>0.792937</td>\n",
       "      <td>0.005250</td>\n",
       "      <td>3</td>\n",
       "    </tr>\n",
       "    <tr>\n",
       "      <th>0</th>\n",
       "      <td>0.024430</td>\n",
       "      <td>0.034497</td>\n",
       "      <td>0.010039</td>\n",
       "      <td>0.000276</td>\n",
       "      <td>3</td>\n",
       "      <td>{'n_neighbors': 3}</td>\n",
       "      <td>0.801282</td>\n",
       "      <td>0.801282</td>\n",
       "      <td>0.769231</td>\n",
       "      <td>0.761290</td>\n",
       "      <td>0.783307</td>\n",
       "      <td>0.018222</td>\n",
       "      <td>4</td>\n",
       "    </tr>\n",
       "  </tbody>\n",
       "</table>\n",
       "</div>"
      ],
      "text/plain": [
       "   mean_fit_time  std_fit_time  mean_score_time  std_score_time  \\\n",
       "1       0.004358      0.000387         0.010771        0.000919   \n",
       "3       0.004123      0.000056         0.032093        0.037237   \n",
       "2       0.004108      0.000080         0.010657        0.000587   \n",
       "0       0.024430      0.034497         0.010039        0.000276   \n",
       "\n",
       "  param_n_neighbors              params  split0_test_score  split1_test_score  \\\n",
       "1                 4  {'n_neighbors': 4}           0.794872           0.826923   \n",
       "3                 6  {'n_neighbors': 6}           0.788462           0.814103   \n",
       "2                 5  {'n_neighbors': 5}           0.788462           0.801282   \n",
       "0                 3  {'n_neighbors': 3}           0.801282           0.801282   \n",
       "\n",
       "   split2_test_score  split3_test_score  mean_test_score  std_test_score  \\\n",
       "1           0.788462           0.793548         0.800963        0.015194   \n",
       "3           0.788462           0.806452         0.799358        0.011244   \n",
       "2           0.788462           0.793548         0.792937        0.005250   \n",
       "0           0.769231           0.761290         0.783307        0.018222   \n",
       "\n",
       "   rank_test_score  \n",
       "1                1  \n",
       "3                2  \n",
       "2                3  \n",
       "0                4  "
      ]
     },
     "execution_count": 53,
     "metadata": {},
     "output_type": "execute_result"
    }
   ],
   "source": [
    "# Optimització de paràmetres\n",
    "\n",
    "parameters = {'n_neighbors':range(3,7)}\n",
    "modelKNN = KNeighborsClassifier()\n",
    "search = GridSearchCV(modelKNN, parameters, cv=4, return_train_score=False)\n",
    "search.fit(X_train, y_train)\n",
    "resultat = pd.DataFrame(search.cv_results_)\n",
    "resultat.sort_values(by='mean_test_score', ascending=False)"
   ]
  },
  {
   "cell_type": "code",
   "execution_count": 54,
   "metadata": {},
   "outputs": [
    {
     "data": {
      "text/plain": [
       "<module 'matplotlib.pyplot' from '/Users/victor/anaconda3/lib/python3.6/site-packages/matplotlib/pyplot.py'>"
      ]
     },
     "execution_count": 54,
     "metadata": {},
     "output_type": "execute_result"
    },
    {
     "data": {
      "image/png": "[encoded data removed]",
      "text/plain": [
       "<Figure size 432x288 with 2 Axes>"
      ]
     },
     "metadata": {
      "needs_background": "light"
     },
     "output_type": "display_data"
    }
   ],
   "source": [
    "# Matriu de confusió\n",
    "\n",
    "modelKNN = KNeighborsClassifier(4)\n",
    "modelKNN.fit(X_train, y_train)\n",
    "\n",
    "prediccio['KNN'] = modelKNN.predict(X_test)\n",
    "avaluacio['KNN'] = (prediccio['KNN']==prediccio['Real']).mean()\n",
    "\n",
    "matrix = confusion_matrix(y_test, prediccio['KNN'])\n",
    "sns.heatmap(matrix, annot=True, fmt=\"d\", cmap='Blues', square=True)\n",
    "plt.xlabel('Prediccio')\n",
    "plt.ylabel('Real')\n",
    "plt"
   ]
  },
  {
   "cell_type": "markdown",
   "metadata": {},
   "source": [
    "### Support Vector Machines"
   ]
  },
  {
   "cell_type": "code",
   "execution_count": 55,
   "metadata": {},
   "outputs": [
    {
     "data": {
      "text/html": [
       "<div>\n",
       "<style scoped>\n",
       "    .dataframe tbody tr th:only-of-type {\n",
       "        vertical-align: middle;\n",
       "    }\n",
       "\n",
       "    .dataframe tbody tr th {\n",
       "        vertical-align: top;\n",
       "    }\n",
       "\n",
       "    .dataframe thead th {\n",
       "        text-align: right;\n",
       "    }\n",
       "</style>\n",
       "<table border=\"1\" class=\"dataframe\">\n",
       "  <thead>\n",
       "    <tr style=\"text-align: right;\">\n",
       "      <th></th>\n",
       "      <th>mean_fit_time</th>\n",
       "      <th>std_fit_time</th>\n",
       "      <th>mean_score_time</th>\n",
       "      <th>std_score_time</th>\n",
       "      <th>param_C</th>\n",
       "      <th>param_gamma</th>\n",
       "      <th>param_kernel</th>\n",
       "      <th>params</th>\n",
       "      <th>split0_test_score</th>\n",
       "      <th>split1_test_score</th>\n",
       "      <th>split2_test_score</th>\n",
       "      <th>split3_test_score</th>\n",
       "      <th>mean_test_score</th>\n",
       "      <th>std_test_score</th>\n",
       "      <th>rank_test_score</th>\n",
       "    </tr>\n",
       "  </thead>\n",
       "  <tbody>\n",
       "    <tr>\n",
       "      <th>3</th>\n",
       "      <td>0.010151</td>\n",
       "      <td>0.001260</td>\n",
       "      <td>0.003581</td>\n",
       "      <td>0.001205</td>\n",
       "      <td>1</td>\n",
       "      <td>scale</td>\n",
       "      <td>rbf</td>\n",
       "      <td>{'C': 1, 'gamma': 'scale', 'kernel': 'rbf'}</td>\n",
       "      <td>0.801282</td>\n",
       "      <td>0.820513</td>\n",
       "      <td>0.833333</td>\n",
       "      <td>0.864516</td>\n",
       "      <td>0.829856</td>\n",
       "      <td>0.022983</td>\n",
       "      <td>1</td>\n",
       "    </tr>\n",
       "    <tr>\n",
       "      <th>1</th>\n",
       "      <td>0.009129</td>\n",
       "      <td>0.000292</td>\n",
       "      <td>0.003008</td>\n",
       "      <td>0.000065</td>\n",
       "      <td>1</td>\n",
       "      <td>auto</td>\n",
       "      <td>rbf</td>\n",
       "      <td>{'C': 1, 'gamma': 'auto', 'kernel': 'rbf'}</td>\n",
       "      <td>0.801282</td>\n",
       "      <td>0.820513</td>\n",
       "      <td>0.826923</td>\n",
       "      <td>0.864516</td>\n",
       "      <td>0.828250</td>\n",
       "      <td>0.022908</td>\n",
       "      <td>2</td>\n",
       "    </tr>\n",
       "    <tr>\n",
       "      <th>7</th>\n",
       "      <td>0.013110</td>\n",
       "      <td>0.000979</td>\n",
       "      <td>0.003534</td>\n",
       "      <td>0.000397</td>\n",
       "      <td>5</td>\n",
       "      <td>scale</td>\n",
       "      <td>rbf</td>\n",
       "      <td>{'C': 5, 'gamma': 'scale', 'kernel': 'rbf'}</td>\n",
       "      <td>0.801282</td>\n",
       "      <td>0.814103</td>\n",
       "      <td>0.833333</td>\n",
       "      <td>0.864516</td>\n",
       "      <td>0.828250</td>\n",
       "      <td>0.023789</td>\n",
       "      <td>2</td>\n",
       "    </tr>\n",
       "    <tr>\n",
       "      <th>5</th>\n",
       "      <td>0.010402</td>\n",
       "      <td>0.000353</td>\n",
       "      <td>0.003573</td>\n",
       "      <td>0.001098</td>\n",
       "      <td>5</td>\n",
       "      <td>auto</td>\n",
       "      <td>rbf</td>\n",
       "      <td>{'C': 5, 'gamma': 'auto', 'kernel': 'rbf'}</td>\n",
       "      <td>0.801282</td>\n",
       "      <td>0.814103</td>\n",
       "      <td>0.839744</td>\n",
       "      <td>0.832258</td>\n",
       "      <td>0.821830</td>\n",
       "      <td>0.015102</td>\n",
       "      <td>4</td>\n",
       "    </tr>\n",
       "    <tr>\n",
       "      <th>11</th>\n",
       "      <td>0.013427</td>\n",
       "      <td>0.001667</td>\n",
       "      <td>0.003397</td>\n",
       "      <td>0.000584</td>\n",
       "      <td>10</td>\n",
       "      <td>scale</td>\n",
       "      <td>rbf</td>\n",
       "      <td>{'C': 10, 'gamma': 'scale', 'kernel': 'rbf'}</td>\n",
       "      <td>0.801282</td>\n",
       "      <td>0.814103</td>\n",
       "      <td>0.839744</td>\n",
       "      <td>0.832258</td>\n",
       "      <td>0.821830</td>\n",
       "      <td>0.015102</td>\n",
       "      <td>4</td>\n",
       "    </tr>\n",
       "    <tr>\n",
       "      <th>9</th>\n",
       "      <td>0.012344</td>\n",
       "      <td>0.001099</td>\n",
       "      <td>0.003760</td>\n",
       "      <td>0.000940</td>\n",
       "      <td>10</td>\n",
       "      <td>auto</td>\n",
       "      <td>rbf</td>\n",
       "      <td>{'C': 10, 'gamma': 'auto', 'kernel': 'rbf'}</td>\n",
       "      <td>0.788462</td>\n",
       "      <td>0.814103</td>\n",
       "      <td>0.833333</td>\n",
       "      <td>0.825806</td>\n",
       "      <td>0.815409</td>\n",
       "      <td>0.017018</td>\n",
       "      <td>6</td>\n",
       "    </tr>\n",
       "    <tr>\n",
       "      <th>15</th>\n",
       "      <td>0.014964</td>\n",
       "      <td>0.002375</td>\n",
       "      <td>0.002900</td>\n",
       "      <td>0.000391</td>\n",
       "      <td>20</td>\n",
       "      <td>scale</td>\n",
       "      <td>rbf</td>\n",
       "      <td>{'C': 20, 'gamma': 'scale', 'kernel': 'rbf'}</td>\n",
       "      <td>0.782051</td>\n",
       "      <td>0.814103</td>\n",
       "      <td>0.833333</td>\n",
       "      <td>0.825806</td>\n",
       "      <td>0.813804</td>\n",
       "      <td>0.019592</td>\n",
       "      <td>7</td>\n",
       "    </tr>\n",
       "    <tr>\n",
       "      <th>13</th>\n",
       "      <td>0.014277</td>\n",
       "      <td>0.001595</td>\n",
       "      <td>0.002985</td>\n",
       "      <td>0.000328</td>\n",
       "      <td>20</td>\n",
       "      <td>auto</td>\n",
       "      <td>rbf</td>\n",
       "      <td>{'C': 20, 'gamma': 'auto', 'kernel': 'rbf'}</td>\n",
       "      <td>0.762821</td>\n",
       "      <td>0.833333</td>\n",
       "      <td>0.820513</td>\n",
       "      <td>0.812903</td>\n",
       "      <td>0.807384</td>\n",
       "      <td>0.026770</td>\n",
       "      <td>8</td>\n",
       "    </tr>\n",
       "    <tr>\n",
       "      <th>0</th>\n",
       "      <td>0.018987</td>\n",
       "      <td>0.015508</td>\n",
       "      <td>0.002706</td>\n",
       "      <td>0.000401</td>\n",
       "      <td>1</td>\n",
       "      <td>auto</td>\n",
       "      <td>linear</td>\n",
       "      <td>{'C': 1, 'gamma': 'auto', 'kernel': 'linear'}</td>\n",
       "      <td>0.801282</td>\n",
       "      <td>0.807692</td>\n",
       "      <td>0.807692</td>\n",
       "      <td>0.767742</td>\n",
       "      <td>0.796148</td>\n",
       "      <td>0.016556</td>\n",
       "      <td>9</td>\n",
       "    </tr>\n",
       "    <tr>\n",
       "      <th>2</th>\n",
       "      <td>0.009800</td>\n",
       "      <td>0.001248</td>\n",
       "      <td>0.002462</td>\n",
       "      <td>0.000162</td>\n",
       "      <td>1</td>\n",
       "      <td>scale</td>\n",
       "      <td>linear</td>\n",
       "      <td>{'C': 1, 'gamma': 'scale', 'kernel': 'linear'}</td>\n",
       "      <td>0.801282</td>\n",
       "      <td>0.807692</td>\n",
       "      <td>0.807692</td>\n",
       "      <td>0.767742</td>\n",
       "      <td>0.796148</td>\n",
       "      <td>0.016556</td>\n",
       "      <td>9</td>\n",
       "    </tr>\n",
       "    <tr>\n",
       "      <th>4</th>\n",
       "      <td>0.016194</td>\n",
       "      <td>0.003977</td>\n",
       "      <td>0.002343</td>\n",
       "      <td>0.000057</td>\n",
       "      <td>5</td>\n",
       "      <td>auto</td>\n",
       "      <td>linear</td>\n",
       "      <td>{'C': 5, 'gamma': 'auto', 'kernel': 'linear'}</td>\n",
       "      <td>0.794872</td>\n",
       "      <td>0.801282</td>\n",
       "      <td>0.801282</td>\n",
       "      <td>0.767742</td>\n",
       "      <td>0.791332</td>\n",
       "      <td>0.013826</td>\n",
       "      <td>11</td>\n",
       "    </tr>\n",
       "    <tr>\n",
       "      <th>6</th>\n",
       "      <td>0.016126</td>\n",
       "      <td>0.003578</td>\n",
       "      <td>0.002394</td>\n",
       "      <td>0.000112</td>\n",
       "      <td>5</td>\n",
       "      <td>scale</td>\n",
       "      <td>linear</td>\n",
       "      <td>{'C': 5, 'gamma': 'scale', 'kernel': 'linear'}</td>\n",
       "      <td>0.794872</td>\n",
       "      <td>0.801282</td>\n",
       "      <td>0.801282</td>\n",
       "      <td>0.767742</td>\n",
       "      <td>0.791332</td>\n",
       "      <td>0.013826</td>\n",
       "      <td>11</td>\n",
       "    </tr>\n",
       "    <tr>\n",
       "      <th>8</th>\n",
       "      <td>0.027855</td>\n",
       "      <td>0.009457</td>\n",
       "      <td>0.002736</td>\n",
       "      <td>0.000414</td>\n",
       "      <td>10</td>\n",
       "      <td>auto</td>\n",
       "      <td>linear</td>\n",
       "      <td>{'C': 10, 'gamma': 'auto', 'kernel': 'linear'}</td>\n",
       "      <td>0.794872</td>\n",
       "      <td>0.801282</td>\n",
       "      <td>0.801282</td>\n",
       "      <td>0.767742</td>\n",
       "      <td>0.791332</td>\n",
       "      <td>0.013826</td>\n",
       "      <td>11</td>\n",
       "    </tr>\n",
       "    <tr>\n",
       "      <th>10</th>\n",
       "      <td>0.030334</td>\n",
       "      <td>0.009300</td>\n",
       "      <td>0.003378</td>\n",
       "      <td>0.000490</td>\n",
       "      <td>10</td>\n",
       "      <td>scale</td>\n",
       "      <td>linear</td>\n",
       "      <td>{'C': 10, 'gamma': 'scale', 'kernel': 'linear'}</td>\n",
       "      <td>0.794872</td>\n",
       "      <td>0.801282</td>\n",
       "      <td>0.801282</td>\n",
       "      <td>0.767742</td>\n",
       "      <td>0.791332</td>\n",
       "      <td>0.013826</td>\n",
       "      <td>11</td>\n",
       "    </tr>\n",
       "    <tr>\n",
       "      <th>12</th>\n",
       "      <td>0.042616</td>\n",
       "      <td>0.016570</td>\n",
       "      <td>0.002851</td>\n",
       "      <td>0.000637</td>\n",
       "      <td>20</td>\n",
       "      <td>auto</td>\n",
       "      <td>linear</td>\n",
       "      <td>{'C': 20, 'gamma': 'auto', 'kernel': 'linear'}</td>\n",
       "      <td>0.794872</td>\n",
       "      <td>0.801282</td>\n",
       "      <td>0.801282</td>\n",
       "      <td>0.767742</td>\n",
       "      <td>0.791332</td>\n",
       "      <td>0.013826</td>\n",
       "      <td>11</td>\n",
       "    </tr>\n",
       "    <tr>\n",
       "      <th>14</th>\n",
       "      <td>0.043637</td>\n",
       "      <td>0.011933</td>\n",
       "      <td>0.003347</td>\n",
       "      <td>0.001059</td>\n",
       "      <td>20</td>\n",
       "      <td>scale</td>\n",
       "      <td>linear</td>\n",
       "      <td>{'C': 20, 'gamma': 'scale', 'kernel': 'linear'}</td>\n",
       "      <td>0.794872</td>\n",
       "      <td>0.801282</td>\n",
       "      <td>0.801282</td>\n",
       "      <td>0.767742</td>\n",
       "      <td>0.791332</td>\n",
       "      <td>0.013826</td>\n",
       "      <td>11</td>\n",
       "    </tr>\n",
       "  </tbody>\n",
       "</table>\n",
       "</div>"
      ],
      "text/plain": [
       "    mean_fit_time  std_fit_time  mean_score_time  std_score_time param_C  \\\n",
       "3        0.010151      0.001260         0.003581        0.001205       1   \n",
       "1        0.009129      0.000292         0.003008        0.000065       1   \n",
       "7        0.013110      0.000979         0.003534        0.000397       5   \n",
       "5        0.010402      0.000353         0.003573        0.001098       5   \n",
       "11       0.013427      0.001667         0.003397        0.000584      10   \n",
       "9        0.012344      0.001099         0.003760        0.000940      10   \n",
       "15       0.014964      0.002375         0.002900        0.000391      20   \n",
       "13       0.014277      0.001595         0.002985        0.000328      20   \n",
       "0        0.018987      0.015508         0.002706        0.000401       1   \n",
       "2        0.009800      0.001248         0.002462        0.000162       1   \n",
       "4        0.016194      0.003977         0.002343        0.000057       5   \n",
       "6        0.016126      0.003578         0.002394        0.000112       5   \n",
       "8        0.027855      0.009457         0.002736        0.000414      10   \n",
       "10       0.030334      0.009300         0.003378        0.000490      10   \n",
       "12       0.042616      0.016570         0.002851        0.000637      20   \n",
       "14       0.043637      0.011933         0.003347        0.001059      20   \n",
       "\n",
       "   param_gamma param_kernel                                           params  \\\n",
       "3        scale          rbf      {'C': 1, 'gamma': 'scale', 'kernel': 'rbf'}   \n",
       "1         auto          rbf       {'C': 1, 'gamma': 'auto', 'kernel': 'rbf'}   \n",
       "7        scale          rbf      {'C': 5, 'gamma': 'scale', 'kernel': 'rbf'}   \n",
       "5         auto          rbf       {'C': 5, 'gamma': 'auto', 'kernel': 'rbf'}   \n",
       "11       scale          rbf     {'C': 10, 'gamma': 'scale', 'kernel': 'rbf'}   \n",
       "9         auto          rbf      {'C': 10, 'gamma': 'auto', 'kernel': 'rbf'}   \n",
       "15       scale          rbf     {'C': 20, 'gamma': 'scale', 'kernel': 'rbf'}   \n",
       "13        auto          rbf      {'C': 20, 'gamma': 'auto', 'kernel': 'rbf'}   \n",
       "0         auto       linear    {'C': 1, 'gamma': 'auto', 'kernel': 'linear'}   \n",
       "2        scale       linear   {'C': 1, 'gamma': 'scale', 'kernel': 'linear'}   \n",
       "4         auto       linear    {'C': 5, 'gamma': 'auto', 'kernel': 'linear'}   \n",
       "6        scale       linear   {'C': 5, 'gamma': 'scale', 'kernel': 'linear'}   \n",
       "8         auto       linear   {'C': 10, 'gamma': 'auto', 'kernel': 'linear'}   \n",
       "10       scale       linear  {'C': 10, 'gamma': 'scale', 'kernel': 'linear'}   \n",
       "12        auto       linear   {'C': 20, 'gamma': 'auto', 'kernel': 'linear'}   \n",
       "14       scale       linear  {'C': 20, 'gamma': 'scale', 'kernel': 'linear'}   \n",
       "\n",
       "    split0_test_score  split1_test_score  split2_test_score  \\\n",
       "3            0.801282           0.820513           0.833333   \n",
       "1            0.801282           0.820513           0.826923   \n",
       "7            0.801282           0.814103           0.833333   \n",
       "5            0.801282           0.814103           0.839744   \n",
       "11           0.801282           0.814103           0.839744   \n",
       "9            0.788462           0.814103           0.833333   \n",
       "15           0.782051           0.814103           0.833333   \n",
       "13           0.762821           0.833333           0.820513   \n",
       "0            0.801282           0.807692           0.807692   \n",
       "2            0.801282           0.807692           0.807692   \n",
       "4            0.794872           0.801282           0.801282   \n",
       "6            0.794872           0.801282           0.801282   \n",
       "8            0.794872           0.801282           0.801282   \n",
       "10           0.794872           0.801282           0.801282   \n",
       "12           0.794872           0.801282           0.801282   \n",
       "14           0.794872           0.801282           0.801282   \n",
       "\n",
       "    split3_test_score  mean_test_score  std_test_score  rank_test_score  \n",
       "3            0.864516         0.829856        0.022983                1  \n",
       "1            0.864516         0.828250        0.022908                2  \n",
       "7            0.864516         0.828250        0.023789                2  \n",
       "5            0.832258         0.821830        0.015102                4  \n",
       "11           0.832258         0.821830        0.015102                4  \n",
       "9            0.825806         0.815409        0.017018                6  \n",
       "15           0.825806         0.813804        0.019592                7  \n",
       "13           0.812903         0.807384        0.026770                8  \n",
       "0            0.767742         0.796148        0.016556                9  \n",
       "2            0.767742         0.796148        0.016556                9  \n",
       "4            0.767742         0.791332        0.013826               11  \n",
       "6            0.767742         0.791332        0.013826               11  \n",
       "8            0.767742         0.791332        0.013826               11  \n",
       "10           0.767742         0.791332        0.013826               11  \n",
       "12           0.767742         0.791332        0.013826               11  \n",
       "14           0.767742         0.791332        0.013826               11  "
      ]
     },
     "execution_count": 55,
     "metadata": {},
     "output_type": "execute_result"
    }
   ],
   "source": [
    "# Optimització de paràmetres\n",
    "\n",
    "parameters = {'C':[1,5,10,20],'kernel':['linear','rbf'], 'gamma':['auto','scale']}\n",
    "modelSVM = SVC()\n",
    "search = GridSearchCV(modelSVM, parameters, cv=4, return_train_score=False)\n",
    "search.fit(X_train, y_train)\n",
    "resultat = pd.DataFrame(search.cv_results_)\n",
    "resultat.sort_values(by='mean_test_score', ascending=False)"
   ]
  },
  {
   "cell_type": "code",
   "execution_count": 56,
   "metadata": {},
   "outputs": [
    {
     "data": {
      "text/plain": [
       "<module 'matplotlib.pyplot' from '/Users/victor/anaconda3/lib/python3.6/site-packages/matplotlib/pyplot.py'>"
      ]
     },
     "execution_count": 56,
     "metadata": {},
     "output_type": "execute_result"
    },
    {
     "data": {
      "image/png": "[encoded data removed]",
      "text/plain": [
       "<Figure size 432x288 with 2 Axes>"
      ]
     },
     "metadata": {
      "needs_background": "light"
     },
     "output_type": "display_data"
    }
   ],
   "source": [
    "# Matriu de confusió\n",
    "\n",
    "modelSVM = SVC(C=1, kernel='rbf', gamma='scale').fit(X_train, y_train)\n",
    "prediccio['SVM'] = modelSVM.predict(X_test)\n",
    "\n",
    "avaluacio['SVM'] = (prediccio['SVM']==prediccio['Real']).mean()\n",
    "\n",
    "matrix = confusion_matrix(y_test, prediccio['SVM'])\n",
    "sns.heatmap(matrix, annot=True, fmt=\"d\", cmap='Blues', square=True)\n",
    "plt.xlabel('Prediccio')\n",
    "plt.ylabel('Real')\n",
    "plt"
   ]
  },
  {
   "cell_type": "markdown",
   "metadata": {},
   "source": [
    "### Més votat"
   ]
  },
  {
   "cell_type": "code",
   "execution_count": 57,
   "metadata": {
    "scrolled": false
   },
   "outputs": [
    {
     "data": {
      "text/plain": [
       "<module 'matplotlib.pyplot' from '/Users/victor/anaconda3/lib/python3.6/site-packages/matplotlib/pyplot.py'>"
      ]
     },
     "execution_count": 57,
     "metadata": {},
     "output_type": "execute_result"
    },
    {
     "data": {
      "image/png": "[encoded data removed]",
      "text/plain": [
       "<Figure size 432x288 with 2 Axes>"
      ]
     },
     "metadata": {
      "needs_background": "light"
     },
     "output_type": "display_data"
    }
   ],
   "source": [
    "# Matriu de confusió\n",
    "\n",
    "prediccio['Tots'] = prediccio['RegLog']+prediccio['DTree']+prediccio['RanFor']+prediccio['KNN']+prediccio['SVM']\n",
    "prediccio.loc[prediccio.Tots<3,'Tots']=0\n",
    "prediccio.loc[prediccio.Tots>2,'Tots']=1\n",
    "\n",
    "avaluacio['Tots'] = (prediccio['Tots']==prediccio['Real']).mean()\n",
    "\n",
    "matrix = confusion_matrix(y_test, prediccio['Tots'])\n",
    "sns.heatmap(matrix, annot=True, fmt=\"d\", cmap='Blues', square=True)\n",
    "plt.xlabel('Prediccio')\n",
    "plt.ylabel('Real')\n",
    "plt"
   ]
  },
  {
   "cell_type": "code",
   "execution_count": 58,
   "metadata": {
    "scrolled": true
   },
   "outputs": [
    {
     "data": {
      "text/plain": [
       "{'RegLog': 0.8432835820895522,\n",
       " 'DTree': 0.8283582089552238,\n",
       " 'RanFor': 0.8470149253731343,\n",
       " 'KNN': 0.835820895522388,\n",
       " 'SVM': 0.835820895522388,\n",
       " 'Tots': 0.8470149253731343}"
      ]
     },
     "execution_count": 58,
     "metadata": {},
     "output_type": "execute_result"
    }
   ],
   "source": [
    "# Avaluació de la precisió dels models\n",
    "avaluacio"
   ]
  },
  {
   "cell_type": "markdown",
   "metadata": {},
   "source": [
    "## Resultat"
   ]
  },
  {
   "cell_type": "code",
   "execution_count": 59,
   "metadata": {},
   "outputs": [
    {
     "name": "stderr",
     "output_type": "stream",
     "text": [
      "/Users/victor/anaconda3/lib/python3.6/site-packages/sklearn/linear_model/logistic.py:432: FutureWarning: Default solver will be changed to 'lbfgs' in 0.22. Specify a solver to silence this warning.\n",
      "  FutureWarning)\n",
      "/Users/victor/anaconda3/lib/python3.6/site-packages/sklearn/svm/base.py:193: FutureWarning: The default value of gamma will change from 'auto' to 'scale' in version 0.22 to account better for unscaled features. Set gamma explicitly to 'auto' or 'scale' to avoid this warning.\n",
      "  \"avoid this warning.\", FutureWarning)\n"
     ]
    }
   ],
   "source": [
    "# Resultat\n",
    "resultat = pd.DataFrame({'PassengerId':test_id})\n",
    "\n",
    "# Regressió logística\n",
    "modelRL = LogisticRegression().fit(X,y)\n",
    "resultat['RegLog'] = modelRL.predict(test)\n",
    "\n",
    "# Arbres de decisió\n",
    "modelDTree = DecisionTreeClassifier().fit(X,y)\n",
    "resultat['DTree'] = modelDTree.predict(test)\n",
    "\n",
    "# Random forests\n",
    "modelRanFor = RandomForestClassifier(1000).fit(X,y)\n",
    "resultat['RanFor'] = modelRanFor.predict(test)\n",
    "\n",
    "# KNN\n",
    "modelKNN = KNeighborsClassifier(3).fit(X,y)\n",
    "resultat['KNN'] = modelKNN.predict(test)\n",
    "\n",
    "# SVM\n",
    "modelSVM = SVC(probability=True).fit(X,y)\n",
    "resultat['SVM'] = modelSVM.predict(test)\n",
    "\n",
    "# Tots\n",
    "resultat['Tots'] = resultat['RegLog']+resultat['DTree']+resultat['RanFor']+resultat['KNN']+resultat['SVM']\n",
    "resultat.loc[resultat.Tots<3,'Tots']=0\n",
    "resultat.loc[resultat.Tots>2,'Tots']=1\n",
    "\n",
    "\n",
    "# Guardem els resultats del models amb millor precisió\n",
    "resultat['Survived'] = resultat['RanFor']\n",
    "resultat[['PassengerId','Survived']].to_csv('resultat.csv', index = False)"
   ]
  }
 ],
 "metadata": {
  "kernelspec": {
   "display_name": "Python 3",
   "language": "python",
   "name": "python3"
  },
  "language_info": {
   "codemirror_mode": {
    "name": "ipython",
    "version": 3
   },
   "file_extension": ".py",
   "mimetype": "text/x-python",
   "name": "python",
   "nbconvert_exporter": "python",
   "pygments_lexer": "ipython3",
   "version": "3.6.8"
  }
 },
 "nbformat": 4,
 "nbformat_minor": 2
}
