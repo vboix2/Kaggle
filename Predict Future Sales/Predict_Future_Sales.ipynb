{
  "nbformat": 4,
  "nbformat_minor": 0,
  "metadata": {
    "colab": {
      "name": "Predict Future Sales.ipynb",
      "provenance": [],
      "collapsed_sections": []
    },
    "environment": {
      "name": "common-cpu.m56",
      "type": "gcloud",
      "uri": "gcr.io/deeplearning-platform-release/base-cpu:m56"
    },
    "kernelspec": {
      "display_name": "Python 3",
      "language": "python",
      "name": "python3"
    },
    "language_info": {
      "codemirror_mode": {
        "name": "ipython",
        "version": 3
      },
      "file_extension": ".py",
      "mimetype": "text/x-python",
      "name": "python",
      "nbconvert_exporter": "python",
      "pygments_lexer": "ipython3",
      "version": "3.6.8"
    }
  },
  "cells": [
    {
      "cell_type": "markdown",
      "metadata": {
        "id": "sGp3s8cD1CSD"
      },
      "source": [
        "## Preparació"
      ]
    },
    {
      "cell_type": "code",
      "metadata": {
        "id": "xMGeAOTSjGy7"
      },
      "source": [
        "# Paquets\n",
        "\n",
        "import numpy as np\n",
        "import pandas as pd\n",
        "import matplotlib.pyplot as plt\n",
        "%matplotlib inline\n",
        "\n",
        "from sklearn.metrics import mean_squared_error\n",
        "from sklearn.model_selection import GridSearchCV\n",
        "from xgboost import XGBRegressor\n",
        "from xgboost import plot_importance"
      ],
      "execution_count": 1,
      "outputs": []
    },
    {
      "cell_type": "code",
      "metadata": {
        "id": "lXtGZ4zWj-F1"
      },
      "source": [
        "# Dades\n",
        "\n",
        "path = 'https://storage.googleapis.com/datascience-290812/competitive-data-science-predict-future-sales/'\n",
        "#path = './competitive-data-science-predict-future-sales/'\n",
        "\n",
        "sales = pd.read_csv(path + 'sales_train.csv')\n",
        "items = pd.read_csv(path + 'items.csv')\n",
        "categories = pd.read_csv(path + 'item_categories.csv')\n",
        "test = pd.read_csv(path + 'test.csv')"
      ],
      "execution_count": 2,
      "outputs": []
    },
    {
      "cell_type": "markdown",
      "metadata": {
        "id": "elkA6RH61CSf"
      },
      "source": [
        "## Preprocessament"
      ]
    },
    {
      "cell_type": "code",
      "metadata": {
        "id": "Emx11dOc2rSx"
      },
      "source": [
        "# Dividim les categories en subcategories\n",
        "\n",
        "def category_name2(s):\n",
        "    # Torna la segona part del nom de la categoria, quan és possible\n",
        "    s = s.split(' - ')\n",
        "    if len(s)==2:\n",
        "        return s[1]\n",
        "    else:\n",
        "        return s[0]\n",
        "\n",
        "categories['cat_name1'] = categories.iloc[:,0].apply(lambda s: s.split(' - ')[0])\n",
        "categories['cat_name2'] = categories.iloc[:,0].apply(category_name2)"
      ],
      "execution_count": 3,
      "outputs": []
    },
    {
      "cell_type": "code",
      "metadata": {
        "id": "arFMx1h43Jbv"
      },
      "source": [
        "# Neteja de dades\n",
        "\n",
        "# Outliers\n",
        "sales = sales.loc[sales.item_price<10000,:]\n",
        "sales = sales.loc[sales.item_cnt_day<1500,:]\n",
        "\n",
        "# Preus negatius\n",
        "sales = sales.loc[sales.item_price>0,:]\n",
        "\n",
        "# Devolucions\n",
        "sales = sales.loc[sales.item_cnt_day > 0,:]"
      ],
      "execution_count": 4,
      "outputs": []
    },
    {
      "cell_type": "code",
      "metadata": {
        "id": "1cGmm_3f3Vfx"
      },
      "source": [
        "# Agregació de ventes per mes\n",
        "\n",
        "sales_month = sales\\\n",
        "            .groupby(['date_block_num','item_id','shop_id'], as_index = False)\\\n",
        "            .agg({'item_cnt_day':'sum'})\\\n",
        "            .rename(columns= {'item_cnt_day':'item_cnt'})"
      ],
      "execution_count": 5,
      "outputs": []
    },
    {
      "cell_type": "code",
      "metadata": {
        "id": "OSXZpACSn_DT"
      },
      "source": [
        "sales_month['item_cnt'] = sales_month['item_cnt'].clip(0,20)"
      ],
      "execution_count": 6,
      "outputs": []
    },
    {
      "cell_type": "code",
      "metadata": {
        "id": "kK3Rw-iQ3ubM"
      },
      "source": [
        "# Creem el conjunt d'entrenament\n",
        "\n",
        "train = test.iloc[:,1:].copy()\n",
        "train['date_block_num'] = 0\n",
        "\n",
        "for d in range(1,34):\n",
        "    df = test.iloc[:,1:].copy()\n",
        "    df['date_block_num'] = d\n",
        "    train = train.append(df)\n",
        "\n",
        "# Dies del mes\n",
        "month_days = [31,28,31,30,31,30,31,31,30,31,30,31]\n",
        "train['month_days'] = train['date_block_num'].apply(lambda x: month_days[x%12])\n",
        "\n",
        "# Categoria\n",
        "train = pd.merge(train, items[['item_id','item_category_id']], how='left', on='item_id')\n",
        "\n",
        "# Subcategories\n",
        "train = pd.merge(train, categories[['item_category_id','cat_name1','cat_name2']], how='left', on='item_category_id')\n",
        "\n",
        "# Ventes\n",
        "train = pd.merge(train, sales_month, how='left', on=['item_id','shop_id','date_block_num'])\n",
        "train.fillna(value=0, inplace=True)\n",
        "\n",
        "# Interaction feature\n",
        "train['itemshop_id'] = train['item_id'] * 100 + train['shop_id']\n",
        "\n",
        "# Indiquem si l'atribut es troba a sales\n",
        "item_sales = sales_month.item_id.unique()\n",
        "train['item_in_sales'] = train['item_id'].isin(item_sales)\n",
        "\n",
        "shop_sales = sales_month.shop_id.unique()\n",
        "train['shop_in_sales'] = train['shop_id'].isin(shop_sales)"
      ],
      "execution_count": 7,
      "outputs": []
    },
    {
      "cell_type": "code",
      "metadata": {
        "id": "CKoxWlR-4O9z"
      },
      "source": [
        "# Afegim atributs a test\n",
        "\n",
        "test['month_days'] = 30\n",
        "test['date_block_num'] = 34\n",
        "\n",
        "test = pd.merge(test, items[['item_id','item_category_id']], how='left', on='item_id')\n",
        "test = pd.merge(test, categories[['item_category_id','cat_name1','cat_name2']], how='left', on='item_category_id')\n",
        "\n",
        "test['itemshop_id'] = test['item_id'] * 100 + test['shop_id']\n",
        "\n",
        "test['item_in_sales'] = test['item_id'].isin(item_sales)\n",
        "test['shop_in_sales'] = test['shop_id'].isin(shop_sales)"
      ],
      "execution_count": 8,
      "outputs": []
    },
    {
      "cell_type": "code",
      "metadata": {
        "id": "OrdKY-chu93-"
      },
      "source": [
        "CATEGORICAL_COLUMNS = ['itemshop_id','item_id','shop_id','item_category_id','cat_name1','cat_name2']"
      ],
      "execution_count": 9,
      "outputs": []
    },
    {
      "cell_type": "code",
      "metadata": {
        "id": "AOBCJrOs1CTD"
      },
      "source": [
        "# Lag features\n",
        "\n",
        "\n",
        "for column in ['itemshop_id','item_id','shop_id']:\n",
        "    cnt = train\\\n",
        "            .groupby(['date_block_num', column], as_index = False)\\\n",
        "            .agg({'item_cnt':'sum'})\n",
        "\n",
        "    for i in [1,2,3,6,12]:\n",
        "        tmp = cnt.copy()\n",
        "        tmp['date_block_num'] = tmp['date_block_num'] + i\n",
        "        tmp = tmp.rename(columns={'item_cnt': column + '_lag_' + str(i)})\n",
        "        train = pd.merge(train, tmp, how='left', on=['date_block_num', column])\n",
        "        test = pd.merge(test, tmp, how='left', on=['date_block_num', column])\n",
        "\n",
        "train.fillna(value=0, inplace=True)"
      ],
      "execution_count": 10,
      "outputs": []
    },
    {
      "cell_type": "code",
      "metadata": {
        "id": "Lq1QGPwC1CTT"
      },
      "source": [
        "del categories, items, sales_month"
      ],
      "execution_count": 11,
      "outputs": []
    },
    {
      "cell_type": "code",
      "metadata": {
        "id": "YUzGvXcZ4aMt"
      },
      "source": [
        "# Finestra temporal\n",
        "\n",
        "WINDOW = 12 \n",
        "\n",
        "# Mesos d'entrenament\n",
        "TEST_MONTH = 34\n",
        "EVAL_MONTH = TEST_MONTH - 1\n",
        "FIRST_MONTH = EVAL_MONTH - WINDOW\n",
        "\n",
        "# Datasets\n",
        "X_train = train.loc[(train['date_block_num']<EVAL_MONTH)&(train['date_block_num']>=(EVAL_MONTH - WINDOW)),:]\n",
        "X_eval = train.loc[train['date_block_num']==EVAL_MONTH,:]"
      ],
      "execution_count": 12,
      "outputs": []
    },
    {
      "cell_type": "code",
      "metadata": {
        "id": "J9y5fmbY6YN6"
      },
      "source": [
        "# Frequency encoding\n",
        "for column in CATEGORICAL_COLUMNS:\n",
        "    cnt = X_train.groupby([column], as_index=False)\\\n",
        "                        .agg({'item_cnt':'sum'})\\\n",
        "                        .rename(columns={'item_cnt': (column + '_freq')})\n",
        "\n",
        "    X_train = pd.merge(X_train, cnt, how='left', on=column)\n",
        "    X_eval = pd.merge(X_eval, cnt, how='left', on=column)"
      ],
      "execution_count": 13,
      "outputs": []
    },
    {
      "cell_type": "code",
      "metadata": {
        "id": "RWLrVWG2MqDz"
      },
      "source": [
        "# Eliminem atributs categòrics\n",
        "X_train.drop(CATEGORICAL_COLUMNS, 1, inplace=True)\n",
        "X_eval.drop(CATEGORICAL_COLUMNS, 1, inplace=True)\n",
        "\n",
        "# Separem columna objectiu\n",
        "y_train = X_train.pop('item_cnt').clip(0,20)\n",
        "y_eval = X_eval.pop('item_cnt').clip(0,20)"
      ],
      "execution_count": 14,
      "outputs": []
    },
    {
      "cell_type": "code",
      "metadata": {
        "id": "ZSSPd8Ps1CTs",
        "outputId": "934b3030-eca0-405b-b64f-de8e432db85c",
        "colab": {
          "base_uri": "https://localhost:8080/",
          "height": 226
        }
      },
      "source": [
        "X_train.head()"
      ],
      "execution_count": 15,
      "outputs": [
        {
          "output_type": "execute_result",
          "data": {
            "text/html": [
              "<div>\n",
              "<style scoped>\n",
              "    .dataframe tbody tr th:only-of-type {\n",
              "        vertical-align: middle;\n",
              "    }\n",
              "\n",
              "    .dataframe tbody tr th {\n",
              "        vertical-align: top;\n",
              "    }\n",
              "\n",
              "    .dataframe thead th {\n",
              "        text-align: right;\n",
              "    }\n",
              "</style>\n",
              "<table border=\"1\" class=\"dataframe\">\n",
              "  <thead>\n",
              "    <tr style=\"text-align: right;\">\n",
              "      <th></th>\n",
              "      <th>date_block_num</th>\n",
              "      <th>month_days</th>\n",
              "      <th>item_in_sales</th>\n",
              "      <th>shop_in_sales</th>\n",
              "      <th>itemshop_id_lag_1</th>\n",
              "      <th>itemshop_id_lag_2</th>\n",
              "      <th>itemshop_id_lag_3</th>\n",
              "      <th>itemshop_id_lag_6</th>\n",
              "      <th>itemshop_id_lag_12</th>\n",
              "      <th>item_id_lag_1</th>\n",
              "      <th>item_id_lag_2</th>\n",
              "      <th>item_id_lag_3</th>\n",
              "      <th>item_id_lag_6</th>\n",
              "      <th>item_id_lag_12</th>\n",
              "      <th>shop_id_lag_1</th>\n",
              "      <th>shop_id_lag_2</th>\n",
              "      <th>shop_id_lag_3</th>\n",
              "      <th>shop_id_lag_6</th>\n",
              "      <th>shop_id_lag_12</th>\n",
              "      <th>itemshop_id_freq</th>\n",
              "      <th>item_id_freq</th>\n",
              "      <th>shop_id_freq</th>\n",
              "      <th>item_category_id_freq</th>\n",
              "      <th>cat_name1_freq</th>\n",
              "      <th>cat_name2_freq</th>\n",
              "    </tr>\n",
              "  </thead>\n",
              "  <tbody>\n",
              "    <tr>\n",
              "      <th>0</th>\n",
              "      <td>21</td>\n",
              "      <td>31</td>\n",
              "      <td>True</td>\n",
              "      <td>True</td>\n",
              "      <td>1.0</td>\n",
              "      <td>0.0</td>\n",
              "      <td>0.0</td>\n",
              "      <td>0.0</td>\n",
              "      <td>0.0</td>\n",
              "      <td>183.0</td>\n",
              "      <td>0.0</td>\n",
              "      <td>0.0</td>\n",
              "      <td>0.0</td>\n",
              "      <td>0.0</td>\n",
              "      <td>743.0</td>\n",
              "      <td>898.0</td>\n",
              "      <td>765.0</td>\n",
              "      <td>523.0</td>\n",
              "      <td>442.0</td>\n",
              "      <td>12.0</td>\n",
              "      <td>933.0</td>\n",
              "      <td>11069.0</td>\n",
              "      <td>42528.0</td>\n",
              "      <td>152282.0</td>\n",
              "      <td>44545.0</td>\n",
              "    </tr>\n",
              "    <tr>\n",
              "      <th>1</th>\n",
              "      <td>21</td>\n",
              "      <td>31</td>\n",
              "      <td>False</td>\n",
              "      <td>True</td>\n",
              "      <td>0.0</td>\n",
              "      <td>0.0</td>\n",
              "      <td>0.0</td>\n",
              "      <td>0.0</td>\n",
              "      <td>0.0</td>\n",
              "      <td>0.0</td>\n",
              "      <td>0.0</td>\n",
              "      <td>0.0</td>\n",
              "      <td>0.0</td>\n",
              "      <td>0.0</td>\n",
              "      <td>743.0</td>\n",
              "      <td>898.0</td>\n",
              "      <td>765.0</td>\n",
              "      <td>523.0</td>\n",
              "      <td>442.0</td>\n",
              "      <td>0.0</td>\n",
              "      <td>0.0</td>\n",
              "      <td>11069.0</td>\n",
              "      <td>74229.0</td>\n",
              "      <td>83721.0</td>\n",
              "      <td>74229.0</td>\n",
              "    </tr>\n",
              "    <tr>\n",
              "      <th>2</th>\n",
              "      <td>21</td>\n",
              "      <td>31</td>\n",
              "      <td>True</td>\n",
              "      <td>True</td>\n",
              "      <td>0.0</td>\n",
              "      <td>0.0</td>\n",
              "      <td>0.0</td>\n",
              "      <td>0.0</td>\n",
              "      <td>0.0</td>\n",
              "      <td>0.0</td>\n",
              "      <td>0.0</td>\n",
              "      <td>0.0</td>\n",
              "      <td>0.0</td>\n",
              "      <td>0.0</td>\n",
              "      <td>743.0</td>\n",
              "      <td>898.0</td>\n",
              "      <td>765.0</td>\n",
              "      <td>523.0</td>\n",
              "      <td>442.0</td>\n",
              "      <td>9.0</td>\n",
              "      <td>446.0</td>\n",
              "      <td>11069.0</td>\n",
              "      <td>42528.0</td>\n",
              "      <td>152282.0</td>\n",
              "      <td>44545.0</td>\n",
              "    </tr>\n",
              "    <tr>\n",
              "      <th>3</th>\n",
              "      <td>21</td>\n",
              "      <td>31</td>\n",
              "      <td>True</td>\n",
              "      <td>True</td>\n",
              "      <td>0.0</td>\n",
              "      <td>0.0</td>\n",
              "      <td>0.0</td>\n",
              "      <td>0.0</td>\n",
              "      <td>0.0</td>\n",
              "      <td>0.0</td>\n",
              "      <td>0.0</td>\n",
              "      <td>0.0</td>\n",
              "      <td>0.0</td>\n",
              "      <td>0.0</td>\n",
              "      <td>743.0</td>\n",
              "      <td>898.0</td>\n",
              "      <td>765.0</td>\n",
              "      <td>523.0</td>\n",
              "      <td>442.0</td>\n",
              "      <td>1.0</td>\n",
              "      <td>112.0</td>\n",
              "      <td>11069.0</td>\n",
              "      <td>36470.0</td>\n",
              "      <td>152282.0</td>\n",
              "      <td>40679.0</td>\n",
              "    </tr>\n",
              "    <tr>\n",
              "      <th>4</th>\n",
              "      <td>21</td>\n",
              "      <td>31</td>\n",
              "      <td>False</td>\n",
              "      <td>True</td>\n",
              "      <td>0.0</td>\n",
              "      <td>0.0</td>\n",
              "      <td>0.0</td>\n",
              "      <td>0.0</td>\n",
              "      <td>0.0</td>\n",
              "      <td>0.0</td>\n",
              "      <td>0.0</td>\n",
              "      <td>0.0</td>\n",
              "      <td>0.0</td>\n",
              "      <td>0.0</td>\n",
              "      <td>743.0</td>\n",
              "      <td>898.0</td>\n",
              "      <td>765.0</td>\n",
              "      <td>523.0</td>\n",
              "      <td>442.0</td>\n",
              "      <td>0.0</td>\n",
              "      <td>0.0</td>\n",
              "      <td>11069.0</td>\n",
              "      <td>51230.0</td>\n",
              "      <td>152282.0</td>\n",
              "      <td>60723.0</td>\n",
              "    </tr>\n",
              "  </tbody>\n",
              "</table>\n",
              "</div>"
            ],
            "text/plain": [
              "   date_block_num  month_days  ...  cat_name1_freq  cat_name2_freq\n",
              "0              21          31  ...        152282.0         44545.0\n",
              "1              21          31  ...         83721.0         74229.0\n",
              "2              21          31  ...        152282.0         44545.0\n",
              "3              21          31  ...        152282.0         40679.0\n",
              "4              21          31  ...        152282.0         60723.0\n",
              "\n",
              "[5 rows x 25 columns]"
            ]
          },
          "metadata": {
            "tags": []
          },
          "execution_count": 15
        }
      ]
    },
    {
      "cell_type": "markdown",
      "metadata": {
        "id": "lBdSaEjb1CT0"
      },
      "source": [
        "## Model"
      ]
    },
    {
      "cell_type": "code",
      "metadata": {
        "id": "tHJO83Hx61BJ"
      },
      "source": [
        "# Optimització dels hiperparàmetres\n",
        "\n",
        "parameters = {'n_estimators':[10], 'max_depth':[8,10,12]}\n",
        "model = XGBRegressor()\n",
        "search = GridSearchCV(model, parameters, cv=3, return_train_score=False)\n",
        "search.fit(X_train, y_train)\n",
        "\n",
        "resultat = pd.DataFrame(search.cv_results_)\n",
        "resultat.sort_values(by='mean_test_score', ascending=True)"
      ],
      "execution_count": null,
      "outputs": []
    },
    {
      "cell_type": "code",
      "metadata": {
        "id": "nr1VGeFg1CT1",
        "outputId": "62fa829c-594a-4bb6-81e9-f1ec11886afe",
        "colab": {
          "base_uri": "https://localhost:8080/",
          "height": 677
        }
      },
      "source": [
        "# Entrenament\n",
        "\n",
        "model = XGBRegressor(n_estimators= 30, max_depth=8, objective='reg:squarederror')\n",
        "model.fit(X_train, y_train, eval_metric=\"rmse\",\n",
        "          eval_set=[(X_train, y_train), (X_eval, y_eval)],\n",
        "          early_stopping_rounds = 5)"
      ],
      "execution_count": 16,
      "outputs": [
        {
          "output_type": "stream",
          "text": [
            "[0]\tvalidation_0-rmse:1.11558\tvalidation_1-rmse:1.075\n",
            "Multiple eval metrics have been passed: 'validation_1-rmse' will be used for early stopping.\n",
            "\n",
            "Will train until validation_1-rmse hasn't improved in 5 rounds.\n",
            "[1]\tvalidation_0-rmse:1.04762\tvalidation_1-rmse:1.04114\n",
            "[2]\tvalidation_0-rmse:0.996444\tvalidation_1-rmse:1.01698\n",
            "[3]\tvalidation_0-rmse:0.94526\tvalidation_1-rmse:0.994298\n",
            "[4]\tvalidation_0-rmse:0.91036\tvalidation_1-rmse:0.978266\n",
            "[5]\tvalidation_0-rmse:0.883256\tvalidation_1-rmse:0.964262\n",
            "[6]\tvalidation_0-rmse:0.834678\tvalidation_1-rmse:0.95366\n",
            "[7]\tvalidation_0-rmse:0.811973\tvalidation_1-rmse:0.944178\n",
            "[8]\tvalidation_0-rmse:0.792677\tvalidation_1-rmse:0.937345\n",
            "[9]\tvalidation_0-rmse:0.768398\tvalidation_1-rmse:0.93235\n",
            "[10]\tvalidation_0-rmse:0.755767\tvalidation_1-rmse:0.929128\n",
            "[11]\tvalidation_0-rmse:0.743981\tvalidation_1-rmse:0.924964\n",
            "[12]\tvalidation_0-rmse:0.733879\tvalidation_1-rmse:0.92277\n",
            "[13]\tvalidation_0-rmse:0.722819\tvalidation_1-rmse:0.921682\n",
            "[14]\tvalidation_0-rmse:0.714454\tvalidation_1-rmse:0.920292\n",
            "[15]\tvalidation_0-rmse:0.70768\tvalidation_1-rmse:0.919954\n",
            "[16]\tvalidation_0-rmse:0.701292\tvalidation_1-rmse:0.916986\n",
            "[17]\tvalidation_0-rmse:0.696183\tvalidation_1-rmse:0.916799\n",
            "[18]\tvalidation_0-rmse:0.691419\tvalidation_1-rmse:0.9169\n",
            "[19]\tvalidation_0-rmse:0.687414\tvalidation_1-rmse:0.916434\n",
            "[20]\tvalidation_0-rmse:0.681734\tvalidation_1-rmse:0.916874\n",
            "[21]\tvalidation_0-rmse:0.677848\tvalidation_1-rmse:0.917524\n",
            "[22]\tvalidation_0-rmse:0.674533\tvalidation_1-rmse:0.917218\n",
            "[23]\tvalidation_0-rmse:0.672024\tvalidation_1-rmse:0.917797\n",
            "[24]\tvalidation_0-rmse:0.668755\tvalidation_1-rmse:0.918946\n",
            "Stopping. Best iteration:\n",
            "[19]\tvalidation_0-rmse:0.687414\tvalidation_1-rmse:0.916434\n",
            "\n"
          ],
          "name": "stdout"
        },
        {
          "output_type": "execute_result",
          "data": {
            "text/plain": [
              "XGBRegressor(base_score=0.5, booster='gbtree', colsample_bylevel=1,\n",
              "             colsample_bynode=1, colsample_bytree=1, gamma=0,\n",
              "             importance_type='gain', learning_rate=0.1, max_delta_step=0,\n",
              "             max_depth=8, min_child_weight=1, missing=None, n_estimators=30,\n",
              "             n_jobs=1, nthread=None, objective='reg:squarederror',\n",
              "             random_state=0, reg_alpha=0, reg_lambda=1, scale_pos_weight=1,\n",
              "             seed=None, silent=None, subsample=1, verbosity=1)"
            ]
          },
          "metadata": {
            "tags": []
          },
          "execution_count": 16
        }
      ]
    },
    {
      "cell_type": "code",
      "metadata": {
        "id": "MMksbstHGqtb",
        "outputId": "14fc410a-7cff-413f-cec1-ec2fea4dbf2b",
        "colab": {
          "base_uri": "https://localhost:8080/",
          "height": 34
        }
      },
      "source": [
        "# RMSE avaluació\n",
        "\n",
        "np.sqrt(mean_squared_error(model.predict(X_eval), y_eval))"
      ],
      "execution_count": 17,
      "outputs": [
        {
          "output_type": "execute_result",
          "data": {
            "text/plain": [
              "0.9172918276364012"
            ]
          },
          "metadata": {
            "tags": []
          },
          "execution_count": 17
        }
      ]
    },
    {
      "cell_type": "code",
      "metadata": {
        "id": "AwXIO8_j1CT-",
        "outputId": "6f4dc0c8-b692-4395-ad5b-9a90008a54f7",
        "colab": {
          "base_uri": "https://localhost:8080/",
          "height": 856
        }
      },
      "source": [
        "# Importància dels atributs\n",
        "\n",
        "fig, ax = plt.subplots(1,1,figsize=(10,14))\n",
        "plot_importance(booster=model, ax=ax)"
      ],
      "execution_count": 18,
      "outputs": [
        {
          "output_type": "execute_result",
          "data": {
            "text/plain": [
              "<matplotlib.axes._subplots.AxesSubplot at 0x7fd148ed84a8>"
            ]
          },
          "metadata": {
            "tags": []
          },
          "execution_count": 18
        },
        {
          "output_type": "display_data",
          "data": {
            "image/png": "[encoded data removed]",
            "text/plain": [
              "<Figure size 720x1008 with 1 Axes>"
            ]
          },
          "metadata": {
            "tags": [],
            "needs_background": "light"
          }
        }
      ]
    },
    {
      "cell_type": "code",
      "metadata": {
        "id": "JgPq3QHvux99"
      },
      "source": [
        "del X_train, X_eval, y_train, y_eval, model"
      ],
      "execution_count": 19,
      "outputs": []
    },
    {
      "cell_type": "markdown",
      "metadata": {
        "id": "Vhp-PeR41CUE"
      },
      "source": [
        "## Predicció"
      ]
    },
    {
      "cell_type": "code",
      "metadata": {
        "id": "jhOZZkFM1CUE"
      },
      "source": [
        "# Dades d'entrenament\n",
        "\n",
        "train = train.loc[train['date_block_num']>=(TEST_MONTH - WINDOW),:]"
      ],
      "execution_count": 20,
      "outputs": []
    },
    {
      "cell_type": "code",
      "metadata": {
        "id": "iYUI9Xz-1CUJ"
      },
      "source": [
        "# Preprocessament\n",
        "\n",
        "for attrib in CATEGORICAL_COLUMNS:\n",
        "    cnt = train.groupby([attrib], as_index=False)\\\n",
        "                        .agg({'item_cnt':'sum'})\\\n",
        "                        .rename(columns={'item_cnt': (attrib + '_freq')})\n",
        "\n",
        "    train = pd.merge(train, cnt, how='left', on=attrib)\n",
        "    test = pd.merge(test, cnt, how='left', on=attrib)"
      ],
      "execution_count": 21,
      "outputs": []
    },
    {
      "cell_type": "code",
      "metadata": {
        "id": "TkVtMScP1CUM"
      },
      "source": [
        "train.drop(CATEGORICAL_COLUMNS, 1, inplace=True)\n",
        "test.drop(CATEGORICAL_COLUMNS, 1, inplace=True)\n",
        "\n",
        "y = train.pop('item_cnt').clip(0,20)"
      ],
      "execution_count": 22,
      "outputs": []
    },
    {
      "cell_type": "code",
      "metadata": {
        "id": "70NcwXgcBJPP",
        "outputId": "91bf8e29-8ed9-43b3-f865-cdcf35f36bb6",
        "colab": {
          "base_uri": "https://localhost:8080/",
          "height": 132
        }
      },
      "source": [
        "train.head(2)"
      ],
      "execution_count": 23,
      "outputs": [
        {
          "output_type": "execute_result",
          "data": {
            "text/html": [
              "<div>\n",
              "<style scoped>\n",
              "    .dataframe tbody tr th:only-of-type {\n",
              "        vertical-align: middle;\n",
              "    }\n",
              "\n",
              "    .dataframe tbody tr th {\n",
              "        vertical-align: top;\n",
              "    }\n",
              "\n",
              "    .dataframe thead th {\n",
              "        text-align: right;\n",
              "    }\n",
              "</style>\n",
              "<table border=\"1\" class=\"dataframe\">\n",
              "  <thead>\n",
              "    <tr style=\"text-align: right;\">\n",
              "      <th></th>\n",
              "      <th>date_block_num</th>\n",
              "      <th>month_days</th>\n",
              "      <th>item_in_sales</th>\n",
              "      <th>shop_in_sales</th>\n",
              "      <th>itemshop_id_lag_1</th>\n",
              "      <th>itemshop_id_lag_2</th>\n",
              "      <th>itemshop_id_lag_3</th>\n",
              "      <th>itemshop_id_lag_6</th>\n",
              "      <th>itemshop_id_lag_12</th>\n",
              "      <th>item_id_lag_1</th>\n",
              "      <th>item_id_lag_2</th>\n",
              "      <th>item_id_lag_3</th>\n",
              "      <th>item_id_lag_6</th>\n",
              "      <th>item_id_lag_12</th>\n",
              "      <th>shop_id_lag_1</th>\n",
              "      <th>shop_id_lag_2</th>\n",
              "      <th>shop_id_lag_3</th>\n",
              "      <th>shop_id_lag_6</th>\n",
              "      <th>shop_id_lag_12</th>\n",
              "      <th>itemshop_id_freq</th>\n",
              "      <th>item_id_freq</th>\n",
              "      <th>shop_id_freq</th>\n",
              "      <th>item_category_id_freq</th>\n",
              "      <th>cat_name1_freq</th>\n",
              "      <th>cat_name2_freq</th>\n",
              "    </tr>\n",
              "  </thead>\n",
              "  <tbody>\n",
              "    <tr>\n",
              "      <th>0</th>\n",
              "      <td>22</td>\n",
              "      <td>30</td>\n",
              "      <td>True</td>\n",
              "      <td>True</td>\n",
              "      <td>0.0</td>\n",
              "      <td>1.0</td>\n",
              "      <td>0.0</td>\n",
              "      <td>0.0</td>\n",
              "      <td>0.0</td>\n",
              "      <td>52.0</td>\n",
              "      <td>183.0</td>\n",
              "      <td>0.0</td>\n",
              "      <td>0.0</td>\n",
              "      <td>0.0</td>\n",
              "      <td>751.0</td>\n",
              "      <td>743.0</td>\n",
              "      <td>898.0</td>\n",
              "      <td>615.0</td>\n",
              "      <td>506.0</td>\n",
              "      <td>12.0</td>\n",
              "      <td>906.0</td>\n",
              "      <td>11326.0</td>\n",
              "      <td>41793.0</td>\n",
              "      <td>154064.0</td>\n",
              "      <td>43678.0</td>\n",
              "    </tr>\n",
              "    <tr>\n",
              "      <th>1</th>\n",
              "      <td>22</td>\n",
              "      <td>30</td>\n",
              "      <td>False</td>\n",
              "      <td>True</td>\n",
              "      <td>0.0</td>\n",
              "      <td>0.0</td>\n",
              "      <td>0.0</td>\n",
              "      <td>0.0</td>\n",
              "      <td>0.0</td>\n",
              "      <td>0.0</td>\n",
              "      <td>0.0</td>\n",
              "      <td>0.0</td>\n",
              "      <td>0.0</td>\n",
              "      <td>0.0</td>\n",
              "      <td>751.0</td>\n",
              "      <td>743.0</td>\n",
              "      <td>898.0</td>\n",
              "      <td>615.0</td>\n",
              "      <td>506.0</td>\n",
              "      <td>0.0</td>\n",
              "      <td>0.0</td>\n",
              "      <td>11326.0</td>\n",
              "      <td>73860.0</td>\n",
              "      <td>83578.0</td>\n",
              "      <td>73860.0</td>\n",
              "    </tr>\n",
              "  </tbody>\n",
              "</table>\n",
              "</div>"
            ],
            "text/plain": [
              "   date_block_num  month_days  ...  cat_name1_freq  cat_name2_freq\n",
              "0              22          30  ...        154064.0         43678.0\n",
              "1              22          30  ...         83578.0         73860.0\n",
              "\n",
              "[2 rows x 25 columns]"
            ]
          },
          "metadata": {
            "tags": []
          },
          "execution_count": 23
        }
      ]
    },
    {
      "cell_type": "code",
      "metadata": {
        "id": "5_ldyuWK1CUR",
        "outputId": "8f6347ea-c4f1-4fc2-f046-2de07bd178fc",
        "colab": {
          "base_uri": "https://localhost:8080/",
          "height": 382
        }
      },
      "source": [
        "# Entrenament\n",
        "\n",
        "model = XGBRegressor(max_depth=8, n_estimators= 20, objective='reg:squarederror')\\\n",
        "                    .fit(train, y, eval_metric=\"rmse\", eval_set=[(train,y)], early_stopping_rounds = 5)"
      ],
      "execution_count": 24,
      "outputs": [
        {
          "output_type": "stream",
          "text": [
            "[0]\tvalidation_0-rmse:1.11122\n",
            "Will train until validation_0-rmse hasn't improved in 5 rounds.\n",
            "[1]\tvalidation_0-rmse:1.04311\n",
            "[2]\tvalidation_0-rmse:0.990143\n",
            "[3]\tvalidation_0-rmse:0.94158\n",
            "[4]\tvalidation_0-rmse:0.905596\n",
            "[5]\tvalidation_0-rmse:0.876554\n",
            "[6]\tvalidation_0-rmse:0.830631\n",
            "[7]\tvalidation_0-rmse:0.808578\n",
            "[8]\tvalidation_0-rmse:0.789703\n",
            "[9]\tvalidation_0-rmse:0.76562\n",
            "[10]\tvalidation_0-rmse:0.750754\n",
            "[11]\tvalidation_0-rmse:0.737288\n",
            "[12]\tvalidation_0-rmse:0.726634\n",
            "[13]\tvalidation_0-rmse:0.714895\n",
            "[14]\tvalidation_0-rmse:0.706662\n",
            "[15]\tvalidation_0-rmse:0.699399\n",
            "[16]\tvalidation_0-rmse:0.693309\n",
            "[17]\tvalidation_0-rmse:0.687622\n",
            "[18]\tvalidation_0-rmse:0.683193\n",
            "[19]\tvalidation_0-rmse:0.67759\n"
          ],
          "name": "stdout"
        }
      ]
    },
    {
      "cell_type": "code",
      "metadata": {
        "id": "iWaGUVDK1CUW"
      },
      "source": [
        "# Predicció\n",
        "\n",
        "y_pred = model.predict(test[train.columns]).clip(0,20)\n",
        "submission = pd.DataFrame({'ID':test['ID'], 'item_cnt_month': y_pred})"
      ],
      "execution_count": 25,
      "outputs": []
    },
    {
      "cell_type": "code",
      "metadata": {
        "id": "lyJPtLpX5SCK",
        "outputId": "8bc983b8-8015-49f8-b6df-8acf5b57d5b0",
        "colab": {
          "base_uri": "https://localhost:8080/",
          "height": 17
        }
      },
      "source": [
        "# Colab export\n",
        "\n",
        "from google.colab import files\n",
        "\n",
        "submission.to_csv('submission.csv', index = False)\n",
        "files.download('submission.csv')"
      ],
      "execution_count": 26,
      "outputs": [
        {
          "output_type": "display_data",
          "data": {
            "application/javascript": [
              "\n",
              "    async function download(id, filename, size) {\n",
              "      if (!google.colab.kernel.accessAllowed) {\n",
              "        return;\n",
              "      }\n",
              "      const div = document.createElement('div');\n",
              "      const label = document.createElement('label');\n",
              "      label.textContent = `Downloading \"${filename}\": `;\n",
              "      div.appendChild(label);\n",
              "      const progress = document.createElement('progress');\n",
              "      progress.max = size;\n",
              "      div.appendChild(progress);\n",
              "      document.body.appendChild(div);\n",
              "\n",
              "      const buffers = [];\n",
              "      let downloaded = 0;\n",
              "\n",
              "      const channel = await google.colab.kernel.comms.open(id);\n",
              "      // Send a message to notify the kernel that we're ready.\n",
              "      channel.send({})\n",
              "\n",
              "      for await (const message of channel.messages) {\n",
              "        // Send a message to notify the kernel that we're ready.\n",
              "        channel.send({})\n",
              "        if (message.buffers) {\n",
              "          for (const buffer of message.buffers) {\n",
              "            buffers.push(buffer);\n",
              "            downloaded += buffer.byteLength;\n",
              "            progress.value = downloaded;\n",
              "          }\n",
              "        }\n",
              "      }\n",
              "      const blob = new Blob(buffers, {type: 'application/binary'});\n",
              "      const a = document.createElement('a');\n",
              "      a.href = window.URL.createObjectURL(blob);\n",
              "      a.download = filename;\n",
              "      div.appendChild(a);\n",
              "      a.click();\n",
              "      div.remove();\n",
              "    }\n",
              "  "
            ],
            "text/plain": [
              "<IPython.core.display.Javascript object>"
            ]
          },
          "metadata": {
            "tags": []
          }
        },
        {
          "output_type": "display_data",
          "data": {
            "application/javascript": [
              "download(\"download_186987db-093a-4926-9959-cc07ba057347\", \"submission.csv\", 3829045)"
            ],
            "text/plain": [
              "<IPython.core.display.Javascript object>"
            ]
          },
          "metadata": {
            "tags": []
          }
        }
      ]
    },
    {
      "cell_type": "markdown",
      "metadata": {
        "id": "N_HJiuujxseX"
      },
      "source": [
        "Test score: 1.06137"
      ]
    }
  ]
}