{
 "cells": [
  {
   "cell_type": "markdown",
   "metadata": {},
   "source": [
    "# Predict Future Sales\n",
    "\n",
    "Final project for \"How to win a Data Science Competition\"\n",
    "\n",
    "* https://www.kaggle.com/c/competitive-data-science-predict-future-sales/data\n",
    "* https://www.coursera.org/learn/competitive-data-science/home/welcome"
   ]
  },
  {
   "cell_type": "code",
   "execution_count": 26,
   "metadata": {},
   "outputs": [],
   "source": [
    "# Importació de mòduls\n",
    "\n",
    "import numpy as np\n",
    "import pandas as pd"
   ]
  },
  {
   "cell_type": "code",
   "execution_count": 27,
   "metadata": {},
   "outputs": [],
   "source": [
    "# Importació de dades\n",
    "\n",
    "sales = pd.read_csv('competitive-data-science-predict-future-sales/sales_train.csv')\n",
    "items = pd.read_csv('competitive-data-science-predict-future-sales/items.csv')\n",
    "test = pd.read_csv('competitive-data-science-predict-future-sales/test.csv')\n",
    "categories = pd.read_csv('competitive-data-science-predict-future-sales/item_categories.csv')"
   ]
  },
  {
   "cell_type": "markdown",
   "metadata": {},
   "source": [
    "## Categories"
   ]
  },
  {
   "cell_type": "code",
   "execution_count": 28,
   "metadata": {
    "scrolled": true
   },
   "outputs": [],
   "source": [
    "def category_name2(s):\n",
    "    # Torna la segona part del nom de la categoria, quan és possible\n",
    "    s = s.split(' - ')\n",
    "    if len(s)==2:\n",
    "        return s[1]\n",
    "    else:\n",
    "        return s[0]"
   ]
  },
  {
   "cell_type": "code",
   "execution_count": 29,
   "metadata": {},
   "outputs": [],
   "source": [
    "# Obtenim subcategories\n",
    "\n",
    "categories['cat_name1'] = categories.iloc[:,0].apply(lambda s: s.split(' - ')[0])\n",
    "categories['cat_name2'] = categories.iloc[:,0].apply(category_name2)"
   ]
  },
  {
   "cell_type": "code",
   "execution_count": 30,
   "metadata": {},
   "outputs": [
    {
     "data": {
      "text/html": [
       "<div>\n",
       "<style scoped>\n",
       "    .dataframe tbody tr th:only-of-type {\n",
       "        vertical-align: middle;\n",
       "    }\n",
       "\n",
       "    .dataframe tbody tr th {\n",
       "        vertical-align: top;\n",
       "    }\n",
       "\n",
       "    .dataframe thead th {\n",
       "        text-align: right;\n",
       "    }\n",
       "</style>\n",
       "<table border=\"1\" class=\"dataframe\">\n",
       "  <thead>\n",
       "    <tr style=\"text-align: right;\">\n",
       "      <th></th>\n",
       "      <th>item_category_name</th>\n",
       "      <th>item_category_id</th>\n",
       "      <th>cat_name1</th>\n",
       "      <th>cat_name2</th>\n",
       "    </tr>\n",
       "  </thead>\n",
       "  <tbody>\n",
       "    <tr>\n",
       "      <th>0</th>\n",
       "      <td>PC - Гарнитуры/Наушники</td>\n",
       "      <td>0</td>\n",
       "      <td>PC</td>\n",
       "      <td>Гарнитуры/Наушники</td>\n",
       "    </tr>\n",
       "    <tr>\n",
       "      <th>1</th>\n",
       "      <td>Аксессуары - PS2</td>\n",
       "      <td>1</td>\n",
       "      <td>Аксессуары</td>\n",
       "      <td>PS2</td>\n",
       "    </tr>\n",
       "    <tr>\n",
       "      <th>2</th>\n",
       "      <td>Аксессуары - PS3</td>\n",
       "      <td>2</td>\n",
       "      <td>Аксессуары</td>\n",
       "      <td>PS3</td>\n",
       "    </tr>\n",
       "    <tr>\n",
       "      <th>3</th>\n",
       "      <td>Аксессуары - PS4</td>\n",
       "      <td>3</td>\n",
       "      <td>Аксессуары</td>\n",
       "      <td>PS4</td>\n",
       "    </tr>\n",
       "    <tr>\n",
       "      <th>4</th>\n",
       "      <td>Аксессуары - PSP</td>\n",
       "      <td>4</td>\n",
       "      <td>Аксессуары</td>\n",
       "      <td>PSP</td>\n",
       "    </tr>\n",
       "  </tbody>\n",
       "</table>\n",
       "</div>"
      ],
      "text/plain": [
       "        item_category_name  item_category_id   cat_name1           cat_name2\n",
       "0  PC - Гарнитуры/Наушники                 0          PC  Гарнитуры/Наушники\n",
       "1         Аксессуары - PS2                 1  Аксессуары                 PS2\n",
       "2         Аксессуары - PS3                 2  Аксессуары                 PS3\n",
       "3         Аксессуары - PS4                 3  Аксессуары                 PS4\n",
       "4         Аксессуары - PSP                 4  Аксессуары                 PSP"
      ]
     },
     "execution_count": 30,
     "metadata": {},
     "output_type": "execute_result"
    }
   ],
   "source": [
    "categories.head()"
   ]
  },
  {
   "cell_type": "markdown",
   "metadata": {},
   "source": [
    "## Sales"
   ]
  },
  {
   "cell_type": "code",
   "execution_count": 31,
   "metadata": {},
   "outputs": [],
   "source": [
    "# Outliers\n",
    "\n",
    "sales = sales.loc[sales.item_price<10000,:]\n",
    "sales = sales.loc[sales.item_cnt_day<1500,:]"
   ]
  },
  {
   "cell_type": "code",
   "execution_count": 32,
   "metadata": {},
   "outputs": [],
   "source": [
    "# Preus negatius\n",
    "\n",
    "sales = sales.loc[sales.item_price>0,:]"
   ]
  },
  {
   "cell_type": "code",
   "execution_count": 33,
   "metadata": {},
   "outputs": [],
   "source": [
    "# Devolucions\n",
    "\n",
    "sales = sales.loc[sales.item_cnt_day > 0,:]"
   ]
  },
  {
   "cell_type": "code",
   "execution_count": 34,
   "metadata": {},
   "outputs": [],
   "source": [
    "# Ingressos\n",
    "\n",
    "sales['income'] = sales['item_price'] * sales['item_cnt_day'] "
   ]
  },
  {
   "cell_type": "code",
   "execution_count": 35,
   "metadata": {},
   "outputs": [],
   "source": [
    "# Agregació de ventes per mes\n",
    "\n",
    "sales_month = sales\\\n",
    "            .groupby(['date_block_num','item_id','shop_id'], as_index = False)\\\n",
    "            .agg({'item_cnt_day':'sum', 'income': 'sum', 'item_price': 'mean'})\\\n",
    "            .rename(columns= {'item_cnt_day':'item_cnt'})"
   ]
  },
  {
   "cell_type": "code",
   "execution_count": 36,
   "metadata": {},
   "outputs": [],
   "source": [
    "sales_month['itemshop_id'] = sales_month['item_id'] * 100 + sales_month['shop_id']"
   ]
  },
  {
   "cell_type": "code",
   "execution_count": 37,
   "metadata": {},
   "outputs": [
    {
     "data": {
      "text/html": [
       "<div>\n",
       "<style scoped>\n",
       "    .dataframe tbody tr th:only-of-type {\n",
       "        vertical-align: middle;\n",
       "    }\n",
       "\n",
       "    .dataframe tbody tr th {\n",
       "        vertical-align: top;\n",
       "    }\n",
       "\n",
       "    .dataframe thead th {\n",
       "        text-align: right;\n",
       "    }\n",
       "</style>\n",
       "<table border=\"1\" class=\"dataframe\">\n",
       "  <thead>\n",
       "    <tr style=\"text-align: right;\">\n",
       "      <th></th>\n",
       "      <th>date_block_num</th>\n",
       "      <th>item_id</th>\n",
       "      <th>shop_id</th>\n",
       "      <th>item_cnt</th>\n",
       "      <th>income</th>\n",
       "      <th>item_price</th>\n",
       "      <th>itemshop_id</th>\n",
       "    </tr>\n",
       "  </thead>\n",
       "  <tbody>\n",
       "    <tr>\n",
       "      <th>0</th>\n",
       "      <td>0</td>\n",
       "      <td>19</td>\n",
       "      <td>25</td>\n",
       "      <td>1.0</td>\n",
       "      <td>28.0</td>\n",
       "      <td>28.0</td>\n",
       "      <td>1925</td>\n",
       "    </tr>\n",
       "    <tr>\n",
       "      <th>1</th>\n",
       "      <td>0</td>\n",
       "      <td>27</td>\n",
       "      <td>1</td>\n",
       "      <td>1.0</td>\n",
       "      <td>1890.0</td>\n",
       "      <td>1890.0</td>\n",
       "      <td>2701</td>\n",
       "    </tr>\n",
       "    <tr>\n",
       "      <th>2</th>\n",
       "      <td>0</td>\n",
       "      <td>27</td>\n",
       "      <td>2</td>\n",
       "      <td>1.0</td>\n",
       "      <td>2499.0</td>\n",
       "      <td>2499.0</td>\n",
       "      <td>2702</td>\n",
       "    </tr>\n",
       "    <tr>\n",
       "      <th>3</th>\n",
       "      <td>0</td>\n",
       "      <td>27</td>\n",
       "      <td>10</td>\n",
       "      <td>1.0</td>\n",
       "      <td>1890.0</td>\n",
       "      <td>1890.0</td>\n",
       "      <td>2710</td>\n",
       "    </tr>\n",
       "    <tr>\n",
       "      <th>4</th>\n",
       "      <td>0</td>\n",
       "      <td>27</td>\n",
       "      <td>19</td>\n",
       "      <td>1.0</td>\n",
       "      <td>2499.0</td>\n",
       "      <td>2499.0</td>\n",
       "      <td>2719</td>\n",
       "    </tr>\n",
       "  </tbody>\n",
       "</table>\n",
       "</div>"
      ],
      "text/plain": [
       "   date_block_num  item_id  shop_id  item_cnt  income  item_price  itemshop_id\n",
       "0               0       19       25       1.0    28.0        28.0         1925\n",
       "1               0       27        1       1.0  1890.0      1890.0         2701\n",
       "2               0       27        2       1.0  2499.0      2499.0         2702\n",
       "3               0       27       10       1.0  1890.0      1890.0         2710\n",
       "4               0       27       19       1.0  2499.0      2499.0         2719"
      ]
     },
     "execution_count": 37,
     "metadata": {},
     "output_type": "execute_result"
    }
   ],
   "source": [
    "sales_month.head()"
   ]
  },
  {
   "cell_type": "markdown",
   "metadata": {},
   "source": [
    "## Train dataset"
   ]
  },
  {
   "cell_type": "code",
   "execution_count": 38,
   "metadata": {
    "scrolled": true
   },
   "outputs": [],
   "source": [
    "# Generem conjunt train: shop, item, date_block_num\n",
    "\n",
    "train = test.iloc[:,1:].copy()\n",
    "train['date_block_num'] = 0\n",
    "\n",
    "for d in range(1,34):\n",
    "    df = test.iloc[:,1:].copy()\n",
    "    df['date_block_num'] = d\n",
    "    train = train.append(df)"
   ]
  },
  {
   "cell_type": "code",
   "execution_count": 39,
   "metadata": {},
   "outputs": [],
   "source": [
    "# Afegim dies del mes\n",
    "\n",
    "month_days = [31,28,31,30,31,30,31,31,30,31,30,31]\n",
    "train['month_days'] = train['date_block_num'].apply(lambda x: month_days[x%12])"
   ]
  },
  {
   "cell_type": "code",
   "execution_count": 40,
   "metadata": {},
   "outputs": [],
   "source": [
    "# Afegim categoria\n",
    "\n",
    "train = pd.merge(train, items[['item_id','item_category_id']], how='left', on='item_id')"
   ]
  },
  {
   "cell_type": "code",
   "execution_count": 41,
   "metadata": {},
   "outputs": [],
   "source": [
    "# Afegim subcategories\n",
    "\n",
    "train = pd.merge(train, categories[['item_category_id','cat_name1','cat_name2']], how='left', on='item_category_id')"
   ]
  },
  {
   "cell_type": "code",
   "execution_count": 42,
   "metadata": {},
   "outputs": [],
   "source": [
    "# Afegim ventes\n",
    "\n",
    "train = pd.merge(train, sales_month, how='left', on=['item_id','shop_id','date_block_num'])\n",
    "\n",
    "train.fillna(value=0, inplace=True)"
   ]
  },
  {
   "cell_type": "code",
   "execution_count": 43,
   "metadata": {},
   "outputs": [],
   "source": [
    "# Atribut combinat itemshop\n",
    "\n",
    "train['itemshop_id'] = train['item_id'] * 100 + train['shop_id']"
   ]
  },
  {
   "cell_type": "code",
   "execution_count": null,
   "metadata": {
    "scrolled": false
   },
   "outputs": [],
   "source": [
    "train.head()"
   ]
  },
  {
   "cell_type": "code",
   "execution_count": 19,
   "metadata": {},
   "outputs": [],
   "source": [
    "# TEST\n",
    "\n",
    "test['month_days'] = 30\n",
    "test['date_block_num'] = 34\n",
    "\n",
    "test = pd.merge(test, items[['item_id','item_category_id']], how='left', on='item_id')\n",
    "test = pd.merge(test, categories[['item_category_id','cat_name1','cat_name2']], how='left', on='item_category_id')\n",
    "\n",
    "test['itemshop_id'] = test['item_id'] * 100 + test['shop_id']\n"
   ]
  },
  {
   "cell_type": "code",
   "execution_count": 20,
   "metadata": {},
   "outputs": [],
   "source": [
    "del sales, categories, sales_month, items"
   ]
  },
  {
   "cell_type": "markdown",
   "metadata": {},
   "source": [
    "## Conjunt de validació"
   ]
  },
  {
   "cell_type": "code",
   "execution_count": 21,
   "metadata": {},
   "outputs": [],
   "source": [
    "# Finestra temporal en mesos\n",
    "WINDOW = 6\n",
    "\n",
    "# Mes de validació\n",
    "EVAL_BLOCK = 33\n",
    "\n",
    "# Mes d'inici de l'entrenament\n",
    "FIRST_MONTH = EVAL_BLOCK - WINDOW"
   ]
  },
  {
   "cell_type": "code",
   "execution_count": 22,
   "metadata": {},
   "outputs": [],
   "source": [
    "# Conjunt d'entrenament i validació\n",
    "\n",
    "train_sales = train.loc[(train['date_block_num']>=FIRST_MONTH)&(train['date_block_num']<EVAL_BLOCK),:]\n",
    "train_eval = train.loc[train['date_block_num']==EVAL_BLOCK,:]"
   ]
  },
  {
   "cell_type": "code",
   "execution_count": 44,
   "metadata": {},
   "outputs": [],
   "source": [
    "# Atributs categòrics\n",
    "\n",
    "cat_feats = ['itemshop_id','item_id','shop_id','item_category_id','cat_name1','cat_name2']"
   ]
  },
  {
   "cell_type": "code",
   "execution_count": 24,
   "metadata": {},
   "outputs": [],
   "source": [
    "# Frequency encoding: item_cnt\n",
    "\n",
    "for attrib in cat_feats:\n",
    "    cnt = train_sales.groupby([attrib], as_index=False)\\\n",
    "                        .agg({'item_cnt':'sum'})\\\n",
    "                        .rename(columns={'item_cnt': (attrib + '_freq')})\n",
    "\n",
    "    train_sales = pd.merge(train_sales, cnt, how='left', on=attrib)\n",
    "    train_eval = pd.merge(train_eval, cnt, how='left', on=attrib)"
   ]
  },
  {
   "cell_type": "code",
   "execution_count": 25,
   "metadata": {},
   "outputs": [],
   "source": [
    "# Eliminem atributs\n",
    "\n",
    "train_sales.drop(cat_feats, 1, inplace=True)\n",
    "train_eval.drop(cat_feats, 1, inplace=True)\n",
    "\n",
    "train_sales.drop('income', 1, inplace=True)\n",
    "train_eval.drop('income', 1, inplace=True)"
   ]
  },
  {
   "cell_type": "code",
   "execution_count": 26,
   "metadata": {},
   "outputs": [
    {
     "data": {
      "text/html": [
       "<div>\n",
       "<style scoped>\n",
       "    .dataframe tbody tr th:only-of-type {\n",
       "        vertical-align: middle;\n",
       "    }\n",
       "\n",
       "    .dataframe tbody tr th {\n",
       "        vertical-align: top;\n",
       "    }\n",
       "\n",
       "    .dataframe thead th {\n",
       "        text-align: right;\n",
       "    }\n",
       "</style>\n",
       "<table border=\"1\" class=\"dataframe\">\n",
       "  <thead>\n",
       "    <tr style=\"text-align: right;\">\n",
       "      <th></th>\n",
       "      <th>date_block_num</th>\n",
       "      <th>month_days</th>\n",
       "      <th>item_cnt</th>\n",
       "      <th>itemshop_id_freq</th>\n",
       "      <th>item_id_freq</th>\n",
       "      <th>shop_id_freq</th>\n",
       "      <th>item_category_id_freq</th>\n",
       "      <th>cat_name1_freq</th>\n",
       "      <th>cat_name2_freq</th>\n",
       "    </tr>\n",
       "  </thead>\n",
       "  <tbody>\n",
       "    <tr>\n",
       "      <th>0</th>\n",
       "      <td>27</td>\n",
       "      <td>30</td>\n",
       "      <td>0.0</td>\n",
       "      <td>7.0</td>\n",
       "      <td>483.0</td>\n",
       "      <td>5772.0</td>\n",
       "      <td>19265.0</td>\n",
       "      <td>74843.0</td>\n",
       "      <td>19881.0</td>\n",
       "    </tr>\n",
       "    <tr>\n",
       "      <th>1</th>\n",
       "      <td>27</td>\n",
       "      <td>30</td>\n",
       "      <td>0.0</td>\n",
       "      <td>0.0</td>\n",
       "      <td>0.0</td>\n",
       "      <td>5772.0</td>\n",
       "      <td>32701.0</td>\n",
       "      <td>36913.0</td>\n",
       "      <td>32701.0</td>\n",
       "    </tr>\n",
       "    <tr>\n",
       "      <th>2</th>\n",
       "      <td>27</td>\n",
       "      <td>30</td>\n",
       "      <td>0.0</td>\n",
       "      <td>9.0</td>\n",
       "      <td>446.0</td>\n",
       "      <td>5772.0</td>\n",
       "      <td>19265.0</td>\n",
       "      <td>74843.0</td>\n",
       "      <td>19881.0</td>\n",
       "    </tr>\n",
       "    <tr>\n",
       "      <th>3</th>\n",
       "      <td>27</td>\n",
       "      <td>30</td>\n",
       "      <td>0.0</td>\n",
       "      <td>1.0</td>\n",
       "      <td>112.0</td>\n",
       "      <td>5772.0</td>\n",
       "      <td>15865.0</td>\n",
       "      <td>74843.0</td>\n",
       "      <td>17339.0</td>\n",
       "    </tr>\n",
       "    <tr>\n",
       "      <th>4</th>\n",
       "      <td>27</td>\n",
       "      <td>30</td>\n",
       "      <td>0.0</td>\n",
       "      <td>0.0</td>\n",
       "      <td>0.0</td>\n",
       "      <td>5772.0</td>\n",
       "      <td>30153.0</td>\n",
       "      <td>74843.0</td>\n",
       "      <td>34484.0</td>\n",
       "    </tr>\n",
       "  </tbody>\n",
       "</table>\n",
       "</div>"
      ],
      "text/plain": [
       "   date_block_num  month_days  item_cnt  itemshop_id_freq  item_id_freq  \\\n",
       "0              27          30       0.0               7.0         483.0   \n",
       "1              27          30       0.0               0.0           0.0   \n",
       "2              27          30       0.0               9.0         446.0   \n",
       "3              27          30       0.0               1.0         112.0   \n",
       "4              27          30       0.0               0.0           0.0   \n",
       "\n",
       "   shop_id_freq  item_category_id_freq  cat_name1_freq  cat_name2_freq  \n",
       "0        5772.0                19265.0         74843.0         19881.0  \n",
       "1        5772.0                32701.0         36913.0         32701.0  \n",
       "2        5772.0                19265.0         74843.0         19881.0  \n",
       "3        5772.0                15865.0         74843.0         17339.0  \n",
       "4        5772.0                30153.0         74843.0         34484.0  "
      ]
     },
     "execution_count": 26,
     "metadata": {},
     "output_type": "execute_result"
    }
   ],
   "source": [
    "train_sales.head()"
   ]
  },
  {
   "cell_type": "code",
   "execution_count": 27,
   "metadata": {},
   "outputs": [],
   "source": [
    "# Exportem les dades a CSV\n",
    "\n",
    "train_sales.to_csv('train_sales.csv', index=False)\n",
    "train_eval.to_csv('train_eval.csv', index=False)"
   ]
  },
  {
   "cell_type": "code",
   "execution_count": 28,
   "metadata": {},
   "outputs": [],
   "source": [
    "del train_sales, train_eval"
   ]
  },
  {
   "cell_type": "markdown",
   "metadata": {},
   "source": [
    "## Preprocessament per a la predicció"
   ]
  },
  {
   "cell_type": "code",
   "execution_count": 29,
   "metadata": {},
   "outputs": [],
   "source": [
    "# TRAIN\n",
    "\n",
    "TEST_BLOCK = EVAL_BLOCK + 1\n",
    "FIRST_MONTH = TEST_BLOCK - WINDOW\n",
    "\n",
    "# Finestra temporal\n",
    "train = train.loc[train['date_block_num']>=FIRST_MONTH,:]\n",
    "\n",
    "# Frequency encoding: item_cnt\n",
    "for attrib in cat_feats:\n",
    "    cnt = train.groupby([attrib], as_index=False)\\\n",
    "                        .agg({'item_cnt':'sum'})\\\n",
    "                        .rename(columns={'item_cnt': (attrib + '_freq')})\n",
    "\n",
    "    train = pd.merge(train, cnt, how='left', on=attrib)\n",
    "    test = pd.merge(test, cnt, how='left', on=attrib)"
   ]
  },
  {
   "cell_type": "code",
   "execution_count": 30,
   "metadata": {},
   "outputs": [],
   "source": [
    "# Eliminem atributs\n",
    "\n",
    "train.drop(cat_feats, 1, inplace=True)\n",
    "test.drop(cat_feats, 1, inplace=True)\n",
    "\n",
    "train.drop('income', 1, inplace=True)"
   ]
  },
  {
   "cell_type": "code",
   "execution_count": 31,
   "metadata": {},
   "outputs": [],
   "source": [
    "# Exportem CSV\n",
    "\n",
    "train.to_csv('train.csv', index=False)\n",
    "test.to_csv('test.csv', index=False)"
   ]
  }
 ],
 "metadata": {
  "kernelspec": {
   "display_name": "Python 3",
   "language": "python",
   "name": "python3"
  },
  "language_info": {
   "codemirror_mode": {
    "name": "ipython",
    "version": 3
   },
   "file_extension": ".py",
   "mimetype": "text/x-python",
   "name": "python",
   "nbconvert_exporter": "python",
   "pygments_lexer": "ipython3",
   "version": "3.6.8"
  }
 },
 "nbformat": 4,
 "nbformat_minor": 2
}
