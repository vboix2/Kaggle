{
 "cells": [
  {
   "cell_type": "markdown",
   "metadata": {},
   "source": [
    "# Predict Future Sales\n",
    "\n",
    "Final project for \"How to win a Data Science Competition\"\n",
    "\n",
    "* https://www.kaggle.com/c/competitive-data-science-predict-future-sales/data\n",
    "* https://www.coursera.org/learn/competitive-data-science/home/welcome"
   ]
  },
  {
   "cell_type": "code",
   "execution_count": 5,
   "metadata": {},
   "outputs": [],
   "source": [
    "# Importació de mòduls\n",
    "\n",
    "import numpy as np\n",
    "import pandas as pd\n",
    "import matplotlib.pyplot as plt\n",
    "%matplotlib inline\n",
    "\n",
    "from sklearn.model_selection import GridSearchCV\n",
    "from sklearn.metrics import mean_squared_error\n",
    "from xgboost import XGBRegressor\n",
    "from xgboost import plot_importance\n",
    "\n",
    "import warnings\n",
    "warnings.filterwarnings('ignore')"
   ]
  },
  {
   "cell_type": "code",
   "execution_count": 2,
   "metadata": {},
   "outputs": [],
   "source": [
    "# Importació de dades\n",
    "\n",
    "train_sales = pd.read_csv('train_sales.csv')\n",
    "train_eval = pd.read_csv('train_eval.csv')"
   ]
  },
  {
   "cell_type": "code",
   "execution_count": 3,
   "metadata": {},
   "outputs": [],
   "source": [
    "# Conjunts d'entrenament i validació\n",
    "\n",
    "X_train = train_sales.drop('item_cnt', 1)\n",
    "y_train = train_sales['item_cnt'].clip(0,20)\n",
    "\n",
    "X_eval = train_eval.drop('item_cnt', 1)\n",
    "y_eval = train_eval['item_cnt'].clip(0,20)\n",
    "\n",
    "del train_sales, train_eval"
   ]
  },
  {
   "cell_type": "code",
   "execution_count": 10,
   "metadata": {},
   "outputs": [
    {
     "data": {
      "text/html": [
       "<div>\n",
       "<style scoped>\n",
       "    .dataframe tbody tr th:only-of-type {\n",
       "        vertical-align: middle;\n",
       "    }\n",
       "\n",
       "    .dataframe tbody tr th {\n",
       "        vertical-align: top;\n",
       "    }\n",
       "\n",
       "    .dataframe thead th {\n",
       "        text-align: right;\n",
       "    }\n",
       "</style>\n",
       "<table border=\"1\" class=\"dataframe\">\n",
       "  <thead>\n",
       "    <tr style=\"text-align: right;\">\n",
       "      <th></th>\n",
       "      <th>mean_fit_time</th>\n",
       "      <th>std_fit_time</th>\n",
       "      <th>mean_score_time</th>\n",
       "      <th>std_score_time</th>\n",
       "      <th>param_max_depth</th>\n",
       "      <th>param_n_estimators</th>\n",
       "      <th>params</th>\n",
       "      <th>split0_test_score</th>\n",
       "      <th>split1_test_score</th>\n",
       "      <th>split2_test_score</th>\n",
       "      <th>mean_test_score</th>\n",
       "      <th>std_test_score</th>\n",
       "      <th>rank_test_score</th>\n",
       "    </tr>\n",
       "  </thead>\n",
       "  <tbody>\n",
       "    <tr>\n",
       "      <th>1</th>\n",
       "      <td>25.836323</td>\n",
       "      <td>0.368074</td>\n",
       "      <td>0.394687</td>\n",
       "      <td>0.018607</td>\n",
       "      <td>12</td>\n",
       "      <td>10</td>\n",
       "      <td>{'max_depth': 12, 'n_estimators': 10}</td>\n",
       "      <td>0.418616</td>\n",
       "      <td>0.501391</td>\n",
       "      <td>0.388911</td>\n",
       "      <td>0.436306</td>\n",
       "      <td>0.047593</td>\n",
       "      <td>2</td>\n",
       "    </tr>\n",
       "    <tr>\n",
       "      <th>0</th>\n",
       "      <td>17.051618</td>\n",
       "      <td>0.738062</td>\n",
       "      <td>0.292006</td>\n",
       "      <td>0.015582</td>\n",
       "      <td>8</td>\n",
       "      <td>10</td>\n",
       "      <td>{'max_depth': 8, 'n_estimators': 10}</td>\n",
       "      <td>0.442681</td>\n",
       "      <td>0.509893</td>\n",
       "      <td>0.420143</td>\n",
       "      <td>0.457572</td>\n",
       "      <td>0.038123</td>\n",
       "      <td>1</td>\n",
       "    </tr>\n",
       "  </tbody>\n",
       "</table>\n",
       "</div>"
      ],
      "text/plain": [
       "   mean_fit_time  std_fit_time  mean_score_time  std_score_time  \\\n",
       "1      25.836323      0.368074         0.394687        0.018607   \n",
       "0      17.051618      0.738062         0.292006        0.015582   \n",
       "\n",
       "  param_max_depth param_n_estimators                                 params  \\\n",
       "1              12                 10  {'max_depth': 12, 'n_estimators': 10}   \n",
       "0               8                 10   {'max_depth': 8, 'n_estimators': 10}   \n",
       "\n",
       "   split0_test_score  split1_test_score  split2_test_score  mean_test_score  \\\n",
       "1           0.418616           0.501391           0.388911         0.436306   \n",
       "0           0.442681           0.509893           0.420143         0.457572   \n",
       "\n",
       "   std_test_score  rank_test_score  \n",
       "1        0.047593                2  \n",
       "0        0.038123                1  "
      ]
     },
     "execution_count": 10,
     "metadata": {},
     "output_type": "execute_result"
    }
   ],
   "source": [
    "# Grid Search\n",
    "\n",
    "parameters = {'n_estimators':[10,20], 'max_depth':[12], 'objective'='reg:squarederror'}\n",
    "model = XGBRegressor()\n",
    "search = GridSearchCV(model, parameters, cv=3, return_train_score=False)\n",
    "search.fit(X_train, y_train)\n",
    "\n",
    "resultat = pd.DataFrame(search.cv_results_)\n",
    "resultat.sort_values(by='mean_test_score', ascending=True)"
   ]
  },
  {
   "cell_type": "code",
   "execution_count": 7,
   "metadata": {},
   "outputs": [
    {
     "name": "stdout",
     "output_type": "stream",
     "text": [
      "[0]\tvalidation_0-rmse:1.00538\tvalidation_1-rmse:1.07136\n",
      "[1]\tvalidation_0-rmse:0.952189\tvalidation_1-rmse:1.03413\n",
      "[2]\tvalidation_0-rmse:0.901466\tvalidation_1-rmse:1.00874\n",
      "[3]\tvalidation_0-rmse:0.863946\tvalidation_1-rmse:0.985374\n",
      "[4]\tvalidation_0-rmse:0.824043\tvalidation_1-rmse:0.968659\n",
      "[5]\tvalidation_0-rmse:0.795454\tvalidation_1-rmse:0.955421\n",
      "[6]\tvalidation_0-rmse:0.774804\tvalidation_1-rmse:0.944586\n",
      "[7]\tvalidation_0-rmse:0.75\tvalidation_1-rmse:0.93688\n",
      "[8]\tvalidation_0-rmse:0.73341\tvalidation_1-rmse:0.930415\n",
      "[9]\tvalidation_0-rmse:0.716124\tvalidation_1-rmse:0.927981\n",
      "[10]\tvalidation_0-rmse:0.704926\tvalidation_1-rmse:0.925984\n",
      "[11]\tvalidation_0-rmse:0.694011\tvalidation_1-rmse:0.923321\n",
      "[12]\tvalidation_0-rmse:0.685941\tvalidation_1-rmse:0.923029\n",
      "[13]\tvalidation_0-rmse:0.671622\tvalidation_1-rmse:0.923521\n",
      "[14]\tvalidation_0-rmse:0.665794\tvalidation_1-rmse:0.923779\n"
     ]
    },
    {
     "data": {
      "text/plain": [
       "XGBRegressor(base_score=0.5, booster='gbtree', colsample_bylevel=1,\n",
       "             colsample_bynode=1, colsample_bytree=1, gamma=0,\n",
       "             importance_type='gain', learning_rate=0.1, max_delta_step=0,\n",
       "             max_depth=8, min_child_weight=1, missing=None, n_estimators=15,\n",
       "             n_jobs=1, nthread=None, objective='reg:squarederror',\n",
       "             random_state=0, reg_alpha=0, reg_lambda=1, scale_pos_weight=1,\n",
       "             seed=None, silent=None, subsample=1, verbosity=1)"
      ]
     },
     "execution_count": 7,
     "metadata": {},
     "output_type": "execute_result"
    }
   ],
   "source": [
    "# Entrenament\n",
    "\n",
    "model = XGBRegressor(n_estimators= 15, max_depth=12, objective='reg:squarederror')\n",
    "model.fit(X_train, y_train, eval_metric=\"rmse\", eval_set=[(X_train, y_train), (X_eval, y_eval)])"
   ]
  },
  {
   "cell_type": "code",
   "execution_count": 6,
   "metadata": {
    "scrolled": true
   },
   "outputs": [
    {
     "data": {
      "text/plain": [
       "0.9250438851917503"
      ]
     },
     "execution_count": 6,
     "metadata": {},
     "output_type": "execute_result"
    }
   ],
   "source": [
    "# RMSE del conjunt de validació\n",
    "\n",
    "y_pred = model.predict(X_eval)\n",
    "np.sqrt(mean_squared_error(y_pred.clip(0,20), y_eval))"
   ]
  },
  {
   "cell_type": "code",
   "execution_count": 15,
   "metadata": {},
   "outputs": [
    {
     "data": {
      "text/plain": [
       "<matplotlib.axes._subplots.AxesSubplot at 0x126533dd8>"
      ]
     },
     "execution_count": 15,
     "metadata": {},
     "output_type": "execute_result"
    },
    {
     "data": {
      "image/png": "[encoded data removed]",
      "text/plain": [
       "<Figure size 720x1008 with 1 Axes>"
      ]
     },
     "metadata": {
      "needs_background": "light"
     },
     "output_type": "display_data"
    }
   ],
   "source": [
    "# Importància dels atributs\n",
    "\n",
    "fig, ax = plt.subplots(1,1,figsize=(10,14))\n",
    "plot_importance(booster=model, ax=ax)"
   ]
  },
  {
   "cell_type": "markdown",
   "metadata": {},
   "source": [
    "## Predicció"
   ]
  },
  {
   "cell_type": "code",
   "execution_count": 11,
   "metadata": {},
   "outputs": [],
   "source": [
    "# Dades\n",
    "\n",
    "train = pd.read_csv('train.csv')\n",
    "test = pd.read_csv('test.csv')\n",
    "\n",
    "X = train.drop('item_cnt', 1)\n",
    "y = train['item_cnt'].clip(0,20)"
   ]
  },
  {
   "cell_type": "code",
   "execution_count": 12,
   "metadata": {
    "scrolled": false
   },
   "outputs": [
    {
     "name": "stdout",
     "output_type": "stream",
     "text": [
      "[0]\tvalidation_0-rmse:0.998572\n",
      "[1]\tvalidation_0-rmse:0.937765\n",
      "[2]\tvalidation_0-rmse:0.880901\n",
      "[3]\tvalidation_0-rmse:0.835832\n",
      "[4]\tvalidation_0-rmse:0.792022\n",
      "[5]\tvalidation_0-rmse:0.75706\n",
      "[6]\tvalidation_0-rmse:0.729182\n",
      "[7]\tvalidation_0-rmse:0.697069\n",
      "[8]\tvalidation_0-rmse:0.674709\n",
      "[9]\tvalidation_0-rmse:0.65435\n",
      "[10]\tvalidation_0-rmse:0.638751\n",
      "[11]\tvalidation_0-rmse:0.622675\n",
      "[12]\tvalidation_0-rmse:0.609623\n",
      "[13]\tvalidation_0-rmse:0.591777\n",
      "[14]\tvalidation_0-rmse:0.581575\n",
      "[15]\tvalidation_0-rmse:0.572783\n",
      "[16]\tvalidation_0-rmse:0.561887\n",
      "[17]\tvalidation_0-rmse:0.55426\n",
      "[18]\tvalidation_0-rmse:0.546673\n",
      "[19]\tvalidation_0-rmse:0.539405\n",
      "[20]\tvalidation_0-rmse:0.533767\n",
      "[21]\tvalidation_0-rmse:0.528384\n",
      "[22]\tvalidation_0-rmse:0.523632\n",
      "[23]\tvalidation_0-rmse:0.518914\n",
      "[24]\tvalidation_0-rmse:0.514892\n"
     ]
    }
   ],
   "source": [
    "# Entrenament\n",
    "\n",
    "model = XGBRegressor(max_depth=12, n_estimators= 25, objective='reg:squarederror')\\\n",
    "                    .fit(X, y, eval_metric=\"rmse\", eval_set=[(X,y)])"
   ]
  },
  {
   "cell_type": "code",
   "execution_count": 13,
   "metadata": {
    "scrolled": false
   },
   "outputs": [],
   "source": [
    "# Predicció\n",
    "\n",
    "y_pred = model.predict(test[X.columns]).clip(0,20)\n",
    "submission = pd.DataFrame({'ID':test['ID'], 'item_cnt_month': y_pred})\n",
    "submission.to_csv('submission.csv', index = False)"
   ]
  },
  {
   "cell_type": "code",
   "execution_count": 14,
   "metadata": {},
   "outputs": [
    {
     "data": {
      "text/plain": [
       "0.5156962412681523"
      ]
     },
     "execution_count": 14,
     "metadata": {},
     "output_type": "execute_result"
    }
   ],
   "source": [
    "# RMSE al conjunt d'entrenament\n",
    "\n",
    "np.sqrt(mean_squared_error(model.predict(train[X.columns]), y))"
   ]
  },
  {
   "cell_type": "markdown",
   "metadata": {},
   "source": [
    "RMSE al conjunt test (public score): 1.06197"
   ]
  }
 ],
 "metadata": {
  "kernelspec": {
   "display_name": "Python 3",
   "language": "python",
   "name": "python3"
  },
  "language_info": {
   "codemirror_mode": {
    "name": "ipython",
    "version": 3
   },
   "file_extension": ".py",
   "mimetype": "text/x-python",
   "name": "python",
   "nbconvert_exporter": "python",
   "pygments_lexer": "ipython3",
   "version": "3.6.8"
  }
 },
 "nbformat": 4,
 "nbformat_minor": 2
}
