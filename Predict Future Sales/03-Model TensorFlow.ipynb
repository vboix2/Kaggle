{
 "cells": [
  {
   "cell_type": "code",
   "execution_count": 1,
   "metadata": {},
   "outputs": [],
   "source": [
    "# Importació de mòduls\n",
    "\n",
    "import pandas as pd\n",
    "import tensorflow as tf"
   ]
  },
  {
   "cell_type": "code",
   "execution_count": null,
   "metadata": {},
   "outputs": [],
   "source": [
    "# Accés a Google Drive\n",
    "\n",
    "from google.colab import drive\n",
    "drive.mount(\"/content/drive\")"
   ]
  },
  {
   "cell_type": "code",
   "execution_count": null,
   "metadata": {},
   "outputs": [],
   "source": [
    "# Importació de dades\n",
    "\n",
    "# Google Drive\n",
    "df_train = pd.read_csv('/content/drive/My Drive/Kaggle/train_sales.csv')\n",
    "df_eval = pd.read_csv('/content/drive/My Drive/Kaggle/train_eval.csv')\n",
    "\n",
    "# Local\n",
    "#df_train = pd.read_csv('train_sales.csv')\n",
    "#df_eval = pd.read_csv('train_eval.csv')\n",
    "\n",
    "y_train = df_train.pop('item_cnt').clip(0,20)\n",
    "y_eval = df_eval.pop('item_cnt').clip(0,20)"
   ]
  },
  {
   "cell_type": "code",
   "execution_count": 46,
   "metadata": {},
   "outputs": [],
   "source": [
    "# Funció que defineix els atributs a TF\n",
    "\n",
    "NUMERIC_COLUMNS = ['date_block_num','month_days','itemshop_id_freq','item_id_freq','shop_id_freq',\n",
    "                   'item_category_id_freq','cat_name1_freq','cat_name2_freq']\n",
    "\n",
    "feature_columns = []\n",
    "\n",
    "for feature_name in NUMERIC_COLUMNS:\n",
    "      feature_columns.append(tf.feature_column.numeric_column(feature_name,dtype=tf.float32))\n",
    "        "
   ]
  },
  {
   "cell_type": "code",
   "execution_count": 47,
   "metadata": {},
   "outputs": [],
   "source": [
    "# Funcions d'entrada de dades\n",
    "\n",
    "NUM_EXAMPLES = len(y_train)\n",
    "\n",
    "def make_input_fn(X, y, n_epochs=None, shuffle=True):\n",
    "    def input_fn():\n",
    "        dataset = tf.data.Dataset.from_tensor_slices((dict(X), y))\n",
    "        if shuffle:\n",
    "            dataset = dataset.shuffle(NUM_EXAMPLES)\n",
    "\n",
    "        dataset = dataset.repeat(n_epochs)\n",
    "        dataset = dataset.batch(NUM_EXAMPLES)\n",
    "        \n",
    "        return dataset\n",
    "\n",
    "    return input_fn\n",
    "\n",
    "train_input_fn = make_input_fn(df_train, y_train)\n",
    "eval_input_fn = make_input_fn(df_eval, y_eval, shuffle=False, n_epochs=1)"
   ]
  },
  {
   "cell_type": "code",
   "execution_count": null,
   "metadata": {
    "scrolled": false
   },
   "outputs": [
    {
     "name": "stdout",
     "output_type": "stream",
     "text": [
      "INFO:tensorflow:Using default config.\n",
      "INFO:tensorflow:Using config: {'_model_dir': './trained_model', '_tf_random_seed': None, '_save_summary_steps': 100, '_save_checkpoints_steps': None, '_save_checkpoints_secs': 600, '_session_config': allow_soft_placement: true\n",
      "graph_options {\n",
      "  rewrite_options {\n",
      "    meta_optimizer_iterations: ONE\n",
      "  }\n",
      "}\n",
      ", '_keep_checkpoint_max': 5, '_keep_checkpoint_every_n_hours': 10000, '_log_step_count_steps': 100, '_train_distribute': None, '_device_fn': None, '_protocol': None, '_eval_distribute': None, '_experimental_distribute': None, '_experimental_max_worker_delay_secs': None, '_session_creation_timeout_secs': 7200, '_service': None, '_cluster_spec': ClusterSpec({}), '_task_type': 'worker', '_task_id': 0, '_global_id_in_cluster': 0, '_master': '', '_evaluation_master': '', '_is_chief': True, '_num_ps_replicas': 0, '_num_worker_replicas': 1}\n",
      "INFO:tensorflow:Calling model_fn.\n",
      "INFO:tensorflow:Done calling model_fn.\n",
      "INFO:tensorflow:Create CheckpointSaverHook.\n",
      "INFO:tensorflow:Graph was finalized.\n",
      "INFO:tensorflow:Running local_init_op.\n",
      "INFO:tensorflow:Done running local_init_op.\n",
      "WARNING:tensorflow:Issue encountered when serializing resources.\n",
      "Type is unsupported, or the types of the items don't match field type in CollectionDef. Note this is a warning and probably safe to ignore.\n",
      "'_Resource' object has no attribute 'name'\n",
      "INFO:tensorflow:Calling checkpoint listeners before saving checkpoint 0...\n",
      "INFO:tensorflow:Saving checkpoints for 0 into ./trained_model/model.ckpt.\n",
      "WARNING:tensorflow:Issue encountered when serializing resources.\n",
      "Type is unsupported, or the types of the items don't match field type in CollectionDef. Note this is a warning and probably safe to ignore.\n",
      "'_Resource' object has no attribute 'name'\n",
      "INFO:tensorflow:Calling checkpoint listeners after saving checkpoint 0...\n",
      "INFO:tensorflow:loss = 1.1244911, step = 0\n",
      "WARNING:tensorflow:It seems that global step (tf.train.get_global_step) has not been increased. Current value (could be stable): 0 vs previous value: 0. You could increase the global step by passing tf.train.get_global_step() to Optimizer.apply_gradients or Optimizer.minimize.\n"
     ]
    }
   ],
   "source": [
    "est = tf.estimator.BoostedTreesRegressor(feature_columns, n_batches_per_layer=1)\n",
    "\n",
    "# Train model.\n",
    "est.train(train_input_fn, max_steps=100)\n",
    "\n",
    "# Evaluation.\n",
    "result = est.evaluate(eval_input_fn)\n",
    "print(pd.Series(result))\n"
   ]
  },
  {
   "cell_type": "code",
   "execution_count": 6,
   "metadata": {
    "scrolled": true
   },
   "outputs": [
    {
     "data": {
      "text/plain": [
       "0.9250438851917503"
      ]
     },
     "execution_count": 6,
     "metadata": {},
     "output_type": "execute_result"
    }
   ],
   "source": [
    "# RMSE del conjunt de validació\n",
    "\n",
    "y_pred = model.predict(X_eval)\n",
    "np.sqrt(mean_squared_error(y_pred.clip(0,20), y_eval))"
   ]
  },
  {
   "cell_type": "markdown",
   "metadata": {},
   "source": [
    "## Predicció"
   ]
  },
  {
   "cell_type": "code",
   "execution_count": 11,
   "metadata": {},
   "outputs": [],
   "source": [
    "# Dades\n",
    "\n",
    "train = pd.read_csv('train.csv')\n",
    "test = pd.read_csv('test.csv')\n",
    "\n",
    "X = train.drop('item_cnt', 1)\n",
    "y = train['item_cnt'].clip(0,20)"
   ]
  },
  {
   "cell_type": "code",
   "execution_count": 12,
   "metadata": {
    "scrolled": false
   },
   "outputs": [
    {
     "name": "stdout",
     "output_type": "stream",
     "text": [
      "[0]\tvalidation_0-rmse:0.998572\n",
      "[1]\tvalidation_0-rmse:0.937765\n",
      "[2]\tvalidation_0-rmse:0.880901\n",
      "[3]\tvalidation_0-rmse:0.835832\n",
      "[4]\tvalidation_0-rmse:0.792022\n",
      "[5]\tvalidation_0-rmse:0.75706\n",
      "[6]\tvalidation_0-rmse:0.729182\n",
      "[7]\tvalidation_0-rmse:0.697069\n",
      "[8]\tvalidation_0-rmse:0.674709\n",
      "[9]\tvalidation_0-rmse:0.65435\n",
      "[10]\tvalidation_0-rmse:0.638751\n",
      "[11]\tvalidation_0-rmse:0.622675\n",
      "[12]\tvalidation_0-rmse:0.609623\n",
      "[13]\tvalidation_0-rmse:0.591777\n",
      "[14]\tvalidation_0-rmse:0.581575\n",
      "[15]\tvalidation_0-rmse:0.572783\n",
      "[16]\tvalidation_0-rmse:0.561887\n",
      "[17]\tvalidation_0-rmse:0.55426\n",
      "[18]\tvalidation_0-rmse:0.546673\n",
      "[19]\tvalidation_0-rmse:0.539405\n",
      "[20]\tvalidation_0-rmse:0.533767\n",
      "[21]\tvalidation_0-rmse:0.528384\n",
      "[22]\tvalidation_0-rmse:0.523632\n",
      "[23]\tvalidation_0-rmse:0.518914\n",
      "[24]\tvalidation_0-rmse:0.514892\n"
     ]
    }
   ],
   "source": [
    "# Entrenament\n",
    "\n",
    "model = XGBRegressor(max_depth=12, n_estimators= 25, objective='reg:squarederror')\\\n",
    "                    .fit(X, y, eval_metric=\"rmse\", eval_set=[(X,y)])"
   ]
  },
  {
   "cell_type": "code",
   "execution_count": 13,
   "metadata": {
    "scrolled": false
   },
   "outputs": [],
   "source": [
    "# Predicció\n",
    "\n",
    "y_pred = model.predict(test[X.columns]).clip(0,20)\n",
    "submission = pd.DataFrame({'ID':test['ID'], 'item_cnt_month': y_pred})\n",
    "submission.to_csv('submission.csv', index = False)"
   ]
  },
  {
   "cell_type": "code",
   "execution_count": 14,
   "metadata": {},
   "outputs": [
    {
     "data": {
      "text/plain": [
       "0.5156962412681523"
      ]
     },
     "execution_count": 14,
     "metadata": {},
     "output_type": "execute_result"
    }
   ],
   "source": [
    "# RMSE al conjunt d'entrenament\n",
    "\n",
    "np.sqrt(mean_squared_error(model.predict(train[X.columns]), y))"
   ]
  },
  {
   "cell_type": "markdown",
   "metadata": {},
   "source": [
    "RMSE al conjunt test (public score): 1.06197"
   ]
  }
 ],
 "metadata": {
  "kernelspec": {
   "display_name": "Python 3",
   "language": "python",
   "name": "python3"
  },
  "language_info": {
   "codemirror_mode": {
    "name": "ipython",
    "version": 3
   },
   "file_extension": ".py",
   "mimetype": "text/x-python",
   "name": "python",
   "nbconvert_exporter": "python",
   "pygments_lexer": "ipython3",
   "version": "3.6.8"
  }
 },
 "nbformat": 4,
 "nbformat_minor": 2
}
